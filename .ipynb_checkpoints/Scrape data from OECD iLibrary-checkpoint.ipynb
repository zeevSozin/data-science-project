{
 "cells": [
  {
   "cell_type": "code",
   "execution_count": 1,
   "id": "404fe931",
   "metadata": {},
   "outputs": [
    {
     "name": "stderr",
     "output_type": "stream",
     "text": [
      "\n",
      "\n",
      "\n",
      "\n",
      "====== WebDriver manager ======\n",
      "====== WebDriver manager ======\n",
      "Current google-chrome version is 101.0.4951\n",
      "Current google-chrome version is 101.0.4951\n",
      "Get LATEST chromedriver version for 101.0.4951 google-chrome\n",
      "Get LATEST chromedriver version for 101.0.4951 google-chrome\n",
      "Driver [C:\\Users\\vova\\.wdm\\drivers\\chromedriver\\win32\\101.0.4951.41\\chromedriver.exe] found in cache\n",
      "Driver [C:\\Users\\vova\\.wdm\\drivers\\chromedriver\\win32\\101.0.4951.41\\chromedriver.exe] found in cache\n"
     ]
    }
   ],
   "source": [
    "import CrawlingSearchOECD\n",
    "import selenium\n",
    "import time\n",
    "import requests\n",
    "from selenium.webdriver.common.action_chains import ActionChains\n",
    "from selenium.webdriver.chrome.options import Options\n",
    "from selenium.webdriver.common.proxy import Proxy\n",
    "from CrawlingSearchOECD import webdriver\n",
    "from CrawlingSearchOECD import By\n",
    "from CrawlingSearchOECD import chrome_options\n",
    "from CrawlingSearchOECD import chrome_service\n",
    "import proxy_randomizer\n",
    "from proxy_randomizer import getProxList\n",
    "import random\n",
    "from bs4 import BeautifulSoup"
   ]
  },
  {
   "cell_type": "code",
   "execution_count": 2,
   "id": "be83a024",
   "metadata": {
    "scrolled": false
   },
   "outputs": [
    {
     "name": "stdout",
     "output_type": "stream",
     "text": [
      "The latest publicated year is:2021 [2]\n",
      "The title of the reaserch is:\n",
      "Road accidents (Edition 2020) Dataset Archive English\n",
      "09 Mar 2021 International Transport Forum in ITF Transport Statistics\n",
      "The Phrase is found\n",
      "Heare are another options of Datasets:\n",
      "                                            Datasets  \\\n",
      "0                                    Goods transport   \n",
      "1                                Passenger transport   \n",
      "2                                     Road accidents   \n",
      "3                    Short-term transport indicators   \n",
      "4  Transport infrastructure investment and mainte...   \n",
      "5                   Transport performance indicators   \n",
      "6                     Road haulage charges and taxes   \n",
      "7                    Casualties by age and road user   \n",
      "8                             Urban access framework   \n",
      "9                        Annual transport statistics   \n",
      "\n",
      "                                                 URL  \n",
      "0  https://www.oecd-ilibrary.org/deliverdotstat?i...  \n",
      "1  https://www.oecd-ilibrary.org/deliverdotstat?i...  \n",
      "2  https://www.oecd-ilibrary.org/deliverdotstat?i...  \n",
      "3  https://www.oecd-ilibrary.org/deliverdotstat?i...  \n",
      "4  https://www.oecd-ilibrary.org/deliverdotstat?i...  \n",
      "5  https://www.oecd-ilibrary.org/deliverdotstat?i...  \n",
      "6  https://www.oecd-ilibrary.org/deliverdotstat?i...  \n",
      "7  https://www.oecd-ilibrary.org/deliverdotstat?i...  \n",
      "8  https://www.oecd-ilibrary.org/deliverdotstat?i...  \n",
      "9  https://www.oecd-ilibrary.org/deliverdotstat?i...  \n",
      "The URl of the dataset is:\n",
      "https://www.oecd-ilibrary.org/deliverdotstat?itemId=%2Fcontent%2Fdata%2Fg2g55585-en&containerItemId=%2Fcontent%2Fcollection%2Ftrsprt-data-en&baseurl=http%3A%2F%2Fstats.oecd.org%2Fwbos%2Fbrandedview.aspx%23g2g55585-en&oecdstat=trsprt-data-en&return_url=https%3A%2F%2Fwww.oecd-ilibrary.org%3A443%2Fcontent%2Fdata%2Fg2g55585-en&lang=en&cid=guest&institution_name=&doi=g2g55585-en\n"
     ]
    }
   ],
   "source": [
    "url=CrawlingSearchOECD.GetDatasetUrl(\"Road accidents\")"
   ]
  },
  {
   "cell_type": "code",
   "execution_count": 3,
   "id": "c78819bd",
   "metadata": {},
   "outputs": [
    {
     "name": "stderr",
     "output_type": "stream",
     "text": [
      "\n",
      "\n",
      "\n",
      "\n",
      "====== WebDriver manager ======\n",
      "====== WebDriver manager ======\n",
      "Current google-chrome version is 101.0.4951\n",
      "Current google-chrome version is 101.0.4951\n",
      "Get LATEST chromedriver version for 101.0.4951 google-chrome\n",
      "Get LATEST chromedriver version for 101.0.4951 google-chrome\n",
      "Driver [C:\\Users\\vova\\.wdm\\drivers\\chromedriver\\win32\\101.0.4951.41\\chromedriver.exe] found in cache\n",
      "Driver [C:\\Users\\vova\\.wdm\\drivers\\chromedriver\\win32\\101.0.4951.41\\chromedriver.exe] found in cache\n"
     ]
    }
   ],
   "source": [
    "proxies=getProxList()\n"
   ]
  },
  {
   "cell_type": "code",
   "execution_count": 4,
   "id": "5602e8c4",
   "metadata": {},
   "outputs": [],
   "source": [
    "chrome_options=Options()\n",
    "chrome_options.add_argument(\"--incognito\")"
   ]
  },
  {
   "cell_type": "code",
   "execution_count": 5,
   "id": "4b4bf3c5",
   "metadata": {},
   "outputs": [],
   "source": [
    "#chrome_options.add_argument('--proxy-server={}'.format(random.choice(proxies)))"
   ]
  },
  {
   "cell_type": "code",
   "execution_count": 6,
   "id": "a74ecdf1",
   "metadata": {},
   "outputs": [
    {
     "name": "stdout",
     "output_type": "stream",
     "text": [
      "<property object at 0x00000294B0A19130>\n"
     ]
    }
   ],
   "source": [
    "Main_page=webdriver.Chrome(options=chrome_options,service=chrome_service)\n",
    "print (webdriver.ChromeOptions.proxy)\n",
    "Main_page.get(url)\n",
    "time.sleep(4)\n"
   ]
  },
  {
   "cell_type": "code",
   "execution_count": 7,
   "id": "14b6066f",
   "metadata": {},
   "outputs": [],
   "source": [
    "# menubar_list=Main_page.find_element(By.ID,'menubar-list')\n",
    "# customize_menu=menubar_list.find_element(By.ID,'menubar-customize')\n",
    "# dimations_list=customize_menu.find_element(By.ID,'dimension-list')\n",
    "# year_option=dimations_list.find_elements(By.TAG_NAME,'li')\n",
    "# year_option=year_option[2]"
   ]
  },
  {
   "cell_type": "code",
   "execution_count": 8,
   "id": "bb4edcbf",
   "metadata": {},
   "outputs": [],
   "source": [
    "# actions= ActionChains(Main_page)\n",
    "# actions.move_to_element(customize_menu)\n",
    "# actions.move_to_element(dimations_list)\n",
    "# time.sleep(1)\n",
    "# actions.move_to_element(year_option)\n",
    "# time.sleep(1)\n",
    "# actions.click()\n",
    "# actions.perform()"
   ]
  },
  {
   "cell_type": "code",
   "execution_count": 10,
   "id": "9eeebfb6",
   "metadata": {},
   "outputs": [],
   "source": [
    "Main_table_div=Main_page.find_element(By.XPATH,'//*[@id=\"tabletofreeze\"]/table')"
   ]
  },
  {
   "cell_type": "code",
   "execution_count": 43,
   "id": "046c8d86",
   "metadata": {},
   "outputs": [],
   "source": [
    "TableName=Main_page.find_element(By.XPATH,'//*[@id=\"PDim_VARIABLE\"]/option[1]').text"
   ]
  },
  {
   "cell_type": "code",
   "execution_count": 36,
   "id": "cfbecd13",
   "metadata": {},
   "outputs": [],
   "source": [
    "TableHead=Main_page.find_element(By.XPATH,'//*[@id=\"tabletofreeze\"]/table/thead/tr[3]')"
   ]
  },
  {
   "cell_type": "code",
   "execution_count": 29,
   "id": "a76e89ef",
   "metadata": {},
   "outputs": [],
   "source": [
    "colParamList=list(['Country'])"
   ]
  },
  {
   "cell_type": "code",
   "execution_count": 37,
   "id": "ea5a2b64",
   "metadata": {},
   "outputs": [],
   "source": [
    "ColParamRange=TableHead.find_elements(By.CLASS_NAME,'HDim')"
   ]
  },
  {
   "cell_type": "code",
   "execution_count": 38,
   "id": "3c4f2b04",
   "metadata": {},
   "outputs": [
    {
     "data": {
      "text/plain": [
       "21"
      ]
     },
     "execution_count": 38,
     "metadata": {},
     "output_type": "execute_result"
    }
   ],
   "source": [
    "//*[@id=\"PDim_VARIABLE\"]/option[1]"
   ]
  },
  {
   "cell_type": "code",
   "execution_count": 39,
   "id": "ab5e26ca",
   "metadata": {},
   "outputs": [],
   "source": [
    "for item in ColParamRange:\n",
    "    colParamList.append(item.text)"
   ]
  },
  {
   "cell_type": "code",
   "execution_count": 40,
   "id": "8184c619",
   "metadata": {},
   "outputs": [
    {
     "data": {
      "text/plain": [
       "['Country',\n",
       " '2000',\n",
       " '2001',\n",
       " '2002',\n",
       " '2003',\n",
       " '2004',\n",
       " '2005',\n",
       " '2006',\n",
       " '2007',\n",
       " '2008',\n",
       " '2009',\n",
       " '2010',\n",
       " '2011',\n",
       " '2012',\n",
       " '2013',\n",
       " '2014',\n",
       " '2015',\n",
       " '2016',\n",
       " '2017',\n",
       " '2018',\n",
       " '2019',\n",
       " '2020']"
      ]
     },
     "execution_count": 40,
     "metadata": {},
     "output_type": "execute_result"
    }
   ],
   "source": [
    "colParamList"
   ]
  },
  {
   "cell_type": "code",
   "execution_count": 62,
   "id": "352afdb3",
   "metadata": {},
   "outputs": [],
   "source": [
    "TableBody=Main_page.find_element(By.XPATH,'//*[@id=\"tabletofreeze\"]/table/tbody')"
   ]
  },
  {
   "cell_type": "code",
   "execution_count": 66,
   "id": "1f8812a6",
   "metadata": {},
   "outputs": [],
   "source": [
    "TableRows=TableBody.find_elements(By.TAG_NAME,'tr')"
   ]
  },
  {
   "cell_type": "code",
   "execution_count": 76,
   "id": "32e4624d",
   "metadata": {},
   "outputs": [
    {
     "data": {
      "text/plain": [
       "96"
      ]
     },
     "execution_count": 76,
     "metadata": {},
     "output_type": "execute_result"
    }
   ],
   "source": [
    "len(TableRows)"
   ]
  },
  {
   "cell_type": "code",
   "execution_count": 70,
   "id": "45cf3bfb",
   "metadata": {},
   "outputs": [
    {
     "ename": "TypeError",
     "evalue": "'method' object is not subscriptable",
     "output_type": "error",
     "traceback": [
      "\u001b[1;31m---------------------------------------------------------------------------\u001b[0m",
      "\u001b[1;31mTypeError\u001b[0m                                 Traceback (most recent call last)",
      "\u001b[1;32m~\\AppData\\Local\\Temp/ipykernel_8176/3829845687.py\u001b[0m in \u001b[0;36m<module>\u001b[1;34m\u001b[0m\n\u001b[0;32m      4\u001b[0m     \u001b[1;32mfor\u001b[0m \u001b[0mcol\u001b[0m \u001b[1;32min\u001b[0m \u001b[0mcolumns\u001b[0m\u001b[1;33m:\u001b[0m\u001b[1;33m\u001b[0m\u001b[1;33m\u001b[0m\u001b[0m\n\u001b[0;32m      5\u001b[0m         \u001b[1;32mif\u001b[0m \u001b[1;33m(\u001b[0m\u001b[0mcol\u001b[0m\u001b[1;33m.\u001b[0m\u001b[0mtext\u001b[0m\u001b[1;33m)\u001b[0m\u001b[1;33m:\u001b[0m\u001b[1;33m\u001b[0m\u001b[1;33m\u001b[0m\u001b[0m\n\u001b[1;32m----> 6\u001b[1;33m             \u001b[0mprint\u001b[0m \u001b[1;33m(\u001b[0m\u001b[0mDict\u001b[0m\u001b[1;33m[\u001b[0m\u001b[0mTableRows\u001b[0m\u001b[1;33m[\u001b[0m\u001b[0mi\u001b[0m\u001b[1;33m]\u001b[0m\u001b[1;33m]\u001b[0m\u001b[1;33m)\u001b[0m\u001b[1;33m\u001b[0m\u001b[1;33m\u001b[0m\u001b[0m\n\u001b[0m",
      "\u001b[1;31mTypeError\u001b[0m: 'method' object is not subscriptable"
     ]
    }
   ],
   "source": [
    "\n",
    "for row in TableRows:\n",
    "    columns=row.find_elements(By.TAG_NAME,'td')\n",
    "    i=0\n",
    "    for col in columns:\n",
    "        if (col.text):\n",
    "            print (Dict[TableRows[i]])"
   ]
  },
  {
   "cell_type": "code",
   "execution_count": 71,
   "id": "4cf916d0",
   "metadata": {},
   "outputs": [
    {
     "data": {
      "text/plain": [
       "<bound method DataFrame.to_dict of Empty DataFrame\n",
       "Columns: [Country, 2000, 2001, 2002, 2003, 2004, 2005, 2006, 2007, 2008, 2009, 2010, 2011, 2012, 2013, 2014, 2015, 2016, 2017, 2018, 2019, 2020]\n",
       "Index: []\n",
       "\n",
       "[0 rows x 22 columns]>"
      ]
     },
     "execution_count": 71,
     "metadata": {},
     "output_type": "execute_result"
    }
   ],
   "source": [
    "Dict"
   ]
  }
 ],
 "metadata": {
  "kernelspec": {
   "display_name": "Python 3 (ipykernel)",
   "language": "python",
   "name": "python3"
  },
  "language_info": {
   "codemirror_mode": {
    "name": "ipython",
    "version": 3
   },
   "file_extension": ".py",
   "mimetype": "text/x-python",
   "name": "python",
   "nbconvert_exporter": "python",
   "pygments_lexer": "ipython3",
   "version": "3.9.7"
  }
 },
 "nbformat": 4,
 "nbformat_minor": 5
}

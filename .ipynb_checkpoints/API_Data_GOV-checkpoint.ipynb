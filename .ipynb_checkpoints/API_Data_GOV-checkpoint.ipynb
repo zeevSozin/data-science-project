{
 "cells": [
  {
   "cell_type": "code",
   "execution_count": 2,
   "id": "3e859788",
   "metadata": {},
   "outputs": [],
   "source": [
    "import requests\n",
    "import pandas as pd"
   ]
  },
  {
   "cell_type": "code",
   "execution_count": 3,
   "id": "8fb6e7ca",
   "metadata": {},
   "outputs": [],
   "source": [
    "base_url=\"https://data.gov.il/api/3/action/datastore_search?\""
   ]
  },
  {
   "cell_type": "code",
   "execution_count": null,
   "id": "f9caf2d2",
   "metadata": {},
   "outputs": [],
   "source": [
    "ACCIDENT_TAZ_id=\"57c5aef9-70f9-4b71-82fa-52304cfbd031\""
   ]
  },
  {
   "cell_type": "raw",
   "id": "932db117",
   "metadata": {},
   "source": []
  }
 ],
 "metadata": {
  "kernelspec": {
   "display_name": "Python 3 (ipykernel)",
   "language": "python",
   "name": "python3"
  },
  "language_info": {
   "codemirror_mode": {
    "name": "ipython",
    "version": 3
   },
   "file_extension": ".py",
   "mimetype": "text/x-python",
   "name": "python",
   "nbconvert_exporter": "python",
   "pygments_lexer": "ipython3",
   "version": "3.9.7"
  }
 },
 "nbformat": 4,
 "nbformat_minor": 5
}

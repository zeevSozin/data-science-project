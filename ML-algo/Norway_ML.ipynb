{
 "cells": [
  {
   "cell_type": "code",
   "execution_count": 24,
   "metadata": {},
   "outputs": [],
   "source": [
    "import pandas as pd\n",
    "from sklearn import linear_model\n",
    "from sklearn.model_selection import train_test_split\n",
    "from sklearn.metrics import r2_score\n",
    "from sklearn.metrics import mean_squared_error\n",
    "import matplotlib.pyplot as plt\n",
    "%matplotlib inline "
   ]
  },
  {
   "cell_type": "code",
   "execution_count": 25,
   "metadata": {},
   "outputs": [],
   "source": [
    "NorwayDf=pd.read_csv(\"../CleanDataFrames/Norway.csv\")"
   ]
  },
  {
   "cell_type": "code",
   "execution_count": 26,
   "metadata": {},
   "outputs": [
    {
     "data": {
      "text/html": [
       "<div>\n",
       "<style scoped>\n",
       "    .dataframe tbody tr th:only-of-type {\n",
       "        vertical-align: middle;\n",
       "    }\n",
       "\n",
       "    .dataframe tbody tr th {\n",
       "        vertical-align: top;\n",
       "    }\n",
       "\n",
       "    .dataframe thead th {\n",
       "        text-align: right;\n",
       "    }\n",
       "</style>\n",
       "<table border=\"1\" class=\"dataframe\">\n",
       "  <thead>\n",
       "    <tr style=\"text-align: right;\">\n",
       "      <th></th>\n",
       "      <th>Unnamed: 0</th>\n",
       "      <th>Unnamed: 0.1</th>\n",
       "      <th>Country</th>\n",
       "      <th>Year</th>\n",
       "      <th>Total inland transport infrastructure investment</th>\n",
       "      <th>Rail infrastructure maintenance</th>\n",
       "      <th>Total inland passenger transport</th>\n",
       "      <th>Road passenger transport</th>\n",
       "      <th>Total inland freight transport in tonne-km per one thousand units of current USD GDP</th>\n",
       "      <th>Road motor vehicles per one million units of current USD GDP</th>\n",
       "      <th>...</th>\n",
       "      <th>Total gas pipelines - length at 31.12 - km</th>\n",
       "      <th>Total pipelines operated - Length at 31.12 (km)</th>\n",
       "      <th>Total railway enterprises - Number at 31.12</th>\n",
       "      <th>Road casualties (injured + killed)</th>\n",
       "      <th>Road injury accident</th>\n",
       "      <th>Road fatalities per one million inhabitant</th>\n",
       "      <th>Total injury accidents - Number at 31.12 (Unit)</th>\n",
       "      <th>Killed - rate per population</th>\n",
       "      <th>Killed</th>\n",
       "      <th>NaNs_at_this_row</th>\n",
       "    </tr>\n",
       "  </thead>\n",
       "  <tbody>\n",
       "    <tr>\n",
       "      <th>0</th>\n",
       "      <td>0</td>\n",
       "      <td>10</td>\n",
       "      <td>Norway</td>\n",
       "      <td>2010</td>\n",
       "      <td>3.153260e+09</td>\n",
       "      <td>1.361104e+09</td>\n",
       "      <td>65852.0</td>\n",
       "      <td>62718.0</td>\n",
       "      <td>56.7</td>\n",
       "      <td>472.2</td>\n",
       "      <td>...</td>\n",
       "      <td>8085.0</td>\n",
       "      <td>1244.0</td>\n",
       "      <td>16.0</td>\n",
       "      <td>9338.0</td>\n",
       "      <td>6434.0</td>\n",
       "      <td>42.5</td>\n",
       "      <td>6434.0</td>\n",
       "      <td>4.3</td>\n",
       "      <td>208.0</td>\n",
       "      <td>7</td>\n",
       "    </tr>\n",
       "    <tr>\n",
       "      <th>1</th>\n",
       "      <td>1</td>\n",
       "      <td>29</td>\n",
       "      <td>Norway</td>\n",
       "      <td>2011</td>\n",
       "      <td>3.372769e+09</td>\n",
       "      <td>1.615362e+09</td>\n",
       "      <td>66777.0</td>\n",
       "      <td>63701.0</td>\n",
       "      <td>48.4</td>\n",
       "      <td>479.8</td>\n",
       "      <td>...</td>\n",
       "      <td>8113.0</td>\n",
       "      <td>1244.0</td>\n",
       "      <td>15.0</td>\n",
       "      <td>8531.0</td>\n",
       "      <td>6079.0</td>\n",
       "      <td>33.9</td>\n",
       "      <td>6079.0</td>\n",
       "      <td>3.4</td>\n",
       "      <td>168.0</td>\n",
       "      <td>7</td>\n",
       "    </tr>\n",
       "    <tr>\n",
       "      <th>2</th>\n",
       "      <td>2</td>\n",
       "      <td>48</td>\n",
       "      <td>Norway</td>\n",
       "      <td>2012</td>\n",
       "      <td>3.976858e+09</td>\n",
       "      <td>1.746639e+09</td>\n",
       "      <td>67574.0</td>\n",
       "      <td>64482.0</td>\n",
       "      <td>48.6</td>\n",
       "      <td>486.8</td>\n",
       "      <td>...</td>\n",
       "      <td>7141.0</td>\n",
       "      <td>1245.0</td>\n",
       "      <td>16.0</td>\n",
       "      <td>8340.0</td>\n",
       "      <td>6154.0</td>\n",
       "      <td>28.9</td>\n",
       "      <td>6154.0</td>\n",
       "      <td>2.9</td>\n",
       "      <td>145.0</td>\n",
       "      <td>7</td>\n",
       "    </tr>\n",
       "    <tr>\n",
       "      <th>3</th>\n",
       "      <td>3</td>\n",
       "      <td>67</td>\n",
       "      <td>Norway</td>\n",
       "      <td>2013</td>\n",
       "      <td>4.682964e+09</td>\n",
       "      <td>1.840976e+09</td>\n",
       "      <td>68484.0</td>\n",
       "      <td>65224.0</td>\n",
       "      <td>49.6</td>\n",
       "      <td>492.2</td>\n",
       "      <td>...</td>\n",
       "      <td>7131.0</td>\n",
       "      <td>1245.0</td>\n",
       "      <td>16.0</td>\n",
       "      <td>7029.0</td>\n",
       "      <td>5241.0</td>\n",
       "      <td>36.8</td>\n",
       "      <td>5241.0</td>\n",
       "      <td>3.7</td>\n",
       "      <td>187.0</td>\n",
       "      <td>7</td>\n",
       "    </tr>\n",
       "    <tr>\n",
       "      <th>4</th>\n",
       "      <td>4</td>\n",
       "      <td>86</td>\n",
       "      <td>Norway</td>\n",
       "      <td>2014</td>\n",
       "      <td>5.022322e+09</td>\n",
       "      <td>1.990042e+09</td>\n",
       "      <td>70713.0</td>\n",
       "      <td>67273.0</td>\n",
       "      <td>53.8</td>\n",
       "      <td>497.4</td>\n",
       "      <td>...</td>\n",
       "      <td>7141.0</td>\n",
       "      <td>1245.0</td>\n",
       "      <td>15.0</td>\n",
       "      <td>6438.0</td>\n",
       "      <td>4972.0</td>\n",
       "      <td>28.6</td>\n",
       "      <td>4972.0</td>\n",
       "      <td>2.9</td>\n",
       "      <td>147.0</td>\n",
       "      <td>7</td>\n",
       "    </tr>\n",
       "    <tr>\n",
       "      <th>5</th>\n",
       "      <td>5</td>\n",
       "      <td>105</td>\n",
       "      <td>Norway</td>\n",
       "      <td>2015</td>\n",
       "      <td>4.840578e+09</td>\n",
       "      <td>1.948287e+09</td>\n",
       "      <td>72344.0</td>\n",
       "      <td>68789.0</td>\n",
       "      <td>69.3</td>\n",
       "      <td>503.1</td>\n",
       "      <td>...</td>\n",
       "      <td>7141.0</td>\n",
       "      <td>1245.0</td>\n",
       "      <td>15.0</td>\n",
       "      <td>5804.0</td>\n",
       "      <td>4563.0</td>\n",
       "      <td>22.5</td>\n",
       "      <td>4563.0</td>\n",
       "      <td>2.3</td>\n",
       "      <td>117.0</td>\n",
       "      <td>8</td>\n",
       "    </tr>\n",
       "    <tr>\n",
       "      <th>6</th>\n",
       "      <td>6</td>\n",
       "      <td>124</td>\n",
       "      <td>Norway</td>\n",
       "      <td>2016</td>\n",
       "      <td>4.843910e+09</td>\n",
       "      <td>1.793807e+09</td>\n",
       "      <td>72946.0</td>\n",
       "      <td>69251.0</td>\n",
       "      <td>74.1</td>\n",
       "      <td>508.7</td>\n",
       "      <td>...</td>\n",
       "      <td>7141.0</td>\n",
       "      <td>1288.0</td>\n",
       "      <td>14.0</td>\n",
       "      <td>5674.0</td>\n",
       "      <td>4374.0</td>\n",
       "      <td>25.8</td>\n",
       "      <td>5660.0</td>\n",
       "      <td>2.6</td>\n",
       "      <td>135.0</td>\n",
       "      <td>10</td>\n",
       "    </tr>\n",
       "    <tr>\n",
       "      <th>7</th>\n",
       "      <td>7</td>\n",
       "      <td>143</td>\n",
       "      <td>Norway</td>\n",
       "      <td>2017</td>\n",
       "      <td>5.062925e+09</td>\n",
       "      <td>1.793807e+09</td>\n",
       "      <td>74132.0</td>\n",
       "      <td>70548.0</td>\n",
       "      <td>72.5</td>\n",
       "      <td>515.3</td>\n",
       "      <td>...</td>\n",
       "      <td>7625.0</td>\n",
       "      <td>1288.0</td>\n",
       "      <td>13.0</td>\n",
       "      <td>5368.0</td>\n",
       "      <td>4086.0</td>\n",
       "      <td>20.1</td>\n",
       "      <td>5660.0</td>\n",
       "      <td>2.0</td>\n",
       "      <td>106.0</td>\n",
       "      <td>9</td>\n",
       "    </tr>\n",
       "    <tr>\n",
       "      <th>8</th>\n",
       "      <td>8</td>\n",
       "      <td>161</td>\n",
       "      <td>Norway</td>\n",
       "      <td>2018</td>\n",
       "      <td>5.472575e+09</td>\n",
       "      <td>1.793807e+09</td>\n",
       "      <td>74853.0</td>\n",
       "      <td>71131.0</td>\n",
       "      <td>65.1</td>\n",
       "      <td>518.1</td>\n",
       "      <td>...</td>\n",
       "      <td>7625.0</td>\n",
       "      <td>1288.0</td>\n",
       "      <td>13.0</td>\n",
       "      <td>5049.0</td>\n",
       "      <td>3898.0</td>\n",
       "      <td>20.3</td>\n",
       "      <td>5660.0</td>\n",
       "      <td>2.0</td>\n",
       "      <td>108.0</td>\n",
       "      <td>10</td>\n",
       "    </tr>\n",
       "    <tr>\n",
       "      <th>9</th>\n",
       "      <td>9</td>\n",
       "      <td>179</td>\n",
       "      <td>Norway</td>\n",
       "      <td>2019</td>\n",
       "      <td>5.716316e+09</td>\n",
       "      <td>1.793807e+09</td>\n",
       "      <td>75494.0</td>\n",
       "      <td>71779.0</td>\n",
       "      <td>73.0</td>\n",
       "      <td>523.8</td>\n",
       "      <td>...</td>\n",
       "      <td>7141.0</td>\n",
       "      <td>1245.0</td>\n",
       "      <td>15.0</td>\n",
       "      <td>4466.0</td>\n",
       "      <td>3579.0</td>\n",
       "      <td>20.2</td>\n",
       "      <td>5660.0</td>\n",
       "      <td>2.0</td>\n",
       "      <td>108.0</td>\n",
       "      <td>23</td>\n",
       "    </tr>\n",
       "    <tr>\n",
       "      <th>10</th>\n",
       "      <td>10</td>\n",
       "      <td>196</td>\n",
       "      <td>Norway</td>\n",
       "      <td>2020</td>\n",
       "      <td>4.842244e+09</td>\n",
       "      <td>1.793807e+09</td>\n",
       "      <td>67403.0</td>\n",
       "      <td>65599.0</td>\n",
       "      <td>93.2</td>\n",
       "      <td>522.4</td>\n",
       "      <td>...</td>\n",
       "      <td>7141.0</td>\n",
       "      <td>1245.0</td>\n",
       "      <td>15.0</td>\n",
       "      <td>4529.0</td>\n",
       "      <td>3585.0</td>\n",
       "      <td>17.3</td>\n",
       "      <td>5660.0</td>\n",
       "      <td>1.7</td>\n",
       "      <td>93.0</td>\n",
       "      <td>27</td>\n",
       "    </tr>\n",
       "  </tbody>\n",
       "</table>\n",
       "<p>11 rows × 32 columns</p>\n",
       "</div>"
      ],
      "text/plain": [
       "    Unnamed: 0  Unnamed: 0.1 Country  Year  \\\n",
       "0            0            10  Norway  2010   \n",
       "1            1            29  Norway  2011   \n",
       "2            2            48  Norway  2012   \n",
       "3            3            67  Norway  2013   \n",
       "4            4            86  Norway  2014   \n",
       "5            5           105  Norway  2015   \n",
       "6            6           124  Norway  2016   \n",
       "7            7           143  Norway  2017   \n",
       "8            8           161  Norway  2018   \n",
       "9            9           179  Norway  2019   \n",
       "10          10           196  Norway  2020   \n",
       "\n",
       "    Total inland transport infrastructure investment  \\\n",
       "0                                       3.153260e+09   \n",
       "1                                       3.372769e+09   \n",
       "2                                       3.976858e+09   \n",
       "3                                       4.682964e+09   \n",
       "4                                       5.022322e+09   \n",
       "5                                       4.840578e+09   \n",
       "6                                       4.843910e+09   \n",
       "7                                       5.062925e+09   \n",
       "8                                       5.472575e+09   \n",
       "9                                       5.716316e+09   \n",
       "10                                      4.842244e+09   \n",
       "\n",
       "    Rail infrastructure maintenance  Total inland passenger transport  \\\n",
       "0                      1.361104e+09                           65852.0   \n",
       "1                      1.615362e+09                           66777.0   \n",
       "2                      1.746639e+09                           67574.0   \n",
       "3                      1.840976e+09                           68484.0   \n",
       "4                      1.990042e+09                           70713.0   \n",
       "5                      1.948287e+09                           72344.0   \n",
       "6                      1.793807e+09                           72946.0   \n",
       "7                      1.793807e+09                           74132.0   \n",
       "8                      1.793807e+09                           74853.0   \n",
       "9                      1.793807e+09                           75494.0   \n",
       "10                     1.793807e+09                           67403.0   \n",
       "\n",
       "    Road passenger transport  \\\n",
       "0                    62718.0   \n",
       "1                    63701.0   \n",
       "2                    64482.0   \n",
       "3                    65224.0   \n",
       "4                    67273.0   \n",
       "5                    68789.0   \n",
       "6                    69251.0   \n",
       "7                    70548.0   \n",
       "8                    71131.0   \n",
       "9                    71779.0   \n",
       "10                   65599.0   \n",
       "\n",
       "    Total inland freight transport in tonne-km per one thousand units of current USD GDP  \\\n",
       "0                                                56.7                                      \n",
       "1                                                48.4                                      \n",
       "2                                                48.6                                      \n",
       "3                                                49.6                                      \n",
       "4                                                53.8                                      \n",
       "5                                                69.3                                      \n",
       "6                                                74.1                                      \n",
       "7                                                72.5                                      \n",
       "8                                                65.1                                      \n",
       "9                                                73.0                                      \n",
       "10                                               93.2                                      \n",
       "\n",
       "    Road motor vehicles per one million units of current USD GDP  ...  \\\n",
       "0                                               472.2             ...   \n",
       "1                                               479.8             ...   \n",
       "2                                               486.8             ...   \n",
       "3                                               492.2             ...   \n",
       "4                                               497.4             ...   \n",
       "5                                               503.1             ...   \n",
       "6                                               508.7             ...   \n",
       "7                                               515.3             ...   \n",
       "8                                               518.1             ...   \n",
       "9                                               523.8             ...   \n",
       "10                                              522.4             ...   \n",
       "\n",
       "    Total gas pipelines - length at 31.12 - km  \\\n",
       "0                                       8085.0   \n",
       "1                                       8113.0   \n",
       "2                                       7141.0   \n",
       "3                                       7131.0   \n",
       "4                                       7141.0   \n",
       "5                                       7141.0   \n",
       "6                                       7141.0   \n",
       "7                                       7625.0   \n",
       "8                                       7625.0   \n",
       "9                                       7141.0   \n",
       "10                                      7141.0   \n",
       "\n",
       "    Total pipelines operated - Length at 31.12 (km)  \\\n",
       "0                                            1244.0   \n",
       "1                                            1244.0   \n",
       "2                                            1245.0   \n",
       "3                                            1245.0   \n",
       "4                                            1245.0   \n",
       "5                                            1245.0   \n",
       "6                                            1288.0   \n",
       "7                                            1288.0   \n",
       "8                                            1288.0   \n",
       "9                                            1245.0   \n",
       "10                                           1245.0   \n",
       "\n",
       "    Total railway enterprises - Number at 31.12  \\\n",
       "0                                          16.0   \n",
       "1                                          15.0   \n",
       "2                                          16.0   \n",
       "3                                          16.0   \n",
       "4                                          15.0   \n",
       "5                                          15.0   \n",
       "6                                          14.0   \n",
       "7                                          13.0   \n",
       "8                                          13.0   \n",
       "9                                          15.0   \n",
       "10                                         15.0   \n",
       "\n",
       "    Road casualties (injured + killed)  Road injury accident  \\\n",
       "0                               9338.0                6434.0   \n",
       "1                               8531.0                6079.0   \n",
       "2                               8340.0                6154.0   \n",
       "3                               7029.0                5241.0   \n",
       "4                               6438.0                4972.0   \n",
       "5                               5804.0                4563.0   \n",
       "6                               5674.0                4374.0   \n",
       "7                               5368.0                4086.0   \n",
       "8                               5049.0                3898.0   \n",
       "9                               4466.0                3579.0   \n",
       "10                              4529.0                3585.0   \n",
       "\n",
       "    Road fatalities per one million inhabitant  \\\n",
       "0                                         42.5   \n",
       "1                                         33.9   \n",
       "2                                         28.9   \n",
       "3                                         36.8   \n",
       "4                                         28.6   \n",
       "5                                         22.5   \n",
       "6                                         25.8   \n",
       "7                                         20.1   \n",
       "8                                         20.3   \n",
       "9                                         20.2   \n",
       "10                                        17.3   \n",
       "\n",
       "    Total injury accidents - Number at 31.12 (Unit)  \\\n",
       "0                                            6434.0   \n",
       "1                                            6079.0   \n",
       "2                                            6154.0   \n",
       "3                                            5241.0   \n",
       "4                                            4972.0   \n",
       "5                                            4563.0   \n",
       "6                                            5660.0   \n",
       "7                                            5660.0   \n",
       "8                                            5660.0   \n",
       "9                                            5660.0   \n",
       "10                                           5660.0   \n",
       "\n",
       "    Killed - rate per population  Killed  NaNs_at_this_row  \n",
       "0                            4.3   208.0                 7  \n",
       "1                            3.4   168.0                 7  \n",
       "2                            2.9   145.0                 7  \n",
       "3                            3.7   187.0                 7  \n",
       "4                            2.9   147.0                 7  \n",
       "5                            2.3   117.0                 8  \n",
       "6                            2.6   135.0                10  \n",
       "7                            2.0   106.0                 9  \n",
       "8                            2.0   108.0                10  \n",
       "9                            2.0   108.0                23  \n",
       "10                           1.7    93.0                27  \n",
       "\n",
       "[11 rows x 32 columns]"
      ]
     },
     "execution_count": 26,
     "metadata": {},
     "output_type": "execute_result"
    }
   ],
   "source": [
    "NorwayDf"
   ]
  },
  {
   "cell_type": "code",
   "execution_count": 27,
   "metadata": {},
   "outputs": [],
   "source": [
    "NorwayDf.drop([\"Unnamed: 0\",\"Unnamed: 0.1\",\"NaNs_at_this_row\"],axis=1,inplace=True)"
   ]
  },
  {
   "cell_type": "code",
   "execution_count": 28,
   "metadata": {},
   "outputs": [
    {
     "data": {
      "text/plain": [
       "Country                                                                                                 0\n",
       "Year                                                                                                    0\n",
       "Total inland transport infrastructure investment                                                        0\n",
       "Rail infrastructure maintenance                                                                         0\n",
       "Total inland passenger transport                                                                        0\n",
       "Road passenger transport                                                                                0\n",
       "Total inland freight transport in tonne-km per one thousand units of current USD GDP                    0\n",
       "Road motor vehicles per one million units of current USD GDP                                            0\n",
       "CO2 emissions from transport in tonnes per one million units of current USD GDP                         0\n",
       "Road traffic in vehicle-km per one thousand units of current USD GDP                                    0\n",
       "Density of road (km per one hundred sq. km)                                                             0\n",
       "Share of household expenditure for purchase of vehicles in total household expenditure for transport    0\n",
       "Total passengers - Number (1 000)                                                                       0\n",
       "Total of train movements - Train-km [IV-07] (1 000)                                                     0\n",
       "Total Lines - Length operated at 31.12 (km)                                                             0\n",
       "Total Tracks - Length operated at 31.12 (km)                                                            0\n",
       "Total mopeds - Number at 31.12 (Unit)                                                                   0\n",
       "Total motorways - Length operated at 31.12 (km)                                                         0\n",
       "Total oil pipeline transport - Tonnes (1 000)                                                           0\n",
       "Total vehicle movements - Vehicle-km (millions)                                                         0\n",
       "Total gas pipelines - length at 31.12 - km                                                              0\n",
       "Total pipelines operated - Length at 31.12 (km)                                                         0\n",
       "Total railway enterprises - Number at 31.12                                                             0\n",
       "Road casualties (injured + killed)                                                                      0\n",
       "Road injury accident                                                                                    0\n",
       "Road fatalities per one million inhabitant                                                              0\n",
       "Total injury accidents - Number at 31.12 (Unit)                                                         0\n",
       "Killed - rate per population                                                                            0\n",
       "Killed                                                                                                  0\n",
       "dtype: int64"
      ]
     },
     "execution_count": 28,
     "metadata": {},
     "output_type": "execute_result"
    }
   ],
   "source": [
    "NorwayDf.isna().sum()"
   ]
  },
  {
   "cell_type": "code",
   "execution_count": 29,
   "metadata": {},
   "outputs": [
    {
     "data": {
      "text/plain": [
       "LinearRegression()"
      ]
     },
     "execution_count": 29,
     "metadata": {},
     "output_type": "execute_result"
    }
   ],
   "source": [
    "lr = linear_model.LinearRegression()\n",
    "x = NorwayDf[['Total inland transport infrastructure investment',\n",
    "'Rail infrastructure maintenance','Road passenger transport',\n",
    "'Road motor vehicles per one million units of current USD GDP',\n",
    "'Density of road (km per one hundred sq. km)',\n",
    "'Total railway enterprises - Number at 31.12']]\n",
    "y = NorwayDf['Killed']\n",
    "lr.fit(X=x, y=y)"
   ]
  },
  {
   "cell_type": "markdown",
   "metadata": {},
   "source": [
    "Linear regression scores:"
   ]
  },
  {
   "cell_type": "code",
   "execution_count": 30,
   "metadata": {},
   "outputs": [
    {
     "name": "stdout",
     "output_type": "stream",
     "text": [
      "Slope: [ 5.51900290e-08 -1.02768188e-07 -9.06046949e-03 -3.49910224e+00\n",
      "  8.68977912e+01 -4.30302600e+00]\n",
      "Intercept: 2382.2230147807577\n"
     ]
    }
   ],
   "source": [
    "print(\"Slope:\",lr.coef_)\n",
    "print(\"Intercept:\",lr.intercept_)"
   ]
  },
  {
   "cell_type": "code",
   "execution_count": 31,
   "metadata": {},
   "outputs": [
    {
     "name": "stdout",
     "output_type": "stream",
     "text": [
      "R2: 0.9572544091282886\n",
      "R2: 0.9572544091282886\n"
     ]
    }
   ],
   "source": [
    "print(\"R2:\",lr.score(x,y))\n",
    "print(\"R2:\",r2_score(y,lr.predict(x.values)))"
   ]
  },
  {
   "cell_type": "code",
   "execution_count": 32,
   "metadata": {},
   "outputs": [
    {
     "data": {
      "text/html": [
       "<div>\n",
       "<style scoped>\n",
       "    .dataframe tbody tr th:only-of-type {\n",
       "        vertical-align: middle;\n",
       "    }\n",
       "\n",
       "    .dataframe tbody tr th {\n",
       "        vertical-align: top;\n",
       "    }\n",
       "\n",
       "    .dataframe thead th {\n",
       "        text-align: right;\n",
       "    }\n",
       "</style>\n",
       "<table border=\"1\" class=\"dataframe\">\n",
       "  <thead>\n",
       "    <tr style=\"text-align: right;\">\n",
       "      <th></th>\n",
       "      <th>Total inland transport infrastructure investment</th>\n",
       "      <th>Rail infrastructure maintenance</th>\n",
       "      <th>Road passenger transport</th>\n",
       "      <th>Road motor vehicles per one million units of current USD GDP</th>\n",
       "      <th>Density of road (km per one hundred sq. km)</th>\n",
       "      <th>Total railway enterprises - Number at 31.12</th>\n",
       "    </tr>\n",
       "  </thead>\n",
       "  <tbody>\n",
       "    <tr>\n",
       "      <th>0</th>\n",
       "      <td>3.153260e+09</td>\n",
       "      <td>1.361104e+09</td>\n",
       "      <td>62718.0</td>\n",
       "      <td>472.2</td>\n",
       "      <td>1.00</td>\n",
       "      <td>16.0</td>\n",
       "    </tr>\n",
       "    <tr>\n",
       "      <th>1</th>\n",
       "      <td>3.372769e+09</td>\n",
       "      <td>1.615362e+09</td>\n",
       "      <td>63701.0</td>\n",
       "      <td>479.8</td>\n",
       "      <td>0.90</td>\n",
       "      <td>15.0</td>\n",
       "    </tr>\n",
       "    <tr>\n",
       "      <th>2</th>\n",
       "      <td>3.976858e+09</td>\n",
       "      <td>1.746639e+09</td>\n",
       "      <td>64482.0</td>\n",
       "      <td>486.8</td>\n",
       "      <td>1.00</td>\n",
       "      <td>16.0</td>\n",
       "    </tr>\n",
       "    <tr>\n",
       "      <th>3</th>\n",
       "      <td>4.682964e+09</td>\n",
       "      <td>1.840976e+09</td>\n",
       "      <td>65224.0</td>\n",
       "      <td>492.2</td>\n",
       "      <td>1.20</td>\n",
       "      <td>16.0</td>\n",
       "    </tr>\n",
       "    <tr>\n",
       "      <th>4</th>\n",
       "      <td>5.022322e+09</td>\n",
       "      <td>1.990042e+09</td>\n",
       "      <td>67273.0</td>\n",
       "      <td>497.4</td>\n",
       "      <td>1.30</td>\n",
       "      <td>15.0</td>\n",
       "    </tr>\n",
       "    <tr>\n",
       "      <th>5</th>\n",
       "      <td>4.840578e+09</td>\n",
       "      <td>1.948287e+09</td>\n",
       "      <td>68789.0</td>\n",
       "      <td>503.1</td>\n",
       "      <td>1.40</td>\n",
       "      <td>15.0</td>\n",
       "    </tr>\n",
       "    <tr>\n",
       "      <th>6</th>\n",
       "      <td>4.843910e+09</td>\n",
       "      <td>1.793807e+09</td>\n",
       "      <td>69251.0</td>\n",
       "      <td>508.7</td>\n",
       "      <td>1.50</td>\n",
       "      <td>14.0</td>\n",
       "    </tr>\n",
       "    <tr>\n",
       "      <th>7</th>\n",
       "      <td>5.062925e+09</td>\n",
       "      <td>1.793807e+09</td>\n",
       "      <td>70548.0</td>\n",
       "      <td>515.3</td>\n",
       "      <td>1.40</td>\n",
       "      <td>13.0</td>\n",
       "    </tr>\n",
       "    <tr>\n",
       "      <th>8</th>\n",
       "      <td>5.472575e+09</td>\n",
       "      <td>1.793807e+09</td>\n",
       "      <td>71131.0</td>\n",
       "      <td>518.1</td>\n",
       "      <td>1.50</td>\n",
       "      <td>13.0</td>\n",
       "    </tr>\n",
       "    <tr>\n",
       "      <th>9</th>\n",
       "      <td>5.716316e+09</td>\n",
       "      <td>1.793807e+09</td>\n",
       "      <td>71779.0</td>\n",
       "      <td>523.8</td>\n",
       "      <td>1.60</td>\n",
       "      <td>15.0</td>\n",
       "    </tr>\n",
       "    <tr>\n",
       "      <th>10</th>\n",
       "      <td>4.842244e+09</td>\n",
       "      <td>1.793807e+09</td>\n",
       "      <td>65599.0</td>\n",
       "      <td>522.4</td>\n",
       "      <td>1.35</td>\n",
       "      <td>15.0</td>\n",
       "    </tr>\n",
       "  </tbody>\n",
       "</table>\n",
       "</div>"
      ],
      "text/plain": [
       "    Total inland transport infrastructure investment  \\\n",
       "0                                       3.153260e+09   \n",
       "1                                       3.372769e+09   \n",
       "2                                       3.976858e+09   \n",
       "3                                       4.682964e+09   \n",
       "4                                       5.022322e+09   \n",
       "5                                       4.840578e+09   \n",
       "6                                       4.843910e+09   \n",
       "7                                       5.062925e+09   \n",
       "8                                       5.472575e+09   \n",
       "9                                       5.716316e+09   \n",
       "10                                      4.842244e+09   \n",
       "\n",
       "    Rail infrastructure maintenance  Road passenger transport  \\\n",
       "0                      1.361104e+09                   62718.0   \n",
       "1                      1.615362e+09                   63701.0   \n",
       "2                      1.746639e+09                   64482.0   \n",
       "3                      1.840976e+09                   65224.0   \n",
       "4                      1.990042e+09                   67273.0   \n",
       "5                      1.948287e+09                   68789.0   \n",
       "6                      1.793807e+09                   69251.0   \n",
       "7                      1.793807e+09                   70548.0   \n",
       "8                      1.793807e+09                   71131.0   \n",
       "9                      1.793807e+09                   71779.0   \n",
       "10                     1.793807e+09                   65599.0   \n",
       "\n",
       "    Road motor vehicles per one million units of current USD GDP  \\\n",
       "0                                               472.2              \n",
       "1                                               479.8              \n",
       "2                                               486.8              \n",
       "3                                               492.2              \n",
       "4                                               497.4              \n",
       "5                                               503.1              \n",
       "6                                               508.7              \n",
       "7                                               515.3              \n",
       "8                                               518.1              \n",
       "9                                               523.8              \n",
       "10                                              522.4              \n",
       "\n",
       "    Density of road (km per one hundred sq. km)  \\\n",
       "0                                          1.00   \n",
       "1                                          0.90   \n",
       "2                                          1.00   \n",
       "3                                          1.20   \n",
       "4                                          1.30   \n",
       "5                                          1.40   \n",
       "6                                          1.50   \n",
       "7                                          1.40   \n",
       "8                                          1.50   \n",
       "9                                          1.60   \n",
       "10                                         1.35   \n",
       "\n",
       "    Total railway enterprises - Number at 31.12  \n",
       "0                                          16.0  \n",
       "1                                          15.0  \n",
       "2                                          16.0  \n",
       "3                                          16.0  \n",
       "4                                          15.0  \n",
       "5                                          15.0  \n",
       "6                                          14.0  \n",
       "7                                          13.0  \n",
       "8                                          13.0  \n",
       "9                                          15.0  \n",
       "10                                         15.0  "
      ]
     },
     "execution_count": 32,
     "metadata": {},
     "output_type": "execute_result"
    }
   ],
   "source": [
    "NorwayDf[['Total inland transport infrastructure investment',\n",
    "'Rail infrastructure maintenance','Road passenger transport',\n",
    "'Road motor vehicles per one million units of current USD GDP',\n",
    "'Density of road (km per one hundred sq. km)',\n",
    "'Total railway enterprises - Number at 31.12']]"
   ]
  },
  {
   "cell_type": "markdown",
   "metadata": {},
   "source": [
    "# Prediction results\n",
    "This is the result if all the features are as same as the last sumple"
   ]
  },
  {
   "cell_type": "code",
   "execution_count": 33,
   "metadata": {},
   "outputs": [
    {
     "data": {
      "text/plain": [
       "array([95.59818764])"
      ]
     },
     "execution_count": 33,
     "metadata": {},
     "output_type": "execute_result"
    }
   ],
   "source": [
    "lr.predict([[4.842244e+09, 1.793807e+09, 65599.0, 522.4,1.35,15]])"
   ]
  },
  {
   "cell_type": "markdown",
   "metadata": {},
   "source": [
    "The result is similar to 93 as explected"
   ]
  },
  {
   "cell_type": "markdown",
   "metadata": {},
   "source": [
    "Prediction if we will increase the \"Total inland transport infrastructure investment\" featue:"
   ]
  },
  {
   "cell_type": "code",
   "execution_count": 34,
   "metadata": {},
   "outputs": [
    {
     "data": {
      "text/plain": [
       "array([101.11719054])"
      ]
     },
     "execution_count": 34,
     "metadata": {},
     "output_type": "execute_result"
    }
   ],
   "source": [
    "lr.predict([[4.942244e+09, 1.793807e+09, 65599.0, 522.4,1.35,15]])"
   ]
  },
  {
   "cell_type": "markdown",
   "metadata": {},
   "source": [
    "Interesting .... the number of casulties will rise"
   ]
  },
  {
   "cell_type": "markdown",
   "metadata": {},
   "source": [
    "Prediction if we will increase the \"Rail infrastructure maintenance\" featue:"
   ]
  },
  {
   "cell_type": "code",
   "execution_count": 35,
   "metadata": {},
   "outputs": [
    {
     "data": {
      "text/plain": [
       "array([75.04455])"
      ]
     },
     "execution_count": 35,
     "metadata": {},
     "output_type": "execute_result"
    }
   ],
   "source": [
    "lr.predict([[4.842244e+09, 1.993807e+09, 65599.0, 522.4,1.35,15]])"
   ]
  },
  {
   "cell_type": "markdown",
   "metadata": {},
   "source": [
    "What a grate result!!"
   ]
  },
  {
   "cell_type": "markdown",
   "metadata": {},
   "source": [
    "Prediction if we will increase the \"Road passenger transport\" featue:"
   ]
  },
  {
   "cell_type": "code",
   "execution_count": 36,
   "metadata": {},
   "outputs": [
    {
     "data": {
      "text/plain": [
       "array([82.90446989])"
      ]
     },
     "execution_count": 36,
     "metadata": {},
     "output_type": "execute_result"
    }
   ],
   "source": [
    "lr.predict([[4.842244e+09, 1.793807e+09, 67000.0, 522.4,1.35,15]])"
   ]
  },
  {
   "cell_type": "markdown",
   "metadata": {},
   "source": [
    "Well once you increase road passengers you will have less road casulties"
   ]
  },
  {
   "cell_type": "markdown",
   "metadata": {},
   "source": [
    "Prediction if we will increase the \"Road motor vehicles per one million units of current USD GDP\" featue:"
   ]
  },
  {
   "cell_type": "code",
   "execution_count": 37,
   "metadata": {},
   "outputs": [
    {
     "data": {
      "text/plain": [
       "array([67.60536974])"
      ]
     },
     "execution_count": 37,
     "metadata": {},
     "output_type": "execute_result"
    }
   ],
   "source": [
    "lr.predict([[4.842244e+09, 1.793807e+09, 65599.0, 530.4,1.35,15]])"
   ]
  },
  {
   "cell_type": "markdown",
   "metadata": {},
   "source": [
    "It will decreas the number of road casulties"
   ]
  },
  {
   "cell_type": "markdown",
   "metadata": {},
   "source": [
    "Prediction if we will increase the \"Density of road (km per one hundred sq. km)\" featue:"
   ]
  },
  {
   "cell_type": "code",
   "execution_count": 38,
   "metadata": {},
   "outputs": [
    {
     "data": {
      "text/plain": [
       "array([182.49597887])"
      ]
     },
     "execution_count": 38,
     "metadata": {},
     "output_type": "execute_result"
    }
   ],
   "source": [
    "lr.predict([[4.842244e+09, 1.793807e+09, 65599.0, 522.4,2.35,15]])"
   ]
  },
  {
   "cell_type": "markdown",
   "metadata": {},
   "source": [
    "well is is logical if the roads are dense so there will be more accidents"
   ]
  },
  {
   "cell_type": "markdown",
   "metadata": {},
   "source": [
    "Prediction if we will increase the \"Total railway enterprises - Number at 31.12\" featue:"
   ]
  },
  {
   "cell_type": "code",
   "execution_count": 39,
   "metadata": {},
   "outputs": [
    {
     "data": {
      "text/plain": [
       "array([82.68910965])"
      ]
     },
     "execution_count": 39,
     "metadata": {},
     "output_type": "execute_result"
    }
   ],
   "source": [
    "lr.predict([[4.842244e+09, 1.793807e+09, 65599.0, 522.4,1.35,18]])"
   ]
  },
  {
   "cell_type": "markdown",
   "metadata": {},
   "source": [
    "And if there will be ore railway enterprises ther will be less road accident casulties"
   ]
  }
 ],
 "metadata": {
  "kernelspec": {
   "display_name": "Python 3.9.7 ('base')",
   "language": "python",
   "name": "python3"
  },
  "language_info": {
   "codemirror_mode": {
    "name": "ipython",
    "version": 3
   },
   "file_extension": ".py",
   "mimetype": "text/x-python",
   "name": "python",
   "nbconvert_exporter": "python",
   "pygments_lexer": "ipython3",
   "version": "3.9.7"
  },
  "orig_nbformat": 4,
  "vscode": {
   "interpreter": {
    "hash": "3d10a69ff13bc369182af9f00cae5e52c0028de868828cb7bedeea4b548fe8b1"
   }
  }
 },
 "nbformat": 4,
 "nbformat_minor": 2
}

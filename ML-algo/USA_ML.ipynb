{
 "cells": [
  {
   "cell_type": "code",
   "execution_count": 16,
   "metadata": {},
   "outputs": [],
   "source": [
    "import pandas as pd\n",
    "from sklearn import linear_model\n",
    "from sklearn.model_selection import train_test_split\n",
    "from sklearn.metrics import r2_score\n",
    "from sklearn.metrics import mean_squared_error\n",
    "import matplotlib.pyplot as plt\n",
    "%matplotlib inline "
   ]
  },
  {
   "cell_type": "code",
   "execution_count": 17,
   "metadata": {},
   "outputs": [],
   "source": [
    "USADF=pd.read_csv(\"../CleanDataFrames/USA.csv\")"
   ]
  },
  {
   "cell_type": "code",
   "execution_count": 18,
   "metadata": {},
   "outputs": [
    {
     "data": {
      "text/html": [
       "<div>\n",
       "<style scoped>\n",
       "    .dataframe tbody tr th:only-of-type {\n",
       "        vertical-align: middle;\n",
       "    }\n",
       "\n",
       "    .dataframe tbody tr th {\n",
       "        vertical-align: top;\n",
       "    }\n",
       "\n",
       "    .dataframe thead th {\n",
       "        text-align: right;\n",
       "    }\n",
       "</style>\n",
       "<table border=\"1\" class=\"dataframe\">\n",
       "  <thead>\n",
       "    <tr style=\"text-align: right;\">\n",
       "      <th></th>\n",
       "      <th>Unnamed: 0</th>\n",
       "      <th>Country</th>\n",
       "      <th>Year</th>\n",
       "      <th>Total inland transport infrastructure investment</th>\n",
       "      <th>Rail infrastructure maintenance</th>\n",
       "      <th>Total inland passenger transport</th>\n",
       "      <th>Road passenger transport</th>\n",
       "      <th>Total inland freight transport in tonne-km per one thousand units of current USD GDP</th>\n",
       "      <th>Road motor vehicles per one million units of current USD GDP</th>\n",
       "      <th>CO2 emissions from transport in tonnes per one million units of current USD GDP</th>\n",
       "      <th>...</th>\n",
       "      <th>Total gas pipelines - length at 31.12 - km</th>\n",
       "      <th>Total Locomotives - Number at 31.12</th>\n",
       "      <th>Total pipelines operated - Length at 31.12 (km)</th>\n",
       "      <th>Total inland waterways - Length at 31.12 (km)</th>\n",
       "      <th>Road casualties (injured + killed)</th>\n",
       "      <th>Road injury accident</th>\n",
       "      <th>Road fatalities per one million inhabitant</th>\n",
       "      <th>Total injury accidents - Number at 31.12 (Unit)</th>\n",
       "      <th>Killed - rate per population</th>\n",
       "      <th>Killed</th>\n",
       "    </tr>\n",
       "  </thead>\n",
       "  <tbody>\n",
       "    <tr>\n",
       "      <th>0</th>\n",
       "      <td>0</td>\n",
       "      <td>United States</td>\n",
       "      <td>2010</td>\n",
       "      <td>6.959677e+10</td>\n",
       "      <td>2.978520e+10</td>\n",
       "      <td>6021705.0</td>\n",
       "      <td>5989833.0</td>\n",
       "      <td>429.2</td>\n",
       "      <td>437.4</td>\n",
       "      <td>112.0</td>\n",
       "      <td>...</td>\n",
       "      <td>3383443.0</td>\n",
       "      <td>23893.0</td>\n",
       "      <td>292878.0</td>\n",
       "      <td>19300.0</td>\n",
       "      <td>2272000.0</td>\n",
       "      <td>1572000.0</td>\n",
       "      <td>106.7</td>\n",
       "      <td>1572000.0</td>\n",
       "      <td>10.7</td>\n",
       "      <td>32999.0</td>\n",
       "    </tr>\n",
       "    <tr>\n",
       "      <th>1</th>\n",
       "      <td>1</td>\n",
       "      <td>United States</td>\n",
       "      <td>2011</td>\n",
       "      <td>6.788604e+10</td>\n",
       "      <td>2.989222e+10</td>\n",
       "      <td>6079080.0</td>\n",
       "      <td>6046500.0</td>\n",
       "      <td>403.5</td>\n",
       "      <td>407.5</td>\n",
       "      <td>105.1</td>\n",
       "      <td>...</td>\n",
       "      <td>3413680.0</td>\n",
       "      <td>24250.0</td>\n",
       "      <td>295443.0</td>\n",
       "      <td>19300.0</td>\n",
       "      <td>2249000.0</td>\n",
       "      <td>1530000.0</td>\n",
       "      <td>104.2</td>\n",
       "      <td>1560000.0</td>\n",
       "      <td>10.4</td>\n",
       "      <td>32479.0</td>\n",
       "    </tr>\n",
       "    <tr>\n",
       "      <th>2</th>\n",
       "      <td>2</td>\n",
       "      <td>United States</td>\n",
       "      <td>2012</td>\n",
       "      <td>7.524658e+10</td>\n",
       "      <td>3.397246e+10</td>\n",
       "      <td>6155742.0</td>\n",
       "      <td>6121616.0</td>\n",
       "      <td>394.7</td>\n",
       "      <td>404.9</td>\n",
       "      <td>98.6</td>\n",
       "      <td>...</td>\n",
       "      <td>3440938.0</td>\n",
       "      <td>24707.0</td>\n",
       "      <td>299693.0</td>\n",
       "      <td>40000.0</td>\n",
       "      <td>2396000.0</td>\n",
       "      <td>1634000.0</td>\n",
       "      <td>106.9</td>\n",
       "      <td>1665000.0</td>\n",
       "      <td>10.8</td>\n",
       "      <td>33782.0</td>\n",
       "    </tr>\n",
       "    <tr>\n",
       "      <th>3</th>\n",
       "      <td>3</td>\n",
       "      <td>United States</td>\n",
       "      <td>2013</td>\n",
       "      <td>7.129348e+10</td>\n",
       "      <td>3.420795e+10</td>\n",
       "      <td>6198646.0</td>\n",
       "      <td>6162599.0</td>\n",
       "      <td>395.8</td>\n",
       "      <td>407.9</td>\n",
       "      <td>98.1</td>\n",
       "      <td>...</td>\n",
       "      <td>3459607.0</td>\n",
       "      <td>25033.0</td>\n",
       "      <td>309657.0</td>\n",
       "      <td>40000.0</td>\n",
       "      <td>2346000.0</td>\n",
       "      <td>1621000.0</td>\n",
       "      <td>103.5</td>\n",
       "      <td>1621000.0</td>\n",
       "      <td>10.4</td>\n",
       "      <td>32893.0</td>\n",
       "    </tr>\n",
       "    <tr>\n",
       "      <th>4</th>\n",
       "      <td>4</td>\n",
       "      <td>United States</td>\n",
       "      <td>2014</td>\n",
       "      <td>7.428958e+10</td>\n",
       "      <td>3.525211e+10</td>\n",
       "      <td>6218169.0</td>\n",
       "      <td>6181776.0</td>\n",
       "      <td>388.7</td>\n",
       "      <td>411.9</td>\n",
       "      <td>93.6</td>\n",
       "      <td>...</td>\n",
       "      <td>3491110.0</td>\n",
       "      <td>25916.0</td>\n",
       "      <td>321536.0</td>\n",
       "      <td>40000.0</td>\n",
       "      <td>2371000.0</td>\n",
       "      <td>1648000.0</td>\n",
       "      <td>102.6</td>\n",
       "      <td>1648000.0</td>\n",
       "      <td>10.3</td>\n",
       "      <td>32744.0</td>\n",
       "    </tr>\n",
       "    <tr>\n",
       "      <th>5</th>\n",
       "      <td>5</td>\n",
       "      <td>United States</td>\n",
       "      <td>2015</td>\n",
       "      <td>9.614906e+10</td>\n",
       "      <td>3.963951e+10</td>\n",
       "      <td>6429086.0</td>\n",
       "      <td>6393042.0</td>\n",
       "      <td>366.6</td>\n",
       "      <td>415.3</td>\n",
       "      <td>93.2</td>\n",
       "      <td>...</td>\n",
       "      <td>3524459.0</td>\n",
       "      <td>26574.0</td>\n",
       "      <td>335738.0</td>\n",
       "      <td>40000.0</td>\n",
       "      <td>2478000.0</td>\n",
       "      <td>1747000.0</td>\n",
       "      <td>110.6</td>\n",
       "      <td>1747000.0</td>\n",
       "      <td>11.1</td>\n",
       "      <td>35484.0</td>\n",
       "    </tr>\n",
       "    <tr>\n",
       "      <th>6</th>\n",
       "      <td>6</td>\n",
       "      <td>United States</td>\n",
       "      <td>2016</td>\n",
       "      <td>9.625700e+10</td>\n",
       "      <td>4.826315e+10</td>\n",
       "      <td>6547948.0</td>\n",
       "      <td>6512056.0</td>\n",
       "      <td>349.4</td>\n",
       "      <td>417.3</td>\n",
       "      <td>91.3</td>\n",
       "      <td>...</td>\n",
       "      <td>3556742.0</td>\n",
       "      <td>26716.0</td>\n",
       "      <td>341349.0</td>\n",
       "      <td>40000.0</td>\n",
       "      <td>3098000.0</td>\n",
       "      <td>2151000.0</td>\n",
       "      <td>116.0</td>\n",
       "      <td>2211000.0</td>\n",
       "      <td>11.7</td>\n",
       "      <td>37806.0</td>\n",
       "    </tr>\n",
       "    <tr>\n",
       "      <th>7</th>\n",
       "      <td>7</td>\n",
       "      <td>United States</td>\n",
       "      <td>2017</td>\n",
       "      <td>9.586912e+10</td>\n",
       "      <td>3.420795e+10</td>\n",
       "      <td>6591557.0</td>\n",
       "      <td>6558301.0</td>\n",
       "      <td>340.8</td>\n",
       "      <td>408.7</td>\n",
       "      <td>88.2</td>\n",
       "      <td>...</td>\n",
       "      <td>3577599.0</td>\n",
       "      <td>26547.0</td>\n",
       "      <td>347404.0</td>\n",
       "      <td>40000.0</td>\n",
       "      <td>2783000.0</td>\n",
       "      <td>1923000.0</td>\n",
       "      <td>115.3</td>\n",
       "      <td>1648000.0</td>\n",
       "      <td>11.5</td>\n",
       "      <td>37473.0</td>\n",
       "    </tr>\n",
       "    <tr>\n",
       "      <th>8</th>\n",
       "      <td>8</td>\n",
       "      <td>United States</td>\n",
       "      <td>2018</td>\n",
       "      <td>9.548201e+10</td>\n",
       "      <td>3.420795e+10</td>\n",
       "      <td>6208407.5</td>\n",
       "      <td>6172187.5</td>\n",
       "      <td>391.7</td>\n",
       "      <td>406.4</td>\n",
       "      <td>85.5</td>\n",
       "      <td>...</td>\n",
       "      <td>3602373.0</td>\n",
       "      <td>26086.0</td>\n",
       "      <td>351460.0</td>\n",
       "      <td>40000.0</td>\n",
       "      <td>2747000.0</td>\n",
       "      <td>1641000.0</td>\n",
       "      <td>111.9</td>\n",
       "      <td>1648000.0</td>\n",
       "      <td>11.3</td>\n",
       "      <td>36835.0</td>\n",
       "    </tr>\n",
       "    <tr>\n",
       "      <th>9</th>\n",
       "      <td>9</td>\n",
       "      <td>United States</td>\n",
       "      <td>2019</td>\n",
       "      <td>1.058441e+11</td>\n",
       "      <td>3.420795e+10</td>\n",
       "      <td>6208407.5</td>\n",
       "      <td>6172187.5</td>\n",
       "      <td>391.7</td>\n",
       "      <td>395.9</td>\n",
       "      <td>82.0</td>\n",
       "      <td>...</td>\n",
       "      <td>3491110.0</td>\n",
       "      <td>25916.0</td>\n",
       "      <td>321536.0</td>\n",
       "      <td>40000.0</td>\n",
       "      <td>2396000.0</td>\n",
       "      <td>1641000.0</td>\n",
       "      <td>109.9</td>\n",
       "      <td>1648000.0</td>\n",
       "      <td>11.1</td>\n",
       "      <td>36355.0</td>\n",
       "    </tr>\n",
       "    <tr>\n",
       "      <th>10</th>\n",
       "      <td>10</td>\n",
       "      <td>United States</td>\n",
       "      <td>2020</td>\n",
       "      <td>8.536430e+10</td>\n",
       "      <td>3.420795e+10</td>\n",
       "      <td>6208407.5</td>\n",
       "      <td>6172187.5</td>\n",
       "      <td>391.7</td>\n",
       "      <td>408.3</td>\n",
       "      <td>93.4</td>\n",
       "      <td>...</td>\n",
       "      <td>3491110.0</td>\n",
       "      <td>25916.0</td>\n",
       "      <td>321536.0</td>\n",
       "      <td>40000.0</td>\n",
       "      <td>2396000.0</td>\n",
       "      <td>1641000.0</td>\n",
       "      <td>117.4</td>\n",
       "      <td>1648000.0</td>\n",
       "      <td>11.8</td>\n",
       "      <td>38824.0</td>\n",
       "    </tr>\n",
       "  </tbody>\n",
       "</table>\n",
       "<p>11 rows × 30 columns</p>\n",
       "</div>"
      ],
      "text/plain": [
       "    Unnamed: 0        Country  Year  \\\n",
       "0            0  United States  2010   \n",
       "1            1  United States  2011   \n",
       "2            2  United States  2012   \n",
       "3            3  United States  2013   \n",
       "4            4  United States  2014   \n",
       "5            5  United States  2015   \n",
       "6            6  United States  2016   \n",
       "7            7  United States  2017   \n",
       "8            8  United States  2018   \n",
       "9            9  United States  2019   \n",
       "10          10  United States  2020   \n",
       "\n",
       "    Total inland transport infrastructure investment  \\\n",
       "0                                       6.959677e+10   \n",
       "1                                       6.788604e+10   \n",
       "2                                       7.524658e+10   \n",
       "3                                       7.129348e+10   \n",
       "4                                       7.428958e+10   \n",
       "5                                       9.614906e+10   \n",
       "6                                       9.625700e+10   \n",
       "7                                       9.586912e+10   \n",
       "8                                       9.548201e+10   \n",
       "9                                       1.058441e+11   \n",
       "10                                      8.536430e+10   \n",
       "\n",
       "    Rail infrastructure maintenance  Total inland passenger transport  \\\n",
       "0                      2.978520e+10                         6021705.0   \n",
       "1                      2.989222e+10                         6079080.0   \n",
       "2                      3.397246e+10                         6155742.0   \n",
       "3                      3.420795e+10                         6198646.0   \n",
       "4                      3.525211e+10                         6218169.0   \n",
       "5                      3.963951e+10                         6429086.0   \n",
       "6                      4.826315e+10                         6547948.0   \n",
       "7                      3.420795e+10                         6591557.0   \n",
       "8                      3.420795e+10                         6208407.5   \n",
       "9                      3.420795e+10                         6208407.5   \n",
       "10                     3.420795e+10                         6208407.5   \n",
       "\n",
       "    Road passenger transport  \\\n",
       "0                  5989833.0   \n",
       "1                  6046500.0   \n",
       "2                  6121616.0   \n",
       "3                  6162599.0   \n",
       "4                  6181776.0   \n",
       "5                  6393042.0   \n",
       "6                  6512056.0   \n",
       "7                  6558301.0   \n",
       "8                  6172187.5   \n",
       "9                  6172187.5   \n",
       "10                 6172187.5   \n",
       "\n",
       "    Total inland freight transport in tonne-km per one thousand units of current USD GDP  \\\n",
       "0                                               429.2                                      \n",
       "1                                               403.5                                      \n",
       "2                                               394.7                                      \n",
       "3                                               395.8                                      \n",
       "4                                               388.7                                      \n",
       "5                                               366.6                                      \n",
       "6                                               349.4                                      \n",
       "7                                               340.8                                      \n",
       "8                                               391.7                                      \n",
       "9                                               391.7                                      \n",
       "10                                              391.7                                      \n",
       "\n",
       "    Road motor vehicles per one million units of current USD GDP  \\\n",
       "0                                               437.4              \n",
       "1                                               407.5              \n",
       "2                                               404.9              \n",
       "3                                               407.9              \n",
       "4                                               411.9              \n",
       "5                                               415.3              \n",
       "6                                               417.3              \n",
       "7                                               408.7              \n",
       "8                                               406.4              \n",
       "9                                               395.9              \n",
       "10                                              408.3              \n",
       "\n",
       "    CO2 emissions from transport in tonnes per one million units of current USD GDP  \\\n",
       "0                                               112.0                                 \n",
       "1                                               105.1                                 \n",
       "2                                                98.6                                 \n",
       "3                                                98.1                                 \n",
       "4                                                93.6                                 \n",
       "5                                                93.2                                 \n",
       "6                                                91.3                                 \n",
       "7                                                88.2                                 \n",
       "8                                                85.5                                 \n",
       "9                                                82.0                                 \n",
       "10                                               93.4                                 \n",
       "\n",
       "    ...  Total gas pipelines - length at 31.12 - km  \\\n",
       "0   ...                                   3383443.0   \n",
       "1   ...                                   3413680.0   \n",
       "2   ...                                   3440938.0   \n",
       "3   ...                                   3459607.0   \n",
       "4   ...                                   3491110.0   \n",
       "5   ...                                   3524459.0   \n",
       "6   ...                                   3556742.0   \n",
       "7   ...                                   3577599.0   \n",
       "8   ...                                   3602373.0   \n",
       "9   ...                                   3491110.0   \n",
       "10  ...                                   3491110.0   \n",
       "\n",
       "    Total Locomotives - Number at 31.12  \\\n",
       "0                               23893.0   \n",
       "1                               24250.0   \n",
       "2                               24707.0   \n",
       "3                               25033.0   \n",
       "4                               25916.0   \n",
       "5                               26574.0   \n",
       "6                               26716.0   \n",
       "7                               26547.0   \n",
       "8                               26086.0   \n",
       "9                               25916.0   \n",
       "10                              25916.0   \n",
       "\n",
       "    Total pipelines operated - Length at 31.12 (km)  \\\n",
       "0                                          292878.0   \n",
       "1                                          295443.0   \n",
       "2                                          299693.0   \n",
       "3                                          309657.0   \n",
       "4                                          321536.0   \n",
       "5                                          335738.0   \n",
       "6                                          341349.0   \n",
       "7                                          347404.0   \n",
       "8                                          351460.0   \n",
       "9                                          321536.0   \n",
       "10                                         321536.0   \n",
       "\n",
       "    Total inland waterways - Length at 31.12 (km)  \\\n",
       "0                                         19300.0   \n",
       "1                                         19300.0   \n",
       "2                                         40000.0   \n",
       "3                                         40000.0   \n",
       "4                                         40000.0   \n",
       "5                                         40000.0   \n",
       "6                                         40000.0   \n",
       "7                                         40000.0   \n",
       "8                                         40000.0   \n",
       "9                                         40000.0   \n",
       "10                                        40000.0   \n",
       "\n",
       "    Road casualties (injured + killed)  Road injury accident  \\\n",
       "0                            2272000.0             1572000.0   \n",
       "1                            2249000.0             1530000.0   \n",
       "2                            2396000.0             1634000.0   \n",
       "3                            2346000.0             1621000.0   \n",
       "4                            2371000.0             1648000.0   \n",
       "5                            2478000.0             1747000.0   \n",
       "6                            3098000.0             2151000.0   \n",
       "7                            2783000.0             1923000.0   \n",
       "8                            2747000.0             1641000.0   \n",
       "9                            2396000.0             1641000.0   \n",
       "10                           2396000.0             1641000.0   \n",
       "\n",
       "    Road fatalities per one million inhabitant  \\\n",
       "0                                        106.7   \n",
       "1                                        104.2   \n",
       "2                                        106.9   \n",
       "3                                        103.5   \n",
       "4                                        102.6   \n",
       "5                                        110.6   \n",
       "6                                        116.0   \n",
       "7                                        115.3   \n",
       "8                                        111.9   \n",
       "9                                        109.9   \n",
       "10                                       117.4   \n",
       "\n",
       "    Total injury accidents - Number at 31.12 (Unit)  \\\n",
       "0                                         1572000.0   \n",
       "1                                         1560000.0   \n",
       "2                                         1665000.0   \n",
       "3                                         1621000.0   \n",
       "4                                         1648000.0   \n",
       "5                                         1747000.0   \n",
       "6                                         2211000.0   \n",
       "7                                         1648000.0   \n",
       "8                                         1648000.0   \n",
       "9                                         1648000.0   \n",
       "10                                        1648000.0   \n",
       "\n",
       "    Killed - rate per population   Killed  \n",
       "0                           10.7  32999.0  \n",
       "1                           10.4  32479.0  \n",
       "2                           10.8  33782.0  \n",
       "3                           10.4  32893.0  \n",
       "4                           10.3  32744.0  \n",
       "5                           11.1  35484.0  \n",
       "6                           11.7  37806.0  \n",
       "7                           11.5  37473.0  \n",
       "8                           11.3  36835.0  \n",
       "9                           11.1  36355.0  \n",
       "10                          11.8  38824.0  \n",
       "\n",
       "[11 rows x 30 columns]"
      ]
     },
     "execution_count": 18,
     "metadata": {},
     "output_type": "execute_result"
    }
   ],
   "source": [
    "USADF"
   ]
  },
  {
   "cell_type": "code",
   "execution_count": 19,
   "metadata": {},
   "outputs": [],
   "source": [
    "USADF.drop([\"Unnamed: 0\"],axis=1,inplace=True)"
   ]
  },
  {
   "cell_type": "code",
   "execution_count": 20,
   "metadata": {},
   "outputs": [
    {
     "data": {
      "text/plain": [
       "LinearRegression()"
      ]
     },
     "execution_count": 20,
     "metadata": {},
     "output_type": "execute_result"
    }
   ],
   "source": [
    "lr = linear_model.LinearRegression()\n",
    "x = USADF[['Total inland transport infrastructure investment',\n",
    "'Rail infrastructure maintenance','Road passenger transport',\n",
    "'Road motor vehicles per one million units of current USD GDP',\n",
    "'Density of road (km per one hundred sq. km)']]\n",
    "y = USADF['Killed']\n",
    "lr.fit(X=x, y=y)"
   ]
  },
  {
   "cell_type": "markdown",
   "metadata": {},
   "source": [
    "Linear regression scores:"
   ]
  },
  {
   "cell_type": "code",
   "execution_count": 21,
   "metadata": {},
   "outputs": [
    {
     "name": "stdout",
     "output_type": "stream",
     "text": [
      "Slope: [ 1.14313112e-07  2.68029523e-09  2.42716562e-03  9.17084314e+00\n",
      " -6.06092568e+03]\n",
      "Intercept: 10150.977293736385\n",
      "R2: 0.652680687053254\n",
      "R2: 0.652680687053254\n"
     ]
    }
   ],
   "source": [
    "print(\"Slope:\",lr.coef_)\n",
    "print(\"Intercept:\",lr.intercept_)\n",
    "print(\"R2:\",lr.score(x,y))\n",
    "print(\"R2:\",r2_score(y,lr.predict(x.values)))"
   ]
  },
  {
   "cell_type": "code",
   "execution_count": 22,
   "metadata": {},
   "outputs": [
    {
     "data": {
      "text/html": [
       "<div>\n",
       "<style scoped>\n",
       "    .dataframe tbody tr th:only-of-type {\n",
       "        vertical-align: middle;\n",
       "    }\n",
       "\n",
       "    .dataframe tbody tr th {\n",
       "        vertical-align: top;\n",
       "    }\n",
       "\n",
       "    .dataframe thead th {\n",
       "        text-align: right;\n",
       "    }\n",
       "</style>\n",
       "<table border=\"1\" class=\"dataframe\">\n",
       "  <thead>\n",
       "    <tr style=\"text-align: right;\">\n",
       "      <th></th>\n",
       "      <th>Total inland transport infrastructure investment</th>\n",
       "      <th>Rail infrastructure maintenance</th>\n",
       "      <th>Road passenger transport</th>\n",
       "      <th>Road motor vehicles per one million units of current USD GDP</th>\n",
       "      <th>Density of road (km per one hundred sq. km)</th>\n",
       "    </tr>\n",
       "  </thead>\n",
       "  <tbody>\n",
       "    <tr>\n",
       "      <th>0</th>\n",
       "      <td>6.959677e+10</td>\n",
       "      <td>2.978520e+10</td>\n",
       "      <td>5989833.0</td>\n",
       "      <td>437.4</td>\n",
       "      <td>0.6</td>\n",
       "    </tr>\n",
       "    <tr>\n",
       "      <th>1</th>\n",
       "      <td>6.788604e+10</td>\n",
       "      <td>2.989222e+10</td>\n",
       "      <td>6046500.0</td>\n",
       "      <td>407.5</td>\n",
       "      <td>0.6</td>\n",
       "    </tr>\n",
       "    <tr>\n",
       "      <th>2</th>\n",
       "      <td>7.524658e+10</td>\n",
       "      <td>3.397246e+10</td>\n",
       "      <td>6121616.0</td>\n",
       "      <td>404.9</td>\n",
       "      <td>0.6</td>\n",
       "    </tr>\n",
       "    <tr>\n",
       "      <th>3</th>\n",
       "      <td>7.129348e+10</td>\n",
       "      <td>3.420795e+10</td>\n",
       "      <td>6162599.0</td>\n",
       "      <td>407.9</td>\n",
       "      <td>0.6</td>\n",
       "    </tr>\n",
       "    <tr>\n",
       "      <th>4</th>\n",
       "      <td>7.428958e+10</td>\n",
       "      <td>3.525211e+10</td>\n",
       "      <td>6181776.0</td>\n",
       "      <td>411.9</td>\n",
       "      <td>0.6</td>\n",
       "    </tr>\n",
       "    <tr>\n",
       "      <th>5</th>\n",
       "      <td>9.614906e+10</td>\n",
       "      <td>3.963951e+10</td>\n",
       "      <td>6393042.0</td>\n",
       "      <td>415.3</td>\n",
       "      <td>0.6</td>\n",
       "    </tr>\n",
       "    <tr>\n",
       "      <th>6</th>\n",
       "      <td>9.625700e+10</td>\n",
       "      <td>4.826315e+10</td>\n",
       "      <td>6512056.0</td>\n",
       "      <td>417.3</td>\n",
       "      <td>0.6</td>\n",
       "    </tr>\n",
       "    <tr>\n",
       "      <th>7</th>\n",
       "      <td>9.586912e+10</td>\n",
       "      <td>3.420795e+10</td>\n",
       "      <td>6558301.0</td>\n",
       "      <td>408.7</td>\n",
       "      <td>0.6</td>\n",
       "    </tr>\n",
       "    <tr>\n",
       "      <th>8</th>\n",
       "      <td>9.548201e+10</td>\n",
       "      <td>3.420795e+10</td>\n",
       "      <td>6172187.5</td>\n",
       "      <td>406.4</td>\n",
       "      <td>0.5</td>\n",
       "    </tr>\n",
       "    <tr>\n",
       "      <th>9</th>\n",
       "      <td>1.058441e+11</td>\n",
       "      <td>3.420795e+10</td>\n",
       "      <td>6172187.5</td>\n",
       "      <td>395.9</td>\n",
       "      <td>0.6</td>\n",
       "    </tr>\n",
       "    <tr>\n",
       "      <th>10</th>\n",
       "      <td>8.536430e+10</td>\n",
       "      <td>3.420795e+10</td>\n",
       "      <td>6172187.5</td>\n",
       "      <td>408.3</td>\n",
       "      <td>0.6</td>\n",
       "    </tr>\n",
       "  </tbody>\n",
       "</table>\n",
       "</div>"
      ],
      "text/plain": [
       "    Total inland transport infrastructure investment  \\\n",
       "0                                       6.959677e+10   \n",
       "1                                       6.788604e+10   \n",
       "2                                       7.524658e+10   \n",
       "3                                       7.129348e+10   \n",
       "4                                       7.428958e+10   \n",
       "5                                       9.614906e+10   \n",
       "6                                       9.625700e+10   \n",
       "7                                       9.586912e+10   \n",
       "8                                       9.548201e+10   \n",
       "9                                       1.058441e+11   \n",
       "10                                      8.536430e+10   \n",
       "\n",
       "    Rail infrastructure maintenance  Road passenger transport  \\\n",
       "0                      2.978520e+10                 5989833.0   \n",
       "1                      2.989222e+10                 6046500.0   \n",
       "2                      3.397246e+10                 6121616.0   \n",
       "3                      3.420795e+10                 6162599.0   \n",
       "4                      3.525211e+10                 6181776.0   \n",
       "5                      3.963951e+10                 6393042.0   \n",
       "6                      4.826315e+10                 6512056.0   \n",
       "7                      3.420795e+10                 6558301.0   \n",
       "8                      3.420795e+10                 6172187.5   \n",
       "9                      3.420795e+10                 6172187.5   \n",
       "10                     3.420795e+10                 6172187.5   \n",
       "\n",
       "    Road motor vehicles per one million units of current USD GDP  \\\n",
       "0                                               437.4              \n",
       "1                                               407.5              \n",
       "2                                               404.9              \n",
       "3                                               407.9              \n",
       "4                                               411.9              \n",
       "5                                               415.3              \n",
       "6                                               417.3              \n",
       "7                                               408.7              \n",
       "8                                               406.4              \n",
       "9                                               395.9              \n",
       "10                                              408.3              \n",
       "\n",
       "    Density of road (km per one hundred sq. km)  \n",
       "0                                           0.6  \n",
       "1                                           0.6  \n",
       "2                                           0.6  \n",
       "3                                           0.6  \n",
       "4                                           0.6  \n",
       "5                                           0.6  \n",
       "6                                           0.6  \n",
       "7                                           0.6  \n",
       "8                                           0.5  \n",
       "9                                           0.6  \n",
       "10                                          0.6  "
      ]
     },
     "execution_count": 22,
     "metadata": {},
     "output_type": "execute_result"
    }
   ],
   "source": [
    "USADF[['Total inland transport infrastructure investment',\n",
    "'Rail infrastructure maintenance','Road passenger transport',\n",
    "'Road motor vehicles per one million units of current USD GDP',\n",
    "'Density of road (km per one hundred sq. km)']]"
   ]
  },
  {
   "cell_type": "markdown",
   "metadata": {},
   "source": [
    "# Prediction results\n",
    "This is the result if all the features are as same as the last sumple"
   ]
  },
  {
   "cell_type": "code",
   "execution_count": 23,
   "metadata": {},
   "outputs": [
    {
     "data": {
      "text/plain": [
       "array([[6.95967742e+10, 2.97851975e+10, 5.98983300e+06, 4.37400000e+02,\n",
       "        6.00000000e-01],\n",
       "       [6.78860387e+10, 2.98922182e+10, 6.04650000e+06, 4.07500000e+02,\n",
       "        6.00000000e-01],\n",
       "       [7.52465775e+10, 3.39724642e+10, 6.12161600e+06, 4.04900000e+02,\n",
       "        6.00000000e-01],\n",
       "       [7.12934799e+10, 3.42079506e+10, 6.16259900e+06, 4.07900000e+02,\n",
       "        6.00000000e-01],\n",
       "       [7.42895846e+10, 3.52521072e+10, 6.18177600e+06, 4.11900000e+02,\n",
       "        6.00000000e-01],\n",
       "       [9.61490627e+10, 3.96395097e+10, 6.39304200e+06, 4.15300000e+02,\n",
       "        6.00000000e-01],\n",
       "       [9.62570034e+10, 4.82631484e+10, 6.51205600e+06, 4.17300000e+02,\n",
       "        6.00000000e-01],\n",
       "       [9.58691225e+10, 3.42079506e+10, 6.55830100e+06, 4.08700000e+02,\n",
       "        6.00000000e-01],\n",
       "       [9.54820144e+10, 3.42079506e+10, 6.17218750e+06, 4.06400000e+02,\n",
       "        5.00000000e-01],\n",
       "       [1.05844051e+11, 3.42079506e+10, 6.17218750e+06, 3.95900000e+02,\n",
       "        6.00000000e-01],\n",
       "       [8.53642959e+10, 3.42079506e+10, 6.17218750e+06, 4.08300000e+02,\n",
       "        6.00000000e-01]])"
      ]
     },
     "execution_count": 23,
     "metadata": {},
     "output_type": "execute_result"
    }
   ],
   "source": [
    "USADF[['Total inland transport infrastructure investment',\n",
    "'Rail infrastructure maintenance','Road passenger transport',\n",
    "'Road motor vehicles per one million units of current USD GDP',\n",
    "'Density of road (km per one hundred sq. km)']].values"
   ]
  },
  {
   "cell_type": "code",
   "execution_count": 24,
   "metadata": {},
   "outputs": [
    {
     "data": {
      "text/plain": [
       "array([35089.74415171])"
      ]
     },
     "execution_count": 24,
     "metadata": {},
     "output_type": "execute_result"
    }
   ],
   "source": [
    "lr.predict([[8.53642959e+10, 3.42079506e+10, 6.17218750e+06, 4.08300000e+02,6.00000000e-01]])"
   ]
  },
  {
   "cell_type": "markdown",
   "metadata": {},
   "source": [
    "The result is pretty much similar to 38824 as explected"
   ]
  },
  {
   "cell_type": "markdown",
   "metadata": {},
   "source": [
    "Prediction if we will increase the \"Total inland transport infrastructure investment\" featue:"
   ]
  },
  {
   "cell_type": "code",
   "execution_count": 25,
   "metadata": {},
   "outputs": [
    {
     "data": {
      "text/plain": [
       "array([35398.38955291])"
      ]
     },
     "execution_count": 25,
     "metadata": {},
     "output_type": "execute_result"
    }
   ],
   "source": [
    "lr.predict([[8.80642959e+10, 3.42079506e+10, 6.17218750e+06, 4.08300000e+02,6.00000000e-01]])"
   ]
  },
  {
   "cell_type": "markdown",
   "metadata": {},
   "source": [
    "Number of road casulties will rapidly increase"
   ]
  },
  {
   "cell_type": "markdown",
   "metadata": {},
   "source": [
    "Prediction if we will increase the \"Rail infrastructure maintenance\" featue:"
   ]
  },
  {
   "cell_type": "code",
   "execution_count": 26,
   "metadata": {},
   "outputs": [
    {
     "data": {
      "text/plain": [
       "array([35094.56868312])"
      ]
     },
     "execution_count": 26,
     "metadata": {},
     "output_type": "execute_result"
    }
   ],
   "source": [
    "lr.predict([[8.53642959e+10, 3.60079506e+10, 6.17218750e+06, 4.08300000e+02,6.00000000e-01]])"
   ]
  },
  {
   "cell_type": "markdown",
   "metadata": {},
   "source": [
    "Number of road casulties will slowly increase"
   ]
  },
  {
   "cell_type": "markdown",
   "metadata": {},
   "source": [
    "Prediction if we will increase the \"Road passenger transport\" featue:"
   ]
  },
  {
   "cell_type": "code",
   "execution_count": 27,
   "metadata": {},
   "outputs": [
    {
     "data": {
      "text/plain": [
       "array([35647.99224524])"
      ]
     },
     "execution_count": 27,
     "metadata": {},
     "output_type": "execute_result"
    }
   ],
   "source": [
    "lr.predict([[8.53642959e+10, 3.42079506e+10, 6.40218750e+06, 4.08300000e+02,6.00000000e-01]])"
   ]
  },
  {
   "cell_type": "markdown",
   "metadata": {},
   "source": [
    "Number of road casulties will rapidly increase"
   ]
  },
  {
   "cell_type": "markdown",
   "metadata": {},
   "source": [
    "Prediction if we will increase the \"Road motor vehicles per one million units of current USD GDP\" featue:"
   ]
  },
  {
   "cell_type": "code",
   "execution_count": 28,
   "metadata": {},
   "outputs": [
    {
     "data": {
      "text/plain": [
       "array([35383.21113219])"
      ]
     },
     "execution_count": 28,
     "metadata": {},
     "output_type": "execute_result"
    }
   ],
   "source": [
    "lr.predict([[8.53642959e+10, 3.42079506e+10, 6.17218750e+06, 4.40300000e+02,6.00000000e-01]])"
   ]
  },
  {
   "cell_type": "markdown",
   "metadata": {},
   "source": [
    "Number of road casulties will rapidly increase"
   ]
  },
  {
   "cell_type": "markdown",
   "metadata": {},
   "source": [
    "Prediction if we will increase the \"Density of road (km per one hundred sq. km)\" featue:"
   ]
  },
  {
   "cell_type": "code",
   "execution_count": 29,
   "metadata": {},
   "outputs": [
    {
     "data": {
      "text/plain": [
       "array([34483.6515837])"
      ]
     },
     "execution_count": 29,
     "metadata": {},
     "output_type": "execute_result"
    }
   ],
   "source": [
    "lr.predict([[8.53642959e+10, 3.42079506e+10, 6.17218750e+06, 4.08300000e+02,7.00000000e-01]])"
   ]
  },
  {
   "cell_type": "markdown",
   "metadata": {},
   "source": [
    "Number of road casulties will rapidly decrease"
   ]
  },
  {
   "cell_type": "markdown",
   "metadata": {},
   "source": [
    "# USA is a one big alomaly\n",
    "\n",
    "it is the only country that if you increasing the density of the road the predicted number of road casulies is decreasing qoute the oposity then expected!!!"
   ]
  }
 ],
 "metadata": {
  "kernelspec": {
   "display_name": "Python 3.9.7 ('base')",
   "language": "python",
   "name": "python3"
  },
  "language_info": {
   "codemirror_mode": {
    "name": "ipython",
    "version": 3
   },
   "file_extension": ".py",
   "mimetype": "text/x-python",
   "name": "python",
   "nbconvert_exporter": "python",
   "pygments_lexer": "ipython3",
   "version": "3.9.7"
  },
  "orig_nbformat": 4,
  "vscode": {
   "interpreter": {
    "hash": "3d10a69ff13bc369182af9f00cae5e52c0028de868828cb7bedeea4b548fe8b1"
   }
  }
 },
 "nbformat": 4,
 "nbformat_minor": 2
}

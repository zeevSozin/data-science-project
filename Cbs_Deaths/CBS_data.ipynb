{
 "cells": [
  {
   "cell_type": "code",
   "execution_count": 8,
   "id": "16192370",
   "metadata": {},
   "outputs": [],
   "source": [
    "import selenium                                                     #\n",
    "from selenium import webdriver             # webdriver for selenium.\n",
    "from selenium.webdriver.common.action_chains import ActionChains    # Action chain to imitate mouse hovering and mouse scroling.\n",
    "from selenium.webdriver.chrome.options import Options      # oprions for the webdriver such as incognito mode it works faster then ordanary mode.\n",
    "from selenium.webdriver.support.ui import WebDriverWait     # WebDriverWait function enshures that the web page is fully loaded.\n",
    "from selenium.common.exceptions import TimeoutException       # Use for error handeling in case of timeout exaption.\n",
    "from selenium.common.exceptions import NoSuchElementException    # Use for error handeling in case of missing element in the webdriver\n",
    "from selenium.webdriver.support import expected_conditions as EC     # general selenum exceprions library \n",
    "import pandas as pd  # pandas library for dataframes in order to accomedate the data in to those frames"
   ]
  },
  {
   "cell_type": "code",
   "execution_count": 9,
   "id": "7e98cdb1",
   "metadata": {},
   "outputs": [],
   "source": [
    "#function to get the Datatable\n",
    "Main_page=webdriver.Chrome()\n",
    "url = \"https://www.google.com/url?sa=t&rct=j&q=&esrc=s&source=web&cd=&ved=2ahUKEwi6_L61lsH4AhUM1hoKHV08AQIQFnoECAcQAQ&url=https%3A%2F%2Fwww.cbs.gov.il%2Fhe%2Fmediarelease%2Fdoclib%2F2020%2F355%2F27_20_355t1.xls&usg=AOvVaw2gZH8o-YfqHnl5r7H_dnJu\"\n",
    "Main_page.get(url)\n",
    "\n"
   ]
  }
 ],
 "metadata": {
  "interpreter": {
   "hash": "3e615ed373a58877c1362c2e724215c5e67ab746072cc0fd40c1af375a0e9813"
  },
  "kernelspec": {
   "display_name": "Python 3 (ipykernel)",
   "language": "python",
   "name": "python3"
  },
  "language_info": {
   "codemirror_mode": {
    "name": "ipython",
    "version": 3
   },
   "file_extension": ".py",
   "mimetype": "text/x-python",
   "name": "python",
   "nbconvert_exporter": "python",
   "pygments_lexer": "ipython3",
   "version": "3.9.7"
  }
 },
 "nbformat": 4,
 "nbformat_minor": 5
}

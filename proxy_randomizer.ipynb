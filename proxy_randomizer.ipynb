{
 "cells": [
  {
   "cell_type": "code",
   "execution_count": 13,
   "id": "190df907",
   "metadata": {},
   "outputs": [],
   "source": [
    "import selenium\n",
    "import time\n",
    "from selenium import webdriver\n",
    "from selenium.webdriver.chrome.options import Options\n",
    "from selenium.webdriver.chrome.service import Service\n",
    "from selenium.webdriver.common.by import By\n",
    "from selenium.common.exceptions import NoSuchElementException\n",
    "from selenium.webdriver.common.keys import Keys\n",
    "from selenium.webdriver.support.ui import WebDriverWait\n",
    "from webdriver_manager.chrome import ChromeDriverManager"
   ]
  },
  {
   "cell_type": "code",
   "execution_count": 16,
   "id": "317494a3",
   "metadata": {},
   "outputs": [],
   "source": [
    "def getProxList():\n",
    "    base_url='https://premproxy.com/list/ip-port/1.htm'\n",
    "    chrome_options=Options()\n",
    "    chrome_options.add_argument(\"--incognito\")\n",
    "    chrome_service=Service(ChromeDriverManager().install())\n",
    "    Main_Page=webdriver.Chrome(options=chrome_options,service=chrome_service)\n",
    "    Main_Page.get(base_url)\n",
    "    time.sleep(3)\n",
    "    Proxy_list=Main_Page.find_element(By.ID, 'ipportlist')\n",
    "    proxy_ip_list=Proxy_list.find_elements(By.TAG_NAME,'li')\n",
    "    proxy_ipAdress_list=list()\n",
    "    for add in proxy_ip_list:\n",
    "        proxy_ipAdress_list.append(add.text)\n",
    "    return proxy_ipAdress_list"
   ]
  }
 ],
 "metadata": {
  "kernelspec": {
   "display_name": "Python 3 (ipykernel)",
   "language": "python",
   "name": "python3"
  },
  "language_info": {
   "codemirror_mode": {
    "name": "ipython",
    "version": 3
   },
   "file_extension": ".py",
   "mimetype": "text/x-python",
   "name": "python",
   "nbconvert_exporter": "python",
   "pygments_lexer": "ipython3",
   "version": "3.9.7"
  }
 },
 "nbformat": 4,
 "nbformat_minor": 5
}

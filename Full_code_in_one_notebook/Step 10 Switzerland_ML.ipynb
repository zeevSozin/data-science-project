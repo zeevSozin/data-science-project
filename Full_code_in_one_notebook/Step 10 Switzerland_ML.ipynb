{
 "cells": [
  {
   "cell_type": "code",
   "execution_count": 33,
   "metadata": {},
   "outputs": [],
   "source": [
    "import pandas as pd\n",
    "from sklearn import linear_model\n",
    "from sklearn.model_selection import train_test_split\n",
    "from sklearn.metrics import r2_score\n",
    "from sklearn.metrics import mean_squared_error\n",
    "import matplotlib.pyplot as plt\n",
    "%matplotlib inline "
   ]
  },
  {
   "cell_type": "code",
   "execution_count": 34,
   "metadata": {},
   "outputs": [],
   "source": [
    "SwitzerlandDF=pd.read_csv(\"../CleanDataFrames/Switzerland.csv\")"
   ]
  },
  {
   "cell_type": "code",
   "execution_count": 35,
   "metadata": {},
   "outputs": [
    {
     "data": {
      "text/html": [
       "<div>\n",
       "<style scoped>\n",
       "    .dataframe tbody tr th:only-of-type {\n",
       "        vertical-align: middle;\n",
       "    }\n",
       "\n",
       "    .dataframe tbody tr th {\n",
       "        vertical-align: top;\n",
       "    }\n",
       "\n",
       "    .dataframe thead th {\n",
       "        text-align: right;\n",
       "    }\n",
       "</style>\n",
       "<table border=\"1\" class=\"dataframe\">\n",
       "  <thead>\n",
       "    <tr style=\"text-align: right;\">\n",
       "      <th></th>\n",
       "      <th>Unnamed: 0</th>\n",
       "      <th>Country</th>\n",
       "      <th>Year</th>\n",
       "      <th>Total inland transport infrastructure investment</th>\n",
       "      <th>Rail infrastructure maintenance</th>\n",
       "      <th>Total inland passenger transport</th>\n",
       "      <th>Road passenger transport</th>\n",
       "      <th>Total inland freight transport in tonne-km per one thousand units of current USD GDP</th>\n",
       "      <th>Road motor vehicles per one million units of current USD GDP</th>\n",
       "      <th>CO2 emissions from transport in tonnes per one million units of current USD GDP</th>\n",
       "      <th>...</th>\n",
       "      <th>Total pipelines operated - Length at 31.12 (km)</th>\n",
       "      <th>Total goods - Tonnes (1 000)</th>\n",
       "      <th>Total railway enterprises - Number at 31.12</th>\n",
       "      <th>Total self-propelled vessels - Number at 31.12 (Units)</th>\n",
       "      <th>Road casualties (injured + killed)</th>\n",
       "      <th>Road injury accident</th>\n",
       "      <th>Road fatalities per one million inhabitant</th>\n",
       "      <th>Total injury accidents - Number at 31.12 (Unit)</th>\n",
       "      <th>Killed - rate per population</th>\n",
       "      <th>Killed</th>\n",
       "    </tr>\n",
       "  </thead>\n",
       "  <tbody>\n",
       "    <tr>\n",
       "      <th>0</th>\n",
       "      <td>0</td>\n",
       "      <td>Switzerland</td>\n",
       "      <td>2010</td>\n",
       "      <td>6.450586e+09</td>\n",
       "      <td>1.998264e+09</td>\n",
       "      <td>111596.0</td>\n",
       "      <td>92419.0</td>\n",
       "      <td>46.80</td>\n",
       "      <td>520.9</td>\n",
       "      <td>28.5</td>\n",
       "      <td>...</td>\n",
       "      <td>109.0</td>\n",
       "      <td>6518.0</td>\n",
       "      <td>62.0</td>\n",
       "      <td>15.0</td>\n",
       "      <td>24564.0</td>\n",
       "      <td>19609.0</td>\n",
       "      <td>41.8</td>\n",
       "      <td>19609.0</td>\n",
       "      <td>4.2</td>\n",
       "      <td>327.0</td>\n",
       "    </tr>\n",
       "    <tr>\n",
       "      <th>1</th>\n",
       "      <td>1</td>\n",
       "      <td>Switzerland</td>\n",
       "      <td>2011</td>\n",
       "      <td>7.232577e+09</td>\n",
       "      <td>2.235008e+09</td>\n",
       "      <td>112871.0</td>\n",
       "      <td>93400.0</td>\n",
       "      <td>40.40</td>\n",
       "      <td>526.1</td>\n",
       "      <td>23.5</td>\n",
       "      <td>...</td>\n",
       "      <td>109.0</td>\n",
       "      <td>5678.0</td>\n",
       "      <td>63.0</td>\n",
       "      <td>15.0</td>\n",
       "      <td>23562.0</td>\n",
       "      <td>18990.0</td>\n",
       "      <td>40.4</td>\n",
       "      <td>18990.0</td>\n",
       "      <td>4.1</td>\n",
       "      <td>320.0</td>\n",
       "    </tr>\n",
       "    <tr>\n",
       "      <th>2</th>\n",
       "      <td>2</td>\n",
       "      <td>Switzerland</td>\n",
       "      <td>2012</td>\n",
       "      <td>7.344230e+09</td>\n",
       "      <td>2.413507e+09</td>\n",
       "      <td>114250.0</td>\n",
       "      <td>94988.0</td>\n",
       "      <td>41.00</td>\n",
       "      <td>532.0</td>\n",
       "      <td>24.8</td>\n",
       "      <td>...</td>\n",
       "      <td>109.0</td>\n",
       "      <td>7211.0</td>\n",
       "      <td>66.0</td>\n",
       "      <td>15.0</td>\n",
       "      <td>22557.0</td>\n",
       "      <td>18148.0</td>\n",
       "      <td>42.4</td>\n",
       "      <td>18148.0</td>\n",
       "      <td>4.3</td>\n",
       "      <td>339.0</td>\n",
       "    </tr>\n",
       "    <tr>\n",
       "      <th>3</th>\n",
       "      <td>3</td>\n",
       "      <td>Switzerland</td>\n",
       "      <td>2013</td>\n",
       "      <td>7.397027e+09</td>\n",
       "      <td>2.402307e+09</td>\n",
       "      <td>115809.0</td>\n",
       "      <td>96362.0</td>\n",
       "      <td>41.10</td>\n",
       "      <td>534.1</td>\n",
       "      <td>24.0</td>\n",
       "      <td>...</td>\n",
       "      <td>109.0</td>\n",
       "      <td>6830.0</td>\n",
       "      <td>71.0</td>\n",
       "      <td>14.0</td>\n",
       "      <td>21648.0</td>\n",
       "      <td>17473.0</td>\n",
       "      <td>33.3</td>\n",
       "      <td>17473.0</td>\n",
       "      <td>3.3</td>\n",
       "      <td>269.0</td>\n",
       "    </tr>\n",
       "    <tr>\n",
       "      <th>4</th>\n",
       "      <td>4</td>\n",
       "      <td>Switzerland</td>\n",
       "      <td>2014</td>\n",
       "      <td>7.197431e+09</td>\n",
       "      <td>2.420550e+09</td>\n",
       "      <td>117730.0</td>\n",
       "      <td>97720.0</td>\n",
       "      <td>41.00</td>\n",
       "      <td>535.4</td>\n",
       "      <td>23.0</td>\n",
       "      <td>...</td>\n",
       "      <td>109.0</td>\n",
       "      <td>5982.0</td>\n",
       "      <td>61.0</td>\n",
       "      <td>13.0</td>\n",
       "      <td>21764.0</td>\n",
       "      <td>17803.0</td>\n",
       "      <td>29.7</td>\n",
       "      <td>17803.0</td>\n",
       "      <td>3.0</td>\n",
       "      <td>243.0</td>\n",
       "    </tr>\n",
       "    <tr>\n",
       "      <th>5</th>\n",
       "      <td>5</td>\n",
       "      <td>Switzerland</td>\n",
       "      <td>2015</td>\n",
       "      <td>8.419226e+09</td>\n",
       "      <td>2.761334e+09</td>\n",
       "      <td>119547.0</td>\n",
       "      <td>99158.0</td>\n",
       "      <td>42.40</td>\n",
       "      <td>538.3</td>\n",
       "      <td>23.1</td>\n",
       "      <td>...</td>\n",
       "      <td>109.0</td>\n",
       "      <td>6334.0</td>\n",
       "      <td>63.0</td>\n",
       "      <td>13.0</td>\n",
       "      <td>21791.0</td>\n",
       "      <td>17736.0</td>\n",
       "      <td>30.5</td>\n",
       "      <td>17736.0</td>\n",
       "      <td>3.1</td>\n",
       "      <td>253.0</td>\n",
       "    </tr>\n",
       "    <tr>\n",
       "      <th>6</th>\n",
       "      <td>6</td>\n",
       "      <td>Switzerland</td>\n",
       "      <td>2016</td>\n",
       "      <td>7.804190e+09</td>\n",
       "      <td>2.699505e+09</td>\n",
       "      <td>122088.0</td>\n",
       "      <td>101276.0</td>\n",
       "      <td>42.40</td>\n",
       "      <td>540.3</td>\n",
       "      <td>23.1</td>\n",
       "      <td>...</td>\n",
       "      <td>109.0</td>\n",
       "      <td>5897.0</td>\n",
       "      <td>64.0</td>\n",
       "      <td>12.0</td>\n",
       "      <td>21608.0</td>\n",
       "      <td>17577.0</td>\n",
       "      <td>25.8</td>\n",
       "      <td>17577.0</td>\n",
       "      <td>2.6</td>\n",
       "      <td>216.0</td>\n",
       "    </tr>\n",
       "    <tr>\n",
       "      <th>7</th>\n",
       "      <td>7</td>\n",
       "      <td>Switzerland</td>\n",
       "      <td>2017</td>\n",
       "      <td>7.050909e+09</td>\n",
       "      <td>2.708708e+09</td>\n",
       "      <td>123969.0</td>\n",
       "      <td>103104.0</td>\n",
       "      <td>41.30</td>\n",
       "      <td>540.8</td>\n",
       "      <td>22.4</td>\n",
       "      <td>...</td>\n",
       "      <td>109.0</td>\n",
       "      <td>5790.0</td>\n",
       "      <td>67.0</td>\n",
       "      <td>10.0</td>\n",
       "      <td>21643.0</td>\n",
       "      <td>17799.0</td>\n",
       "      <td>27.2</td>\n",
       "      <td>17799.0</td>\n",
       "      <td>2.7</td>\n",
       "      <td>230.0</td>\n",
       "    </tr>\n",
       "    <tr>\n",
       "      <th>8</th>\n",
       "      <td>8</td>\n",
       "      <td>Switzerland</td>\n",
       "      <td>2018</td>\n",
       "      <td>6.894743e+09</td>\n",
       "      <td>2.593298e+09</td>\n",
       "      <td>124944.0</td>\n",
       "      <td>104331.0</td>\n",
       "      <td>40.20</td>\n",
       "      <td>540.6</td>\n",
       "      <td>21.5</td>\n",
       "      <td>...</td>\n",
       "      <td>109.0</td>\n",
       "      <td>4698.0</td>\n",
       "      <td>66.0</td>\n",
       "      <td>10.0</td>\n",
       "      <td>22064.0</td>\n",
       "      <td>18033.0</td>\n",
       "      <td>27.4</td>\n",
       "      <td>18033.0</td>\n",
       "      <td>2.7</td>\n",
       "      <td>233.0</td>\n",
       "    </tr>\n",
       "    <tr>\n",
       "      <th>9</th>\n",
       "      <td>9</td>\n",
       "      <td>Switzerland</td>\n",
       "      <td>2019</td>\n",
       "      <td>7.735625e+09</td>\n",
       "      <td>2.338456e+09</td>\n",
       "      <td>127024.0</td>\n",
       "      <td>105287.0</td>\n",
       "      <td>39.60</td>\n",
       "      <td>539.2</td>\n",
       "      <td>21.5</td>\n",
       "      <td>...</td>\n",
       "      <td>109.0</td>\n",
       "      <td>5982.0</td>\n",
       "      <td>64.0</td>\n",
       "      <td>13.0</td>\n",
       "      <td>21467.0</td>\n",
       "      <td>17761.0</td>\n",
       "      <td>21.8</td>\n",
       "      <td>17803.0</td>\n",
       "      <td>2.2</td>\n",
       "      <td>187.0</td>\n",
       "    </tr>\n",
       "    <tr>\n",
       "      <th>10</th>\n",
       "      <td>10</td>\n",
       "      <td>Switzerland</td>\n",
       "      <td>2020</td>\n",
       "      <td>7.288403e+09</td>\n",
       "      <td>2.417028e+09</td>\n",
       "      <td>118638.5</td>\n",
       "      <td>98439.0</td>\n",
       "      <td>41.05</td>\n",
       "      <td>539.4</td>\n",
       "      <td>23.1</td>\n",
       "      <td>...</td>\n",
       "      <td>109.0</td>\n",
       "      <td>5982.0</td>\n",
       "      <td>64.0</td>\n",
       "      <td>13.0</td>\n",
       "      <td>20022.0</td>\n",
       "      <td>16897.0</td>\n",
       "      <td>26.3</td>\n",
       "      <td>17803.0</td>\n",
       "      <td>2.6</td>\n",
       "      <td>227.0</td>\n",
       "    </tr>\n",
       "  </tbody>\n",
       "</table>\n",
       "<p>11 rows × 28 columns</p>\n",
       "</div>"
      ],
      "text/plain": [
       "    Unnamed: 0      Country  Year  \\\n",
       "0            0  Switzerland  2010   \n",
       "1            1  Switzerland  2011   \n",
       "2            2  Switzerland  2012   \n",
       "3            3  Switzerland  2013   \n",
       "4            4  Switzerland  2014   \n",
       "5            5  Switzerland  2015   \n",
       "6            6  Switzerland  2016   \n",
       "7            7  Switzerland  2017   \n",
       "8            8  Switzerland  2018   \n",
       "9            9  Switzerland  2019   \n",
       "10          10  Switzerland  2020   \n",
       "\n",
       "    Total inland transport infrastructure investment  \\\n",
       "0                                       6.450586e+09   \n",
       "1                                       7.232577e+09   \n",
       "2                                       7.344230e+09   \n",
       "3                                       7.397027e+09   \n",
       "4                                       7.197431e+09   \n",
       "5                                       8.419226e+09   \n",
       "6                                       7.804190e+09   \n",
       "7                                       7.050909e+09   \n",
       "8                                       6.894743e+09   \n",
       "9                                       7.735625e+09   \n",
       "10                                      7.288403e+09   \n",
       "\n",
       "    Rail infrastructure maintenance  Total inland passenger transport  \\\n",
       "0                      1.998264e+09                          111596.0   \n",
       "1                      2.235008e+09                          112871.0   \n",
       "2                      2.413507e+09                          114250.0   \n",
       "3                      2.402307e+09                          115809.0   \n",
       "4                      2.420550e+09                          117730.0   \n",
       "5                      2.761334e+09                          119547.0   \n",
       "6                      2.699505e+09                          122088.0   \n",
       "7                      2.708708e+09                          123969.0   \n",
       "8                      2.593298e+09                          124944.0   \n",
       "9                      2.338456e+09                          127024.0   \n",
       "10                     2.417028e+09                          118638.5   \n",
       "\n",
       "    Road passenger transport  \\\n",
       "0                    92419.0   \n",
       "1                    93400.0   \n",
       "2                    94988.0   \n",
       "3                    96362.0   \n",
       "4                    97720.0   \n",
       "5                    99158.0   \n",
       "6                   101276.0   \n",
       "7                   103104.0   \n",
       "8                   104331.0   \n",
       "9                   105287.0   \n",
       "10                   98439.0   \n",
       "\n",
       "    Total inland freight transport in tonne-km per one thousand units of current USD GDP  \\\n",
       "0                                               46.80                                      \n",
       "1                                               40.40                                      \n",
       "2                                               41.00                                      \n",
       "3                                               41.10                                      \n",
       "4                                               41.00                                      \n",
       "5                                               42.40                                      \n",
       "6                                               42.40                                      \n",
       "7                                               41.30                                      \n",
       "8                                               40.20                                      \n",
       "9                                               39.60                                      \n",
       "10                                              41.05                                      \n",
       "\n",
       "    Road motor vehicles per one million units of current USD GDP  \\\n",
       "0                                               520.9              \n",
       "1                                               526.1              \n",
       "2                                               532.0              \n",
       "3                                               534.1              \n",
       "4                                               535.4              \n",
       "5                                               538.3              \n",
       "6                                               540.3              \n",
       "7                                               540.8              \n",
       "8                                               540.6              \n",
       "9                                               539.2              \n",
       "10                                              539.4              \n",
       "\n",
       "    CO2 emissions from transport in tonnes per one million units of current USD GDP  \\\n",
       "0                                                28.5                                 \n",
       "1                                                23.5                                 \n",
       "2                                                24.8                                 \n",
       "3                                                24.0                                 \n",
       "4                                                23.0                                 \n",
       "5                                                23.1                                 \n",
       "6                                                23.1                                 \n",
       "7                                                22.4                                 \n",
       "8                                                21.5                                 \n",
       "9                                                21.5                                 \n",
       "10                                               23.1                                 \n",
       "\n",
       "    ...  Total pipelines operated - Length at 31.12 (km)  \\\n",
       "0   ...                                            109.0   \n",
       "1   ...                                            109.0   \n",
       "2   ...                                            109.0   \n",
       "3   ...                                            109.0   \n",
       "4   ...                                            109.0   \n",
       "5   ...                                            109.0   \n",
       "6   ...                                            109.0   \n",
       "7   ...                                            109.0   \n",
       "8   ...                                            109.0   \n",
       "9   ...                                            109.0   \n",
       "10  ...                                            109.0   \n",
       "\n",
       "    Total goods - Tonnes (1 000)  Total railway enterprises - Number at 31.12  \\\n",
       "0                         6518.0                                         62.0   \n",
       "1                         5678.0                                         63.0   \n",
       "2                         7211.0                                         66.0   \n",
       "3                         6830.0                                         71.0   \n",
       "4                         5982.0                                         61.0   \n",
       "5                         6334.0                                         63.0   \n",
       "6                         5897.0                                         64.0   \n",
       "7                         5790.0                                         67.0   \n",
       "8                         4698.0                                         66.0   \n",
       "9                         5982.0                                         64.0   \n",
       "10                        5982.0                                         64.0   \n",
       "\n",
       "    Total self-propelled vessels - Number at 31.12 (Units)  \\\n",
       "0                                                15.0        \n",
       "1                                                15.0        \n",
       "2                                                15.0        \n",
       "3                                                14.0        \n",
       "4                                                13.0        \n",
       "5                                                13.0        \n",
       "6                                                12.0        \n",
       "7                                                10.0        \n",
       "8                                                10.0        \n",
       "9                                                13.0        \n",
       "10                                               13.0        \n",
       "\n",
       "    Road casualties (injured + killed)  Road injury accident  \\\n",
       "0                              24564.0               19609.0   \n",
       "1                              23562.0               18990.0   \n",
       "2                              22557.0               18148.0   \n",
       "3                              21648.0               17473.0   \n",
       "4                              21764.0               17803.0   \n",
       "5                              21791.0               17736.0   \n",
       "6                              21608.0               17577.0   \n",
       "7                              21643.0               17799.0   \n",
       "8                              22064.0               18033.0   \n",
       "9                              21467.0               17761.0   \n",
       "10                             20022.0               16897.0   \n",
       "\n",
       "    Road fatalities per one million inhabitant  \\\n",
       "0                                         41.8   \n",
       "1                                         40.4   \n",
       "2                                         42.4   \n",
       "3                                         33.3   \n",
       "4                                         29.7   \n",
       "5                                         30.5   \n",
       "6                                         25.8   \n",
       "7                                         27.2   \n",
       "8                                         27.4   \n",
       "9                                         21.8   \n",
       "10                                        26.3   \n",
       "\n",
       "    Total injury accidents - Number at 31.12 (Unit)  \\\n",
       "0                                           19609.0   \n",
       "1                                           18990.0   \n",
       "2                                           18148.0   \n",
       "3                                           17473.0   \n",
       "4                                           17803.0   \n",
       "5                                           17736.0   \n",
       "6                                           17577.0   \n",
       "7                                           17799.0   \n",
       "8                                           18033.0   \n",
       "9                                           17803.0   \n",
       "10                                          17803.0   \n",
       "\n",
       "    Killed - rate per population  Killed  \n",
       "0                            4.2   327.0  \n",
       "1                            4.1   320.0  \n",
       "2                            4.3   339.0  \n",
       "3                            3.3   269.0  \n",
       "4                            3.0   243.0  \n",
       "5                            3.1   253.0  \n",
       "6                            2.6   216.0  \n",
       "7                            2.7   230.0  \n",
       "8                            2.7   233.0  \n",
       "9                            2.2   187.0  \n",
       "10                           2.6   227.0  \n",
       "\n",
       "[11 rows x 28 columns]"
      ]
     },
     "execution_count": 35,
     "metadata": {},
     "output_type": "execute_result"
    }
   ],
   "source": [
    "SwitzerlandDF"
   ]
  },
  {
   "cell_type": "code",
   "execution_count": 36,
   "metadata": {},
   "outputs": [],
   "source": [
    "SwitzerlandDF.drop([\"Unnamed: 0\"],axis=1,inplace=True)"
   ]
  },
  {
   "cell_type": "code",
   "execution_count": 37,
   "metadata": {},
   "outputs": [
    {
     "data": {
      "text/plain": [
       "LinearRegression()"
      ]
     },
     "execution_count": 37,
     "metadata": {},
     "output_type": "execute_result"
    }
   ],
   "source": [
    "lr = linear_model.LinearRegression()\n",
    "x = SwitzerlandDF[['Total inland transport infrastructure investment',\n",
    "'Rail infrastructure maintenance','Road passenger transport',\n",
    "'Road motor vehicles per one million units of current USD GDP',\n",
    "'Density of road (km per one hundred sq. km)',\n",
    "'Total railway enterprises - Number at 31.12']]\n",
    "y = SwitzerlandDF['Killed']\n",
    "lr.fit(X=x, y=y)"
   ]
  },
  {
   "cell_type": "markdown",
   "metadata": {},
   "source": [
    "Linear regression scores:"
   ]
  },
  {
   "cell_type": "code",
   "execution_count": 38,
   "metadata": {},
   "outputs": [
    {
     "name": "stdout",
     "output_type": "stream",
     "text": [
      "Slope: [-7.30605835e-08  2.88222559e-07  1.18991599e-02 -9.84817223e+00\n",
      "  6.44786997e+02 -1.31847337e+00]\n",
      "Intercept: 3442.246599801159\n",
      "R2: 0.9103131744104562\n",
      "R2: 0.9103131744104562\n"
     ]
    }
   ],
   "source": [
    "print(\"Slope:\",lr.coef_)\n",
    "print(\"Intercept:\",lr.intercept_)\n",
    "print(\"R2:\",lr.score(x,y))\n",
    "print(\"R2:\",r2_score(y,lr.predict(x.values)))"
   ]
  },
  {
   "cell_type": "code",
   "execution_count": 39,
   "metadata": {},
   "outputs": [
    {
     "data": {
      "text/html": [
       "<div>\n",
       "<style scoped>\n",
       "    .dataframe tbody tr th:only-of-type {\n",
       "        vertical-align: middle;\n",
       "    }\n",
       "\n",
       "    .dataframe tbody tr th {\n",
       "        vertical-align: top;\n",
       "    }\n",
       "\n",
       "    .dataframe thead th {\n",
       "        text-align: right;\n",
       "    }\n",
       "</style>\n",
       "<table border=\"1\" class=\"dataframe\">\n",
       "  <thead>\n",
       "    <tr style=\"text-align: right;\">\n",
       "      <th></th>\n",
       "      <th>Total inland transport infrastructure investment</th>\n",
       "      <th>Rail infrastructure maintenance</th>\n",
       "      <th>Road passenger transport</th>\n",
       "      <th>Road motor vehicles per one million units of current USD GDP</th>\n",
       "      <th>Density of road (km per one hundred sq. km)</th>\n",
       "      <th>Total railway enterprises - Number at 31.12</th>\n",
       "    </tr>\n",
       "  </thead>\n",
       "  <tbody>\n",
       "    <tr>\n",
       "      <th>0</th>\n",
       "      <td>6.450586e+09</td>\n",
       "      <td>1.998264e+09</td>\n",
       "      <td>92419.0</td>\n",
       "      <td>520.9</td>\n",
       "      <td>1.4</td>\n",
       "      <td>62.0</td>\n",
       "    </tr>\n",
       "    <tr>\n",
       "      <th>1</th>\n",
       "      <td>7.232577e+09</td>\n",
       "      <td>2.235008e+09</td>\n",
       "      <td>93400.0</td>\n",
       "      <td>526.1</td>\n",
       "      <td>1.4</td>\n",
       "      <td>63.0</td>\n",
       "    </tr>\n",
       "    <tr>\n",
       "      <th>2</th>\n",
       "      <td>7.344230e+09</td>\n",
       "      <td>2.413507e+09</td>\n",
       "      <td>94988.0</td>\n",
       "      <td>532.0</td>\n",
       "      <td>1.4</td>\n",
       "      <td>66.0</td>\n",
       "    </tr>\n",
       "    <tr>\n",
       "      <th>3</th>\n",
       "      <td>7.397027e+09</td>\n",
       "      <td>2.402307e+09</td>\n",
       "      <td>96362.0</td>\n",
       "      <td>534.1</td>\n",
       "      <td>1.4</td>\n",
       "      <td>71.0</td>\n",
       "    </tr>\n",
       "    <tr>\n",
       "      <th>4</th>\n",
       "      <td>7.197431e+09</td>\n",
       "      <td>2.420550e+09</td>\n",
       "      <td>97720.0</td>\n",
       "      <td>535.4</td>\n",
       "      <td>1.3</td>\n",
       "      <td>61.0</td>\n",
       "    </tr>\n",
       "    <tr>\n",
       "      <th>5</th>\n",
       "      <td>8.419226e+09</td>\n",
       "      <td>2.761334e+09</td>\n",
       "      <td>99158.0</td>\n",
       "      <td>538.3</td>\n",
       "      <td>1.3</td>\n",
       "      <td>63.0</td>\n",
       "    </tr>\n",
       "    <tr>\n",
       "      <th>6</th>\n",
       "      <td>7.804190e+09</td>\n",
       "      <td>2.699505e+09</td>\n",
       "      <td>101276.0</td>\n",
       "      <td>540.3</td>\n",
       "      <td>1.2</td>\n",
       "      <td>64.0</td>\n",
       "    </tr>\n",
       "    <tr>\n",
       "      <th>7</th>\n",
       "      <td>7.050909e+09</td>\n",
       "      <td>2.708708e+09</td>\n",
       "      <td>103104.0</td>\n",
       "      <td>540.8</td>\n",
       "      <td>1.1</td>\n",
       "      <td>67.0</td>\n",
       "    </tr>\n",
       "    <tr>\n",
       "      <th>8</th>\n",
       "      <td>6.894743e+09</td>\n",
       "      <td>2.593298e+09</td>\n",
       "      <td>104331.0</td>\n",
       "      <td>540.6</td>\n",
       "      <td>1.1</td>\n",
       "      <td>66.0</td>\n",
       "    </tr>\n",
       "    <tr>\n",
       "      <th>9</th>\n",
       "      <td>7.735625e+09</td>\n",
       "      <td>2.338456e+09</td>\n",
       "      <td>105287.0</td>\n",
       "      <td>539.2</td>\n",
       "      <td>1.2</td>\n",
       "      <td>64.0</td>\n",
       "    </tr>\n",
       "    <tr>\n",
       "      <th>10</th>\n",
       "      <td>7.288403e+09</td>\n",
       "      <td>2.417028e+09</td>\n",
       "      <td>98439.0</td>\n",
       "      <td>539.4</td>\n",
       "      <td>1.3</td>\n",
       "      <td>64.0</td>\n",
       "    </tr>\n",
       "  </tbody>\n",
       "</table>\n",
       "</div>"
      ],
      "text/plain": [
       "    Total inland transport infrastructure investment  \\\n",
       "0                                       6.450586e+09   \n",
       "1                                       7.232577e+09   \n",
       "2                                       7.344230e+09   \n",
       "3                                       7.397027e+09   \n",
       "4                                       7.197431e+09   \n",
       "5                                       8.419226e+09   \n",
       "6                                       7.804190e+09   \n",
       "7                                       7.050909e+09   \n",
       "8                                       6.894743e+09   \n",
       "9                                       7.735625e+09   \n",
       "10                                      7.288403e+09   \n",
       "\n",
       "    Rail infrastructure maintenance  Road passenger transport  \\\n",
       "0                      1.998264e+09                   92419.0   \n",
       "1                      2.235008e+09                   93400.0   \n",
       "2                      2.413507e+09                   94988.0   \n",
       "3                      2.402307e+09                   96362.0   \n",
       "4                      2.420550e+09                   97720.0   \n",
       "5                      2.761334e+09                   99158.0   \n",
       "6                      2.699505e+09                  101276.0   \n",
       "7                      2.708708e+09                  103104.0   \n",
       "8                      2.593298e+09                  104331.0   \n",
       "9                      2.338456e+09                  105287.0   \n",
       "10                     2.417028e+09                   98439.0   \n",
       "\n",
       "    Road motor vehicles per one million units of current USD GDP  \\\n",
       "0                                               520.9              \n",
       "1                                               526.1              \n",
       "2                                               532.0              \n",
       "3                                               534.1              \n",
       "4                                               535.4              \n",
       "5                                               538.3              \n",
       "6                                               540.3              \n",
       "7                                               540.8              \n",
       "8                                               540.6              \n",
       "9                                               539.2              \n",
       "10                                              539.4              \n",
       "\n",
       "    Density of road (km per one hundred sq. km)  \\\n",
       "0                                           1.4   \n",
       "1                                           1.4   \n",
       "2                                           1.4   \n",
       "3                                           1.4   \n",
       "4                                           1.3   \n",
       "5                                           1.3   \n",
       "6                                           1.2   \n",
       "7                                           1.1   \n",
       "8                                           1.1   \n",
       "9                                           1.2   \n",
       "10                                          1.3   \n",
       "\n",
       "    Total railway enterprises - Number at 31.12  \n",
       "0                                          62.0  \n",
       "1                                          63.0  \n",
       "2                                          66.0  \n",
       "3                                          71.0  \n",
       "4                                          61.0  \n",
       "5                                          63.0  \n",
       "6                                          64.0  \n",
       "7                                          67.0  \n",
       "8                                          66.0  \n",
       "9                                          64.0  \n",
       "10                                         64.0  "
      ]
     },
     "execution_count": 39,
     "metadata": {},
     "output_type": "execute_result"
    }
   ],
   "source": [
    "SwitzerlandDF[['Total inland transport infrastructure investment',\n",
    "'Rail infrastructure maintenance','Road passenger transport',\n",
    "'Road motor vehicles per one million units of current USD GDP',\n",
    "'Density of road (km per one hundred sq. km)',\n",
    "'Total railway enterprises - Number at 31.12']]"
   ]
  },
  {
   "cell_type": "markdown",
   "metadata": {},
   "source": [
    "# Prediction results\n",
    "This is the result if all the features are as same as the last sumple"
   ]
  },
  {
   "cell_type": "code",
   "execution_count": 40,
   "metadata": {},
   "outputs": [
    {
     "data": {
      "text/plain": [
       "array([[6.45058602e+09, 1.99826364e+09, 9.24190000e+04, 5.20900000e+02,\n",
       "        1.40000000e+00, 6.20000000e+01],\n",
       "       [7.23257698e+09, 2.23500810e+09, 9.34000000e+04, 5.26100000e+02,\n",
       "        1.40000000e+00, 6.30000000e+01],\n",
       "       [7.34422965e+09, 2.41350701e+09, 9.49880000e+04, 5.32000000e+02,\n",
       "        1.40000000e+00, 6.60000000e+01],\n",
       "       [7.39702657e+09, 2.40230726e+09, 9.63620000e+04, 5.34100000e+02,\n",
       "        1.40000000e+00, 7.10000000e+01],\n",
       "       [7.19743125e+09, 2.42054998e+09, 9.77200000e+04, 5.35400000e+02,\n",
       "        1.30000000e+00, 6.10000000e+01],\n",
       "       [8.41922645e+09, 2.76133383e+09, 9.91580000e+04, 5.38300000e+02,\n",
       "        1.30000000e+00, 6.30000000e+01],\n",
       "       [7.80418960e+09, 2.69950468e+09, 1.01276000e+05, 5.40300000e+02,\n",
       "        1.20000000e+00, 6.40000000e+01],\n",
       "       [7.05090899e+09, 2.70870817e+09, 1.03104000e+05, 5.40800000e+02,\n",
       "        1.10000000e+00, 6.70000000e+01],\n",
       "       [6.89474324e+09, 2.59329812e+09, 1.04331000e+05, 5.40600000e+02,\n",
       "        1.10000000e+00, 6.60000000e+01],\n",
       "       [7.73562513e+09, 2.33845601e+09, 1.05287000e+05, 5.39200000e+02,\n",
       "        1.20000000e+00, 6.40000000e+01],\n",
       "       [7.28840332e+09, 2.41702849e+09, 9.84390000e+04, 5.39400000e+02,\n",
       "        1.30000000e+00, 6.40000000e+01]])"
      ]
     },
     "execution_count": 40,
     "metadata": {},
     "output_type": "execute_result"
    }
   ],
   "source": [
    "SwitzerlandDF[['Total inland transport infrastructure investment',\n",
    "'Rail infrastructure maintenance','Road passenger transport',\n",
    "'Road motor vehicles per one million units of current USD GDP',\n",
    "'Density of road (km per one hundred sq. km)',\n",
    "'Total railway enterprises - Number at 31.12']].values"
   ]
  },
  {
   "cell_type": "code",
   "execution_count": 41,
   "metadata": {},
   "outputs": [
    {
     "data": {
      "text/plain": [
       "array([219.47183647])"
      ]
     },
     "execution_count": 41,
     "metadata": {},
     "output_type": "execute_result"
    }
   ],
   "source": [
    "lr.predict([[7.28840332e+09, 2.41702849e+09, 9.84390000e+04, 5.39400000e+02,1.30000000e+00, 6.40000000e+01]])"
   ]
  },
  {
   "cell_type": "markdown",
   "metadata": {},
   "source": [
    "The result is similar to 227 as explected"
   ]
  },
  {
   "cell_type": "markdown",
   "metadata": {},
   "source": [
    "Prediction if we will increase the \"Total inland transport infrastructure investment\" featue:"
   ]
  },
  {
   "cell_type": "code",
   "execution_count": 42,
   "metadata": {},
   "outputs": [
    {
     "data": {
      "text/plain": [
       "array([190.24760306])"
      ]
     },
     "execution_count": 42,
     "metadata": {},
     "output_type": "execute_result"
    }
   ],
   "source": [
    "lr.predict([[7.68840332e+09, 2.41702849e+09, 9.84390000e+04, 5.39400000e+02,1.30000000e+00, 6.40000000e+01]])"
   ]
  },
  {
   "cell_type": "markdown",
   "metadata": {},
   "source": [
    "Number road casulties will decrease"
   ]
  },
  {
   "cell_type": "markdown",
   "metadata": {},
   "source": [
    "Prediction if we will increase the \"Rail infrastructure maintenance\" featue:"
   ]
  },
  {
   "cell_type": "code",
   "execution_count": 43,
   "metadata": {},
   "outputs": [
    {
     "data": {
      "text/plain": [
       "array([305.93860409])"
      ]
     },
     "execution_count": 43,
     "metadata": {},
     "output_type": "execute_result"
    }
   ],
   "source": [
    "lr.predict([[7.28840332e+09, 2.71702849e+09, 9.84390000e+04, 5.39400000e+02,1.30000000e+00, 6.40000000e+01]])"
   ]
  },
  {
   "cell_type": "markdown",
   "metadata": {},
   "source": [
    "Number of road casulties will increase"
   ]
  },
  {
   "cell_type": "markdown",
   "metadata": {},
   "source": [
    "Prediction if we will increase the \"Road passenger transport\" featue:"
   ]
  },
  {
   "cell_type": "code",
   "execution_count": 44,
   "metadata": {},
   "outputs": [
    {
     "data": {
      "text/plain": [
       "array([237.32057632])"
      ]
     },
     "execution_count": 44,
     "metadata": {},
     "output_type": "execute_result"
    }
   ],
   "source": [
    "lr.predict([[7.28840332e+09, 2.41702849e+09, 9.99390000e+04, 5.39400000e+02,1.30000000e+00, 6.40000000e+01]])"
   ]
  },
  {
   "cell_type": "markdown",
   "metadata": {},
   "source": [
    "Number of road casulties will increase"
   ]
  },
  {
   "cell_type": "markdown",
   "metadata": {},
   "source": [
    "Prediction if we will increase the \"Road motor vehicles per one million units of current USD GDP\" featue:"
   ]
  },
  {
   "cell_type": "code",
   "execution_count": 45,
   "metadata": {},
   "outputs": [
    {
     "data": {
      "text/plain": [
       "array([209.62366423])"
      ]
     },
     "execution_count": 45,
     "metadata": {},
     "output_type": "execute_result"
    }
   ],
   "source": [
    "lr.predict([[7.28840332e+09, 2.41702849e+09, 9.84390000e+04, 5.40400000e+02,1.30000000e+00, 6.40000000e+01]])"
   ]
  },
  {
   "cell_type": "markdown",
   "metadata": {},
   "source": [
    "Number road casulties will decrease"
   ]
  },
  {
   "cell_type": "markdown",
   "metadata": {},
   "source": [
    "Prediction if we will increase the \"Density of road (km per one hundred sq. km)\" featue:"
   ]
  },
  {
   "cell_type": "code",
   "execution_count": 46,
   "metadata": {},
   "outputs": [
    {
     "data": {
      "text/plain": [
       "array([283.95053614])"
      ]
     },
     "execution_count": 46,
     "metadata": {},
     "output_type": "execute_result"
    }
   ],
   "source": [
    "lr.predict([[7.28840332e+09, 2.41702849e+09, 9.84390000e+04, 5.39400000e+02,1.40000000e+00, 6.40000000e+01]])"
   ]
  },
  {
   "cell_type": "markdown",
   "metadata": {},
   "source": [
    "Number of road casulties will increase"
   ]
  },
  {
   "cell_type": "markdown",
   "metadata": {},
   "source": [
    "Prediction if we will increase the \"Total railway enterprises - Number at 31.12\" featue:"
   ]
  },
  {
   "cell_type": "code",
   "execution_count": 47,
   "metadata": {},
   "outputs": [
    {
     "data": {
      "text/plain": [
       "array([206.28710276])"
      ]
     },
     "execution_count": 47,
     "metadata": {},
     "output_type": "execute_result"
    }
   ],
   "source": [
    "lr.predict([[7.28840332e+09, 2.41702849e+09, 9.84390000e+04, 5.39400000e+02,1.30000000e+00, 7.40000000e+01]])"
   ]
  },
  {
   "cell_type": "markdown",
   "metadata": {},
   "source": [
    "Number road casulties will decrease"
   ]
  }
 ],
 "metadata": {
  "kernelspec": {
   "display_name": "Python 3.9.7 ('base')",
   "language": "python",
   "name": "python3"
  },
  "language_info": {
   "codemirror_mode": {
    "name": "ipython",
    "version": 3
   },
   "file_extension": ".py",
   "mimetype": "text/x-python",
   "name": "python",
   "nbconvert_exporter": "python",
   "pygments_lexer": "ipython3",
   "version": "3.9.7"
  },
  "orig_nbformat": 4,
  "vscode": {
   "interpreter": {
    "hash": "3d10a69ff13bc369182af9f00cae5e52c0028de868828cb7bedeea4b548fe8b1"
   }
  }
 },
 "nbformat": 4,
 "nbformat_minor": 2
}

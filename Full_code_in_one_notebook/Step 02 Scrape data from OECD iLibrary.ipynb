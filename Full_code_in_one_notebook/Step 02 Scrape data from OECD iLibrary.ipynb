{
 "cells": [
  {
   "cell_type": "markdown",
   "id": "141fa1fa",
   "metadata": {},
   "source": [
    "Import Libraries section:\n",
    "see the comment at this section that describes the porpes of eatch library."
   ]
  },
  {
   "cell_type": "code",
   "execution_count": 1,
   "id": "404fe931",
   "metadata": {},
   "outputs": [
    {
     "name": "stdout",
     "output_type": "stream",
     "text": [
      "\n"
     ]
    },
    {
     "name": "stderr",
     "output_type": "stream",
     "text": [
      "[WDM] - ====== WebDriver manager ======\n",
      "[WDM] - Current google-chrome version is 102.0.5005\n",
      "[WDM] - Get LATEST chromedriver version for 102.0.5005 google-chrome\n",
      "[WDM] - About to download new driver from https://chromedriver.storage.googleapis.com/102.0.5005.61/chromedriver_win32.zip\n",
      "[WDM] - Driver has been saved in cache [C:\\Users\\zeev_s\\.wdm\\drivers\\chromedriver\\win32\\102.0.5005.61]\n"
     ]
    }
   ],
   "source": [
    "import localLib.CrawlingSearchOECD as CrawlingSearchOECD                       #\n",
    "from localLib.CrawlingSearchOECD import webdriver         #\n",
    "from localLib.CrawlingSearchOECD import By                #   Importing The file whrer created in the previus notebook which resposable for\n",
    "from localLib.CrawlingSearchOECD import chrome_options    #   to search data source URL by kewords, also wariables are imported.\n",
    "from localLib.CrawlingSearchOECD import chrome_service    #       \n",
    "import selenium                                                     #\n",
    "from selenium import webdriver             # webdriver for selenium.\n",
    "from selenium.webdriver.common.action_chains import ActionChains    # Action chain to imitate mouse hovering and mouse scroling.\n",
    "from selenium.webdriver.chrome.options import Options      # oprions for the webdriver such as incognito mode it works faster then ordanary mode.\n",
    "from selenium.webdriver.support.ui import WebDriverWait     # WebDriverWait function enshures that the web page is fully loaded.\n",
    "from selenium.common.exceptions import TimeoutException       # Use for error handeling in case of timeout exaption.\n",
    "from selenium.common.exceptions import NoSuchElementException    # Use for error handeling in case of missing element in the webdriver\n",
    "from selenium.webdriver.support import expected_conditions as EC     # general selenum exceprions library \n",
    "from selenium.webdriver.common.proxy import Proxy      #enables use of proxies in webdriver options\n",
    "import localLib.proxy_randomizer         #a proxy randomizer library written in proxy_randomyzer section for featching proxy servers URL's in case that the crawling will ban\n",
    "from localLib.proxy_randomizer import getProxList    # feaching a list of proxy addresses  \n",
    "import random   #random lib for random proxy server selection\n",
    "import time     # time repo is imported for holding the code in order to let the page load\n",
    "import pandas as pd  # pandas library for dataframes in order to accomedate the data in to those frames\n",
    "\n"
   ]
  },
  {
   "cell_type": "markdown",
   "id": "d2ae77f6",
   "metadata": {},
   "source": [
    "Utillity fuctions:\n"
   ]
  },
  {
   "cell_type": "code",
   "execution_count": 2,
   "id": "a25818e5",
   "metadata": {},
   "outputs": [],
   "source": [
    "def get_dataframe_from_webPage(url,sleepTime):\n",
    "    Main_page=webdriver.Chrome(options=chrome_options,service=chrome_service)\n",
    "    Main_page.get(url)\n",
    "    try:\n",
    "        element_present = EC.presence_of_element_located((By.ID, '_ctl0_ContentPlaceHolder1__ctl4_contentcenter'))\n",
    "        WebDriverWait(Main_page, sleepTime).until(element_present)\n",
    "    except TimeoutException:\n",
    "        print(\"Timed out waiting for page to load\")\n",
    "    finally:\n",
    "        print(\"Page loaded\")\n",
    "\n",
    "\n",
    "\n",
    "    TableName,df=fetch_dataframe(Main_page)\n",
    "    Main_page.close()\n",
    "\n",
    "    return TableName,df"
   ]
  },
  {
   "cell_type": "code",
   "execution_count": 3,
   "id": "c8913b5f",
   "metadata": {},
   "outputs": [],
   "source": [
    "def fetch_dataframe(Main_page):\n",
    "    Table_title=Main_page.find_element(By.CLASS_NAME,'dtitle')\n",
    "    if (\"indicators\" in Table_title.text):\n",
    "        TableName=Main_page.find_element(By.XPATH,'//*[@id=\"PDim_INDICATOR\"]/option[1]').text\n",
    "    else:\n",
    "        try:\n",
    "            TableName=Main_page.find_element(By.XPATH,'//*[@id=\"PDim_VARIABLE\"]/option[1]').text\n",
    "        except NoSuchElementException:\n",
    "            TableName=Main_page.find_element(By.XPATH,'//*[@id=\"QueryNameText\"]').text\n",
    "\n",
    "\n",
    "    DataTable=Main_page.find_element(By.XPATH,'//*[@id=\"tabletofreeze\"]/table/thead')\n",
    "    tr_arr=DataTable.get_property('children')\n",
    "    TableHead=tr_arr[-4]\n",
    "    colParamList=list(['Country'])\n",
    "    dictionary={'Country':[]}\n",
    "    ColParamRange=TableHead.find_elements(By.CLASS_NAME,'HDim')\n",
    "\n",
    "    for item in ColParamRange:\n",
    "        colParamList.append(item.text)\n",
    "        colName=item.text\n",
    "        dictionary.update({colName:[]})\n",
    "\n",
    "    TableBody=Main_page.find_element(By.XPATH,'//*[@id=\"tabletofreeze\"]/table/tbody')\n",
    "    TableRows=TableBody.get_property('children')\n",
    "    \n",
    "    i=1\n",
    "    for row in TableRows:\n",
    "        if(i % 2 !=0):\n",
    "            t=(row.find_element(By.CLASS_NAME,'RowDimLabel').text)\n",
    "            dictionary[colParamList[0]].append(t)\n",
    "            i+=1\n",
    "        elif(i % 2 ==0):\n",
    "            t=(row.find_element(By.CLASS_NAME,'RowDimLabel2').text)\n",
    "            dictionary[colParamList[0]].append(t)\n",
    "            i+=1\n",
    "\n",
    "    i=1\n",
    "    for row in TableRows:\n",
    "        if (i % 2!=0):\n",
    "            cells=row.find_elements(By.CLASS_NAME,'Data')\n",
    "            i+=1\n",
    "        elif(i % 2 ==0):\n",
    "            cells=row.find_elements(By.CLASS_NAME,'Data2')\n",
    "            i+=1\n",
    "        j=1\n",
    "        for cell in cells:\n",
    "            dictionary[colParamList[j]].append(cell.get_property('textContent'))\n",
    "            j+=1\n",
    "\n",
    "    df=pd.DataFrame(dictionary)\n",
    "\n",
    "    return TableName,df"
   ]
  },
  {
   "cell_type": "code",
   "execution_count": 4,
   "id": "507b40a5",
   "metadata": {},
   "outputs": [],
   "source": [
    "def get_additional_Table_url_from_WebPage(url,diffrentDataset=None,sleepTime=\"10\",scroll=\"0\"):\n",
    "    Main_page=webdriver.Chrome(options=chrome_options,service=chrome_service)\n",
    "    Main_page.get(url)\n",
    "    time.sleep(sleepTime)\n",
    "    Table_title=Main_page.find_element(By.CLASS_NAME,'dtitle')\n",
    "    if (\"indicators\" in Table_title.text):\n",
    "        TableName=Main_page.find_element(By.XPATH,'//*[@id=\"PDim_INDICATOR\"]/option[1]').text\n",
    "    else:\n",
    "        TableName=Main_page.find_element(By.XPATH,'//*[@id=\"PDim_VARIABLE\"]/option[1]').text\n",
    "    ContentTable=Main_page.find_element(By.XPATH,'//*[@id=\"BrowseThemesContent\"]')\n",
    "    if (diffrentDataset):\n",
    "        action = ActionChains(Main_page)\n",
    "        Table_to_close=ContentTable.find_element(By.CLASS_NAME,'opened')\n",
    "        action.move_to_element_with_offset(Table_to_close,5,0)\n",
    "        action.click()\n",
    "        action.perform()\n",
    "        Table_arr=ContentTable.find_elements(By.TAG_NAME,'li')\n",
    "        for table in Table_arr:\n",
    "            if (table.text==diffrentDataset):\n",
    "                table.click()\n",
    "                break\n",
    "    OpenedTable=ContentTable.find_element(By.CLASS_NAME,'opened')\n",
    "    options=OpenedTable.find_elements(By.CLASS_NAME,'q')\n",
    "    addTableNames=list()\n",
    "    addDataFrames=list()\n",
    "    for option in options:\n",
    "        if (option.text!=TableName):\n",
    "            option.click()\n",
    "            time.sleep(sleepTime)\n",
    "            Main_page.execute_script(\"var q=document.documentElement.scrollTop=\"+scroll) \n",
    "            Tname,df=fetch_dataframe(Main_page)\n",
    "            addTableNames.append(Tname)\n",
    "            addDataFrames.append(df)\n",
    "                           \n",
    "    Main_page.close()\n",
    "    return  addTableNames,addDataFrames"
   ]
  },
  {
   "cell_type": "markdown",
   "id": "f7274f00",
   "metadata": {},
   "source": [
    "The scraping process"
   ]
  },
  {
   "cell_type": "markdown",
   "id": "07cad9d4",
   "metadata": {},
   "source": []
  },
  {
   "cell_type": "code",
   "execution_count": 5,
   "id": "c59a6072",
   "metadata": {},
   "outputs": [],
   "source": [
    "chrome_options=Options()\n",
    "chrome_options.add_argument(\"--incognito\")"
   ]
  },
  {
   "cell_type": "code",
   "execution_count": 6,
   "id": "688c0bf3",
   "metadata": {},
   "outputs": [
    {
     "name": "stdout",
     "output_type": "stream",
     "text": [
      "The latest publicated year is:2021 [2]\n",
      "The title of the reaserch is:\n",
      "Road accidents (Edition 2020) Dataset Archive English\n",
      "09 Mar 2021 International Transport Forum in ITF Transport Statistics\n",
      "The Phrase is found\n",
      "Heare are another options of Datasets:\n",
      "                                            Datasets  \\\n",
      "0                                    Goods transport   \n",
      "1                                Passenger transport   \n",
      "2                                     Road accidents   \n",
      "3                    Short-term transport indicators   \n",
      "4  Transport infrastructure investment and mainte...   \n",
      "5                   Transport performance indicators   \n",
      "6                     Road haulage charges and taxes   \n",
      "7                    Casualties by age and road user   \n",
      "8                             Urban access framework   \n",
      "9                        Annual transport statistics   \n",
      "\n",
      "                                                 URL  \n",
      "0  https://www.oecd-ilibrary.org/deliverdotstat?i...  \n",
      "1  https://www.oecd-ilibrary.org/deliverdotstat?i...  \n",
      "2  https://www.oecd-ilibrary.org/deliverdotstat?i...  \n",
      "3  https://www.oecd-ilibrary.org/deliverdotstat?i...  \n",
      "4  https://www.oecd-ilibrary.org/deliverdotstat?i...  \n",
      "5  https://www.oecd-ilibrary.org/deliverdotstat?i...  \n",
      "6  https://www.oecd-ilibrary.org/deliverdotstat?i...  \n",
      "7  https://www.oecd-ilibrary.org/deliverdotstat?i...  \n",
      "8  https://www.oecd-ilibrary.org/deliverdotstat?i...  \n",
      "9  https://www.oecd-ilibrary.org/deliverdotstat?i...  \n",
      "The URl of the dataset is:\n",
      "https://www.oecd-ilibrary.org/deliverdotstat?itemId=%2Fcontent%2Fdata%2Fg2g55585-en&containerItemId=%2Fcontent%2Fcollection%2Ftrsprt-data-en&baseurl=http%3A%2F%2Fstats.oecd.org%2Fwbos%2Fbrandedview.aspx%23g2g55585-en&oecdstat=trsprt-data-en&return_url=https%3A%2F%2Fwww.oecd-ilibrary.org%3A443%2Fcontent%2Fdata%2Fg2g55585-en&lang=en&cid=guest&institution_name=&doi=g2g55585-en\n",
      "Page loaded\n"
     ]
    }
   ],
   "source": [
    "sleepTime=10\n",
    "main_url=CrawlingSearchOECD.GetDatasetUrl(\"Road accidents\")\n",
    "roadAccidents_T_Name,roadAccidentsDf=get_dataframe_from_webPage(main_url,sleepTime=sleepTime)\n",
    "roadAccidentsDf.to_csv('./OECD_Data/'+roadAccidents_T_Name+'.csv')\n",
    "addTableNames,addDataFrames=get_additional_Table_url_from_WebPage(main_url,None,sleepTime)\n",
    "if (addTableNames):\n",
    "    i=0\n",
    "    for table in addDataFrames: \n",
    "       table.to_csv('./OECD_Data/'+addTableNames[i]+'.csv')\n",
    "       i+=1"
   ]
  },
  {
   "cell_type": "code",
   "execution_count": 13,
   "id": "0aefd556",
   "metadata": {},
   "outputs": [
    {
     "name": "stdout",
     "output_type": "stream",
     "text": [
      "The latest publicated year is:2019 [2]\n",
      "The title of the reaserch is:\n",
      "Transport infrastructure investment and maintenance (Edition 2019) Dataset Archive English\n",
      "26 Nov 2019 International Transport Forum in ITF Transport Statistics\n",
      "The Phrase is found\n",
      "Heare are another options of Datasets:\n",
      "                                            Datasets  \\\n",
      "0                                    Goods transport   \n",
      "1                                Passenger transport   \n",
      "2                                     Road accidents   \n",
      "3                    Short-term transport indicators   \n",
      "4  Transport infrastructure investment and mainte...   \n",
      "5                   Transport performance indicators   \n",
      "6                     Road haulage charges and taxes   \n",
      "7                    Casualties by age and road user   \n",
      "8                             Urban access framework   \n",
      "9                        Annual transport statistics   \n",
      "\n",
      "                                                 URL  \n",
      "0  https://www.oecd-ilibrary.org/deliverdotstat?i...  \n",
      "1  https://www.oecd-ilibrary.org/deliverdotstat?i...  \n",
      "2  https://www.oecd-ilibrary.org/deliverdotstat?i...  \n",
      "3  https://www.oecd-ilibrary.org/deliverdotstat?i...  \n",
      "4  https://www.oecd-ilibrary.org/deliverdotstat?i...  \n",
      "5  https://www.oecd-ilibrary.org/deliverdotstat?i...  \n",
      "6  https://www.oecd-ilibrary.org/deliverdotstat?i...  \n",
      "7  https://www.oecd-ilibrary.org/deliverdotstat?i...  \n",
      "8  https://www.oecd-ilibrary.org/deliverdotstat?i...  \n",
      "9  https://www.oecd-ilibrary.org/deliverdotstat?i...  \n",
      "The URl of the dataset is:\n",
      "https://www.oecd-ilibrary.org/deliverdotstat?itemId=%2Fcontent%2Fdata%2Fg2g55573-en&containerItemId=%2Fcontent%2Fcollection%2Ftrsprt-data-en&baseurl=http%3A%2F%2Fstats.oecd.org%2Fwbos%2Fbrandedview.aspx%23g2g55573-en&oecdstat=trsprt-data-en&return_url=https%3A%2F%2Fwww.oecd-ilibrary.org%3A443%2Fcontent%2Fdata%2Fg2g55573-en&lang=en&cid=guest&institution_name=&doi=g2g55573-en\n",
      "Page loaded\n"
     ]
    }
   ],
   "source": [
    "sleepTime=10\n",
    "url=CrawlingSearchOECD.GetDatasetUrl(\"Transport infrastructure investment and maintenance\")\n",
    "Investment_T_Name,InvestmentDf=get_dataframe_from_webPage(url,sleepTime)\n",
    "InvestmentDf.to_csv('./OECD_Data/'+Investment_T_Name+'.csv')\n",
    "addTableNames,addDataFrames=get_additional_Table_url_from_WebPage(url,None,sleepTime)\n",
    "if (addTableNames):\n",
    "    i=0\n",
    "    for table in addDataFrames:\n",
    "       table.to_csv('./OECD_Data/'+addTableNames[i]+'.csv')\n",
    "       i+=1"
   ]
  },
  {
   "cell_type": "code",
   "execution_count": 14,
   "id": "b1f312b8",
   "metadata": {},
   "outputs": [
    {
     "name": "stdout",
     "output_type": "stream",
     "text": [
      "The latest publicated year is:2021 [36]\n",
      "The title of the reaserch is:\n",
      "Passenger transport (Edition 2020) Dataset Archive English\n",
      "09 Mar 2021 International Transport Forum in ITF Transport Statistics\n",
      "The Phrase is found\n",
      "Heare are another options of Datasets:\n",
      "                                            Datasets  \\\n",
      "0                                    Goods transport   \n",
      "1                                Passenger transport   \n",
      "2                                     Road accidents   \n",
      "3                    Short-term transport indicators   \n",
      "4  Transport infrastructure investment and mainte...   \n",
      "5                   Transport performance indicators   \n",
      "6                     Road haulage charges and taxes   \n",
      "7                    Casualties by age and road user   \n",
      "8                             Urban access framework   \n",
      "9                        Annual transport statistics   \n",
      "\n",
      "                                                 URL  \n",
      "0  https://www.oecd-ilibrary.org/deliverdotstat?i...  \n",
      "1  https://www.oecd-ilibrary.org/deliverdotstat?i...  \n",
      "2  https://www.oecd-ilibrary.org/deliverdotstat?i...  \n",
      "3  https://www.oecd-ilibrary.org/deliverdotstat?i...  \n",
      "4  https://www.oecd-ilibrary.org/deliverdotstat?i...  \n",
      "5  https://www.oecd-ilibrary.org/deliverdotstat?i...  \n",
      "6  https://www.oecd-ilibrary.org/deliverdotstat?i...  \n",
      "7  https://www.oecd-ilibrary.org/deliverdotstat?i...  \n",
      "8  https://www.oecd-ilibrary.org/deliverdotstat?i...  \n",
      "9  https://www.oecd-ilibrary.org/deliverdotstat?i...  \n",
      "The URl of the dataset is:\n",
      "https://www.oecd-ilibrary.org/deliverdotstat?itemId=%2Fcontent%2Fdata%2Fg2g5557f-en&containerItemId=%2Fcontent%2Fcollection%2Ftrsprt-data-en&baseurl=http%3A%2F%2Fstats.oecd.org%2Fwbos%2Fbrandedview.aspx%23g2g5557f-en&oecdstat=trsprt-data-en&return_url=https%3A%2F%2Fwww.oecd-ilibrary.org%3A443%2Fcontent%2Fdata%2Fg2g5557f-en&lang=en&cid=guest&institution_name=&doi=g2g5557f-en\n",
      "Page loaded\n"
     ]
    }
   ],
   "source": [
    "sleepTime=10\n",
    "url=CrawlingSearchOECD.GetDatasetUrl(\"Passenger transport\")\n",
    "Investment_T_Name,InvestmentDf=get_dataframe_from_webPage(url,sleepTime)\n",
    "InvestmentDf.to_csv('./OECD_Data/'+Investment_T_Name+'.csv')\n",
    "addTableNames,addDataFrames=get_additional_Table_url_from_WebPage(url,None,sleepTime)\n",
    "if (addTableNames):\n",
    "    i=0\n",
    "    for table in addDataFrames:\n",
    "       table.to_csv('./OECD_Data/'+addTableNames[i]+'.csv')\n",
    "       i+=1"
   ]
  },
  {
   "cell_type": "code",
   "execution_count": 15,
   "id": "91b43362",
   "metadata": {},
   "outputs": [
    {
     "name": "stdout",
     "output_type": "stream",
     "text": [
      "The latest publicated year is:2021 [1]\n",
      "The title of the reaserch is:\n",
      "Annual transport statistics Dataset English\n",
      "21 Jul 2021 OECD in ITF Transport Statistics\n",
      "The Phrase is found\n",
      "Heare are another options of Datasets:\n",
      "                                            Datasets  \\\n",
      "0                                    Goods transport   \n",
      "1                                Passenger transport   \n",
      "2                                     Road accidents   \n",
      "3                    Short-term transport indicators   \n",
      "4  Transport infrastructure investment and mainte...   \n",
      "5                   Transport performance indicators   \n",
      "6                     Road haulage charges and taxes   \n",
      "7                    Casualties by age and road user   \n",
      "8                             Urban access framework   \n",
      "9                        Annual transport statistics   \n",
      "\n",
      "                                                 URL  \n",
      "0  https://www.oecd-ilibrary.org/deliverdotstat?i...  \n",
      "1  https://www.oecd-ilibrary.org/deliverdotstat?i...  \n",
      "2  https://www.oecd-ilibrary.org/deliverdotstat?i...  \n",
      "3  https://www.oecd-ilibrary.org/deliverdotstat?i...  \n",
      "4  https://www.oecd-ilibrary.org/deliverdotstat?i...  \n",
      "5  https://www.oecd-ilibrary.org/deliverdotstat?i...  \n",
      "6  https://www.oecd-ilibrary.org/deliverdotstat?i...  \n",
      "7  https://www.oecd-ilibrary.org/deliverdotstat?i...  \n",
      "8  https://www.oecd-ilibrary.org/deliverdotstat?i...  \n",
      "9  https://www.oecd-ilibrary.org/deliverdotstat?i...  \n",
      "The URl of the dataset is:\n",
      "https://www.oecd-ilibrary.org/deliverdotstat?itemId=%2Fcontent%2Fdata%2F4785726e-en&containerItemId=%2Fcontent%2Fcollection%2Ftrsprt-data-en&baseurl=http%3A%2F%2Fstats.oecd.org%2Fwbos%2Fbrandedview.aspx%234785726e-en&oecdstat=trsprt-data-en&return_url=https%3A%2F%2Fwww.oecd-ilibrary.org%3A443%2Fcontent%2Fdata%2F4785726e-en&lang=en&cid=guest&institution_name=&doi=4785726e-en\n",
      "Page loaded\n"
     ]
    }
   ],
   "source": [
    "sleepTime=10\n",
    "url=CrawlingSearchOECD.GetDatasetUrl(\"Annual transport statistics\")\n",
    "Investment_T_Name,InvestmentDf=get_dataframe_from_webPage(url,sleepTime)\n",
    "InvestmentDf.to_csv('./OECD_Data/'+Investment_T_Name+'.csv')\n",
    "addTableNames,addDataFrames=get_additional_Table_url_from_WebPage(url,None,sleepTime,\"400\")\n",
    "if (addTableNames):\n",
    "    i=0\n",
    "    for table in addDataFrames:\n",
    "       table.to_csv('./OECD_Data/'+addTableNames[i]+'.csv')\n",
    "       i+=1"
   ]
  },
  {
   "cell_type": "code",
   "execution_count": 16,
   "id": "4aabe4f6",
   "metadata": {},
   "outputs": [
    {
     "name": "stdout",
     "output_type": "stream",
     "text": [
      "The latest publicated year is:2019 [2]\n",
      "The title of the reaserch is:\n",
      "Transport performance indicators (Edition 2019) Dataset Archive English\n",
      "26 Nov 2019 International Transport Forum in ITF Transport Statistics\n",
      "The Phrase is found\n",
      "Heare are another options of Datasets:\n",
      "                                            Datasets  \\\n",
      "0                                    Goods transport   \n",
      "1                                Passenger transport   \n",
      "2                                     Road accidents   \n",
      "3                    Short-term transport indicators   \n",
      "4  Transport infrastructure investment and mainte...   \n",
      "5                   Transport performance indicators   \n",
      "6                     Road haulage charges and taxes   \n",
      "7                    Casualties by age and road user   \n",
      "8                             Urban access framework   \n",
      "9                        Annual transport statistics   \n",
      "\n",
      "                                                 URL  \n",
      "0  https://www.oecd-ilibrary.org/deliverdotstat?i...  \n",
      "1  https://www.oecd-ilibrary.org/deliverdotstat?i...  \n",
      "2  https://www.oecd-ilibrary.org/deliverdotstat?i...  \n",
      "3  https://www.oecd-ilibrary.org/deliverdotstat?i...  \n",
      "4  https://www.oecd-ilibrary.org/deliverdotstat?i...  \n",
      "5  https://www.oecd-ilibrary.org/deliverdotstat?i...  \n",
      "6  https://www.oecd-ilibrary.org/deliverdotstat?i...  \n",
      "7  https://www.oecd-ilibrary.org/deliverdotstat?i...  \n",
      "8  https://www.oecd-ilibrary.org/deliverdotstat?i...  \n",
      "9  https://www.oecd-ilibrary.org/deliverdotstat?i...  \n",
      "The URl of the dataset is:\n",
      "https://www.oecd-ilibrary.org/deliverdotstat?itemId=%2Fcontent%2Fdata%2F2122fa17-en&containerItemId=%2Fcontent%2Fcollection%2Ftrsprt-data-en&baseurl=http%3A%2F%2Fstats.oecd.org%2Fwbos%2Fbrandedview.aspx%232122fa17-en&oecdstat=trsprt-data-en&return_url=https%3A%2F%2Fwww.oecd-ilibrary.org%3A443%2Fcontent%2Fdata%2F2122fa17-en&lang=en&cid=guest&institution_name=&doi=2122fa17-en\n",
      "Page loaded\n"
     ]
    }
   ],
   "source": [
    "sleepTime=10\n",
    "url=CrawlingSearchOECD.GetDatasetUrl(\"Transport performance indicators\")\n",
    "Investment_T_Name,InvestmentDf=get_dataframe_from_webPage(url,sleepTime)\n",
    "InvestmentDf.to_csv('./OECD_Data/'+Investment_T_Name+'.csv')\n",
    "addTableNames,addDataFrames=get_additional_Table_url_from_WebPage(url,None,sleepTime)\n",
    "if (addTableNames):\n",
    "    i=0\n",
    "    for table in addDataFrames:\n",
    "       table.to_csv('./OECD_Data/'+addTableNames[i]+'.csv')\n",
    "       i+=1"
   ]
  },
  {
   "cell_type": "code",
   "execution_count": 17,
   "id": "157f21dd",
   "metadata": {},
   "outputs": [
    {
     "name": "stdout",
     "output_type": "stream",
     "text": [
      "The latest publicated year is:2021 [2]\n",
      "The title of the reaserch is:\n",
      "Road accidents (Edition 2020) Dataset Archive English\n",
      "09 Mar 2021 International Transport Forum in ITF Transport Statistics\n",
      "The Phrase is found\n",
      "Heare are another options of Datasets:\n",
      "                                            Datasets  \\\n",
      "0                                    Goods transport   \n",
      "1                                Passenger transport   \n",
      "2                                     Road accidents   \n",
      "3                    Short-term transport indicators   \n",
      "4  Transport infrastructure investment and mainte...   \n",
      "5                   Transport performance indicators   \n",
      "6                     Road haulage charges and taxes   \n",
      "7                    Casualties by age and road user   \n",
      "8                             Urban access framework   \n",
      "9                        Annual transport statistics   \n",
      "\n",
      "                                                 URL  \n",
      "0  https://www.oecd-ilibrary.org/deliverdotstat?i...  \n",
      "1  https://www.oecd-ilibrary.org/deliverdotstat?i...  \n",
      "2  https://www.oecd-ilibrary.org/deliverdotstat?i...  \n",
      "3  https://www.oecd-ilibrary.org/deliverdotstat?i...  \n",
      "4  https://www.oecd-ilibrary.org/deliverdotstat?i...  \n",
      "5  https://www.oecd-ilibrary.org/deliverdotstat?i...  \n",
      "6  https://www.oecd-ilibrary.org/deliverdotstat?i...  \n",
      "7  https://www.oecd-ilibrary.org/deliverdotstat?i...  \n",
      "8  https://www.oecd-ilibrary.org/deliverdotstat?i...  \n",
      "9  https://www.oecd-ilibrary.org/deliverdotstat?i...  \n",
      "The URl of the dataset is:\n",
      "https://www.oecd-ilibrary.org/deliverdotstat?itemId=%2Fcontent%2Fdata%2Fg2g55585-en&containerItemId=%2Fcontent%2Fcollection%2Ftrsprt-data-en&baseurl=http%3A%2F%2Fstats.oecd.org%2Fwbos%2Fbrandedview.aspx%23g2g55585-en&oecdstat=trsprt-data-en&return_url=https%3A%2F%2Fwww.oecd-ilibrary.org%3A443%2Fcontent%2Fdata%2Fg2g55585-en&lang=en&cid=guest&institution_name=&doi=g2g55585-en\n"
     ]
    }
   ],
   "source": [
    "sleepTime=15\n",
    "url=CrawlingSearchOECD.GetDatasetUrl(\"Road accidents\")\n",
    "addTableNames,addDataFrames=get_additional_Table_url_from_WebPage(url,\"Casualties by age and road user\",sleepTime,\"400\")\n",
    "if (addTableNames):\n",
    "    i=0\n",
    "    for table in addDataFrames:\n",
    "       table.to_csv('./OECD_Data/'+addTableNames[i]+'.csv')\n",
    "       i+=1"
   ]
  }
 ],
 "metadata": {
  "kernelspec": {
   "display_name": "Python 3.9.7 ('base')",
   "language": "python",
   "name": "python3"
  },
  "language_info": {
   "codemirror_mode": {
    "name": "ipython",
    "version": 3
   },
   "file_extension": ".py",
   "mimetype": "text/x-python",
   "name": "python",
   "nbconvert_exporter": "python",
   "pygments_lexer": "ipython3",
   "version": "3.9.7"
  },
  "vscode": {
   "interpreter": {
    "hash": "beb1a02305ea04626860be89354a45afa8e647c98cd83c633f8e81f91a246188"
   }
  }
 },
 "nbformat": 4,
 "nbformat_minor": 5
}

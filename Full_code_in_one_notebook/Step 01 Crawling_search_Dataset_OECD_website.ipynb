{
 "cells": [
  {
   "cell_type": "markdown",
   "id": "254ec321",
   "metadata": {},
   "source": [
    "# Importing libraries including:\n",
    "-pandas: storing data\n",
    "-os: path browsing in OS\n",
    "-time: for delaying and timing quaries\n",
    "-selenium: crawling,get requests, entering keys and scraping webpage elements"
   ]
  },
  {
   "cell_type": "code",
   "execution_count": 1,
   "id": "8fbccbcf",
   "metadata": {},
   "outputs": [],
   "source": [
    "import pandas as pd\n",
    "import os\n",
    "import time\n",
    "import selenium\n",
    "from selenium import webdriver\n",
    "from selenium.webdriver.chrome.options import Options\n",
    "from selenium.webdriver.chrome.service import Service\n",
    "from selenium.common.exceptions import ElementClickInterceptedException\n",
    "from selenium.webdriver.common.by import By\n",
    "from selenium.common.exceptions import NoSuchElementException\n",
    "from selenium.webdriver.common.keys import Keys\n",
    "from selenium.webdriver.support.ui import WebDriverWait\n",
    "from webdriver_manager.chrome import ChromeDriverManager"
   ]
  },
  {
   "cell_type": "code",
   "execution_count": 2,
   "id": "63c80b40",
   "metadata": {
    "scrolled": false
   },
   "outputs": [
    {
     "name": "stderr",
     "output_type": "stream",
     "text": [
      "\n",
      "\n",
      "\n",
      "\n",
      "====== WebDriver manager ======\n",
      "====== WebDriver manager ======\n",
      "Current google-chrome version is 101.0.4951\n",
      "Current google-chrome version is 101.0.4951\n",
      "Get LATEST chromedriver version for 101.0.4951 google-chrome\n",
      "Get LATEST chromedriver version for 101.0.4951 google-chrome\n",
      "Trying to download new driver from https://chromedriver.storage.googleapis.com/101.0.4951.41/chromedriver_win32.zip\n",
      "Trying to download new driver from https://chromedriver.storage.googleapis.com/101.0.4951.41/chromedriver_win32.zip\n",
      "Driver has been saved in cache [C:\\Users\\vova\\.wdm\\drivers\\chromedriver\\win32\\101.0.4951.41]\n",
      "Driver has been saved in cache [C:\\Users\\vova\\.wdm\\drivers\\chromedriver\\win32\\101.0.4951.41]\n"
     ]
    }
   ],
   "source": [
    "chrome_options=Options()\n",
    "chrome_options.add_argument(\"--incognito\")\n",
    "chrome_service=Service(ChromeDriverManager().install())"
   ]
  },
  {
   "cell_type": "markdown",
   "id": "792887c6",
   "metadata": {},
   "source": [
    "# Sub functions:"
   ]
  },
  {
   "cell_type": "code",
   "execution_count": 3,
   "id": "ab542ce4",
   "metadata": {},
   "outputs": [],
   "source": [
    "def get_OECD_Main_page():\n",
    "    Main_page=webdriver.Chrome(options=chrome_options,service=chrome_service)\n",
    "    base_url=\"https://www.oecd-ilibrary.org/\"\n",
    "    Main_page.get(base_url)\n",
    "    return Main_page"
   ]
  },
  {
   "cell_type": "code",
   "execution_count": 4,
   "id": "f78ad0dd",
   "metadata": {},
   "outputs": [],
   "source": [
    "def free_search_in_OECD_ilibrary(search_phrase,page):\n",
    "    search_element=page.find_element(By.XPATH, '//*[@id=\"quickSearchBox\"]')\n",
    "    search_element.clear()\n",
    "    search_element.send_keys(search_phrase)\n",
    "    search_element.send_keys(Keys.RETURN)"
   ]
  },
  {
   "cell_type": "code",
   "execution_count": 5,
   "id": "2cf1db56",
   "metadata": {},
   "outputs": [],
   "source": [
    "def latest_publication_year_search_result(page):\n",
    "    publication_list=page.find_element(By.CLASS_NAME,'facetpub_year_facet')\n",
    "    publication_list_list=publication_list.find_elements(By.TAG_NAME, 'li')\n",
    "    elementList=list()\n",
    "    textList=list()\n",
    "    for elem in publication_list_list:\n",
    "        t=elem.text\n",
    "        textList.append(t)\n",
    "        elementList.append(elem)\n",
    "    elemnt_to_text_table=pd.DataFrame({\"element\":elementList,\"Text\":textList})\n",
    "    elemnt_to_text_table=elemnt_to_text_table.sort_values(by='Text',ascending=False, na_position='last')\n",
    "    elem=elemnt_to_text_table.iat[1,0]\n",
    "    txt=elemnt_to_text_table.iat[1,1]\n",
    "    return elem , txt\n",
    "  \n",
    "    "
   ]
  },
  {
   "cell_type": "code",
   "execution_count": 6,
   "id": "66b5e4f0",
   "metadata": {},
   "outputs": [],
   "source": [
    "def get_href_from_element(element):\n",
    "    ref=element.find_element(By.TAG_NAME,\"a\")\n",
    "    return ref.get_property('href')\n",
    "    "
   ]
  },
  {
   "cell_type": "code",
   "execution_count": 7,
   "id": "f165b0a1",
   "metadata": {},
   "outputs": [],
   "source": [
    "def get_url_after_search(page):\n",
    "    Table_element=page.find_element(By.XPATH,'//*[@id=\"listItems\"]/div[1]/div[1]')\n",
    "    visable_title=Table_element.find_element(By.CLASS_NAME,\"title_box\")\n",
    "    text=visable_title.text\n",
    "    title=visable_title.find_element(By.TAG_NAME,\"a\")\n",
    "    table_url=title.get_property('href')\n",
    "    return table_url,text\n",
    "    "
   ]
  },
  {
   "cell_type": "code",
   "execution_count": 8,
   "id": "f4ff2441",
   "metadata": {},
   "outputs": [],
   "source": [
    "def get_url_from_search_result_page(page):\n",
    "    element=page.find_element(By.CLASS_NAME,'post-glimps')\n",
    "    element_ul=element.find_element(By.CLASS_NAME,'identifiers')\n",
    "    element_url=get_href_from_element(element_ul)\n",
    "    return element_url"
   ]
  },
  {
   "cell_type": "code",
   "execution_count": 9,
   "id": "e4d7e815",
   "metadata": {},
   "outputs": [],
   "source": [
    "def get_Main_data_set_page(search_phrase,Data_main_page):\n",
    "    category_list=list()\n",
    "    link_list=list()\n",
    "    related_items_section=Data_main_page.find_element(By.CLASS_NAME,'list-related-titles')\n",
    "    related_items_list=related_items_section.find_elements(By.CLASS_NAME,'panel')\n",
    "    flag=False\n",
    "    substring=\"outlook\"\n",
    "    for item in related_items_list:\n",
    "        name_p=item.find_element(By.CLASS_NAME,'intro-item')\n",
    "        name=name_p.text\n",
    "        if substring in name:\n",
    "            break\n",
    "        else:\n",
    "            category_list.append(name)\n",
    "        try:\n",
    "            url_item=item.find_element(By.CLASS_NAME,'action-data-2')\n",
    "            url=url_item.get_property('href')\n",
    "        except NoSuchElementException:\n",
    "            pass\n",
    "        link_list.append(url)\n",
    "        if search_phrase in name:\n",
    "            flag=True\n",
    "            Url_link=link_list[-1]\n",
    "    res_table=pd.DataFrame({\"Datasets\":category_list,\"URL\":link_list})\n",
    "    if (flag):\n",
    "        print (\"The Phrase is found\")\n",
    "        print (\"Heare are another options of Datasets:\")\n",
    "        print (res_table.head(10))\n",
    "        return Url_link\n",
    "    else:\n",
    "        print (\"The search phrase:\"+search_phrase+\" didn't mathed please see other options of Datasets:\")\n",
    "        print (res_table.head(10))\n",
    "        return -1"
   ]
  },
  {
   "cell_type": "markdown",
   "id": "64d49cbc",
   "metadata": {},
   "source": [
    "## Main fuction: Recives search key word and returns URL to dataset"
   ]
  },
  {
   "cell_type": "code",
   "execution_count": 10,
   "id": "28d86f31",
   "metadata": {},
   "outputs": [],
   "source": [
    "def Search_latest_dataset_link_on_OECD_Main_website(search_phrase): \n",
    "    Main_page=get_OECD_Main_page()\n",
    "    \n",
    "    #search_phrase=\"Road accidents\"   #if you are calling this function plase commet out this line\n",
    "    free_search_in_OECD_ilibrary(search_phrase,Main_page)\n",
    "    time.sleep(4)         #sleep for 4 seconds before takin an action in order to load the page\n",
    "    \n",
    "    elem,txt=latest_publication_year_search_result(Main_page)\n",
    "    print(\"The latest publicated year is:\"+txt)\n",
    "    \n",
    "    sub_url=get_href_from_element(elem)\n",
    "    \n",
    "    search_page=webdriver.Chrome(options=chrome_options,service=chrome_service)\n",
    "    search_page.get(sub_url)\n",
    "    \n",
    "    sub_url_1,title=get_url_after_search(search_page)\n",
    "    print (\"The title of the reaserch is:\\n\"+title)\n",
    "    \n",
    "    search_result_page=webdriver.Chrome(options=chrome_options,service=chrome_service)\n",
    "    search_result_page.get(sub_url_1)\n",
    "    \n",
    "    Data_main_page_url=get_url_from_search_result_page(search_result_page)\n",
    "    \n",
    "    Data_main_page=webdriver.Chrome(options=chrome_options,service=chrome_service)\n",
    "    Data_main_page.get(Data_main_page_url)\n",
    "    \n",
    "    Dataset_portal_link=get_Main_data_set_page(search_phrase,Data_main_page)\n",
    "    \n",
    "    Main_page.close()\n",
    "    search_page.close()\n",
    "    search_result_page.close()\n",
    "    Data_main_page.close()\n",
    "    \n",
    "    return Dataset_portal_link"
   ]
  },
  {
   "cell_type": "markdown",
   "id": "fd52ba97",
   "metadata": {},
   "source": [
    "### This section calling the main function"
   ]
  },
  {
   "cell_type": "code",
   "execution_count": 11,
   "id": "d88c8ec8",
   "metadata": {},
   "outputs": [
    {
     "name": "stdout",
     "output_type": "stream",
     "text": [
      "The latest publicated year is:2021 [2]\n",
      "The title of the reaserch is:\n",
      "Road accidents (Edition 2020) Dataset Archive English\n",
      "09 Mar 2021 International Transport Forum in ITF Transport Statistics\n",
      "The Phrase is found\n",
      "Heare are another options of Datasets:\n",
      "                                            Datasets  \\\n",
      "0                                    Goods transport   \n",
      "1                                Passenger transport   \n",
      "2                                     Road accidents   \n",
      "3                    Short-term transport indicators   \n",
      "4  Transport infrastructure investment and mainte...   \n",
      "5                   Transport performance indicators   \n",
      "6                     Road haulage charges and taxes   \n",
      "7                    Casualties by age and road user   \n",
      "8                             Urban access framework   \n",
      "9                        Annual transport statistics   \n",
      "\n",
      "                                                 URL  \n",
      "0  https://www.oecd-ilibrary.org/deliverdotstat?i...  \n",
      "1  https://www.oecd-ilibrary.org/deliverdotstat?i...  \n",
      "2  https://www.oecd-ilibrary.org/deliverdotstat?i...  \n",
      "3  https://www.oecd-ilibrary.org/deliverdotstat?i...  \n",
      "4  https://www.oecd-ilibrary.org/deliverdotstat?i...  \n",
      "5  https://www.oecd-ilibrary.org/deliverdotstat?i...  \n",
      "6  https://www.oecd-ilibrary.org/deliverdotstat?i...  \n",
      "7  https://www.oecd-ilibrary.org/deliverdotstat?i...  \n",
      "8  https://www.oecd-ilibrary.org/deliverdotstat?i...  \n",
      "9  https://www.oecd-ilibrary.org/deliverdotstat?i...  \n",
      "The URl of the dataset is:\n",
      "https://www.oecd-ilibrary.org/deliverdotstat?itemId=%2Fcontent%2Fdata%2Fg2g55585-en&containerItemId=%2Fcontent%2Fcollection%2Ftrsprt-data-en&baseurl=http%3A%2F%2Fstats.oecd.org%2Fwbos%2Fbrandedview.aspx%23g2g55585-en&oecdstat=trsprt-data-en&return_url=https%3A%2F%2Fwww.oecd-ilibrary.org%3A443%2Fcontent%2Fdata%2Fg2g55585-en&lang=en&cid=guest&institution_name=&doi=g2g55585-en\n"
     ]
    }
   ],
   "source": [
    "URL=Search_latest_dataset_link_on_OECD_Main_website(\"Road accidents\")\n",
    "print(\"The URl of the dataset is:\\n\"+URL)"
   ]
  },
  {
   "cell_type": "markdown",
   "id": "72a474d6",
   "metadata": {},
   "source": [
    "## This section below is the function above braked into sub_functions made for testing and maitain the code\n"
   ]
  },
  {
   "cell_type": "code",
   "execution_count": 12,
   "id": "dcaab72e",
   "metadata": {},
   "outputs": [],
   "source": [
    "#Main_page=get_OECD_Main_page()"
   ]
  },
  {
   "cell_type": "code",
   "execution_count": 13,
   "id": "a95c471c",
   "metadata": {},
   "outputs": [],
   "source": [
    "# search_phrase=\"Road accidents\"\n",
    "# free_search_in_OECD_ilibrary(search_phrase,Main_page)\n",
    "# time.sleep(4)         #sleep for 4 seconds before takin an action in order to load the page"
   ]
  },
  {
   "cell_type": "code",
   "execution_count": 14,
   "id": "95b7420d",
   "metadata": {
    "scrolled": true
   },
   "outputs": [],
   "source": [
    "# elem,txt=latest_publication_year_search_result(Main_page)\n",
    "# print(\"The latest publicated year is:\"+txt)"
   ]
  },
  {
   "cell_type": "code",
   "execution_count": 15,
   "id": "2a1c3296",
   "metadata": {},
   "outputs": [],
   "source": [
    "#sub_url=get_href_from_element(elem)"
   ]
  },
  {
   "cell_type": "code",
   "execution_count": 16,
   "id": "bd8f5f96",
   "metadata": {},
   "outputs": [],
   "source": [
    "# search_page=webdriver.Chrome(options=chrome_options,service=chrome_service)\n",
    "# search_page.get(sub_url)"
   ]
  },
  {
   "cell_type": "code",
   "execution_count": 17,
   "id": "c7eee236",
   "metadata": {},
   "outputs": [],
   "source": [
    "# sub_url_1,title=get_url_after_search(search_page)\n",
    "# print (\"The title of the reaserch is:\\n\"+title)"
   ]
  },
  {
   "cell_type": "code",
   "execution_count": 18,
   "id": "4a50e4b0",
   "metadata": {},
   "outputs": [],
   "source": [
    "# search_result_page=webdriver.Chrome(options=chrome_options,service=chrome_service)\n",
    "# search_result_page.get(sub_url_1)"
   ]
  },
  {
   "cell_type": "code",
   "execution_count": 19,
   "id": "c02fd3a0",
   "metadata": {},
   "outputs": [],
   "source": [
    "#Data_main_page_url=get_url_from_search_result_page(search_result_page)"
   ]
  },
  {
   "cell_type": "code",
   "execution_count": 20,
   "id": "d20f1625",
   "metadata": {
    "scrolled": true
   },
   "outputs": [],
   "source": [
    "# Data_main_page=webdriver.Chrome(options=chrome_options,service=chrome_service)\n",
    "# Data_main_page.get(Data_main_page_url)"
   ]
  },
  {
   "cell_type": "code",
   "execution_count": 21,
   "id": "6b832842",
   "metadata": {
    "scrolled": true
   },
   "outputs": [],
   "source": [
    "#Dataset_portal_link=get_Main_data_set_page(search_phrase,Data_main_page)"
   ]
  },
  {
   "cell_type": "code",
   "execution_count": 22,
   "id": "eff81bbd",
   "metadata": {
    "scrolled": true
   },
   "outputs": [],
   "source": [
    "#print (Dataset_portal_link)"
   ]
  },
  {
   "cell_type": "code",
   "execution_count": 23,
   "id": "97df5c9a",
   "metadata": {},
   "outputs": [],
   "source": [
    "# Main_page.close()\n",
    "# search_page.close()\n",
    "# search_result_page.close()\n",
    "#Data_main_page.close()"
   ]
  }
 ],
 "metadata": {
  "kernelspec": {
   "display_name": "Python 3 (ipykernel)",
   "language": "python",
   "name": "python3"
  },
  "language_info": {
   "codemirror_mode": {
    "name": "ipython",
    "version": 3
   },
   "file_extension": ".py",
   "mimetype": "text/x-python",
   "name": "python",
   "nbconvert_exporter": "python",
   "pygments_lexer": "ipython3",
   "version": "3.9.7"
  }
 },
 "nbformat": 4,
 "nbformat_minor": 5
}

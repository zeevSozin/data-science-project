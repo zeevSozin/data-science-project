{
 "cells": [
  {
   "cell_type": "code",
   "execution_count": 30,
   "metadata": {},
   "outputs": [],
   "source": [
    "import pandas as pd\n",
    "from sklearn import linear_model\n",
    "from sklearn.model_selection import train_test_split\n",
    "from sklearn.metrics import r2_score\n",
    "from sklearn.metrics import mean_squared_error\n",
    "import matplotlib.pyplot as plt\n",
    "%matplotlib inline "
   ]
  },
  {
   "cell_type": "code",
   "execution_count": 31,
   "metadata": {},
   "outputs": [],
   "source": [
    "LithuaniaDf=pd.read_csv(\"../CleanDataFrames/Lithuania.csv\")"
   ]
  },
  {
   "cell_type": "code",
   "execution_count": 32,
   "metadata": {},
   "outputs": [
    {
     "data": {
      "text/html": [
       "<div>\n",
       "<style scoped>\n",
       "    .dataframe tbody tr th:only-of-type {\n",
       "        vertical-align: middle;\n",
       "    }\n",
       "\n",
       "    .dataframe tbody tr th {\n",
       "        vertical-align: top;\n",
       "    }\n",
       "\n",
       "    .dataframe thead th {\n",
       "        text-align: right;\n",
       "    }\n",
       "</style>\n",
       "<table border=\"1\" class=\"dataframe\">\n",
       "  <thead>\n",
       "    <tr style=\"text-align: right;\">\n",
       "      <th></th>\n",
       "      <th>Unnamed: 0</th>\n",
       "      <th>Country</th>\n",
       "      <th>Year</th>\n",
       "      <th>Total inland transport infrastructure investment</th>\n",
       "      <th>Rail infrastructure maintenance</th>\n",
       "      <th>Total inland passenger transport</th>\n",
       "      <th>Road passenger transport</th>\n",
       "      <th>Total inland freight transport in tonne-km per one thousand units of current USD GDP</th>\n",
       "      <th>Road motor vehicles per one million units of current USD GDP</th>\n",
       "      <th>CO2 emissions from transport in tonnes per one million units of current USD GDP</th>\n",
       "      <th>...</th>\n",
       "      <th>Total goods - Tonnes (1 000)</th>\n",
       "      <th>Total inland waterways - Length at 31.12 (km)</th>\n",
       "      <th>Total railway enterprises - Number at 31.12</th>\n",
       "      <th>Total self-propelled vessels - Number at 31.12 (Units)</th>\n",
       "      <th>Road casualties (injured + killed)</th>\n",
       "      <th>Road injury accident</th>\n",
       "      <th>Road fatalities per one million inhabitant</th>\n",
       "      <th>Total injury accidents - Number at 31.12 (Unit)</th>\n",
       "      <th>Killed - rate per population</th>\n",
       "      <th>Killed</th>\n",
       "    </tr>\n",
       "  </thead>\n",
       "  <tbody>\n",
       "    <tr>\n",
       "      <th>0</th>\n",
       "      <td>0</td>\n",
       "      <td>Lithuania</td>\n",
       "      <td>2010</td>\n",
       "      <td>530000000.0</td>\n",
       "      <td>160000000.0</td>\n",
       "      <td>35290.0</td>\n",
       "      <td>34917.0</td>\n",
       "      <td>899.7</td>\n",
       "      <td>559.9</td>\n",
       "      <td>115.1</td>\n",
       "      <td>...</td>\n",
       "      <td>99.0</td>\n",
       "      <td>448.0</td>\n",
       "      <td>1.0</td>\n",
       "      <td>35.0</td>\n",
       "      <td>4529.0</td>\n",
       "      <td>3530.0</td>\n",
       "      <td>96.5</td>\n",
       "      <td>3530.0</td>\n",
       "      <td>9.5</td>\n",
       "      <td>299.0</td>\n",
       "    </tr>\n",
       "    <tr>\n",
       "      <th>1</th>\n",
       "      <td>1</td>\n",
       "      <td>Lithuania</td>\n",
       "      <td>2011</td>\n",
       "      <td>461000000.0</td>\n",
       "      <td>153000000.0</td>\n",
       "      <td>32697.0</td>\n",
       "      <td>32308.0</td>\n",
       "      <td>853.4</td>\n",
       "      <td>577.1</td>\n",
       "      <td>97.5</td>\n",
       "      <td>...</td>\n",
       "      <td>95.0</td>\n",
       "      <td>451.0</td>\n",
       "      <td>1.0</td>\n",
       "      <td>31.0</td>\n",
       "      <td>4215.0</td>\n",
       "      <td>3266.0</td>\n",
       "      <td>97.8</td>\n",
       "      <td>3266.0</td>\n",
       "      <td>9.7</td>\n",
       "      <td>296.0</td>\n",
       "    </tr>\n",
       "    <tr>\n",
       "      <th>2</th>\n",
       "      <td>2</td>\n",
       "      <td>Lithuania</td>\n",
       "      <td>2012</td>\n",
       "      <td>383000000.0</td>\n",
       "      <td>123000000.0</td>\n",
       "      <td>36981.0</td>\n",
       "      <td>36578.0</td>\n",
       "      <td>890.8</td>\n",
       "      <td>601.7</td>\n",
       "      <td>99.7</td>\n",
       "      <td>...</td>\n",
       "      <td>89.0</td>\n",
       "      <td>452.0</td>\n",
       "      <td>1.0</td>\n",
       "      <td>33.0</td>\n",
       "      <td>4253.0</td>\n",
       "      <td>3391.0</td>\n",
       "      <td>101.1</td>\n",
       "      <td>3391.0</td>\n",
       "      <td>10.0</td>\n",
       "      <td>301.0</td>\n",
       "    </tr>\n",
       "    <tr>\n",
       "      <th>3</th>\n",
       "      <td>3</td>\n",
       "      <td>Lithuania</td>\n",
       "      <td>2013</td>\n",
       "      <td>393000000.0</td>\n",
       "      <td>127000000.0</td>\n",
       "      <td>36237.0</td>\n",
       "      <td>35846.0</td>\n",
       "      <td>865.2</td>\n",
       "      <td>618.7</td>\n",
       "      <td>92.0</td>\n",
       "      <td>...</td>\n",
       "      <td>36.0</td>\n",
       "      <td>452.0</td>\n",
       "      <td>1.0</td>\n",
       "      <td>33.0</td>\n",
       "      <td>4263.0</td>\n",
       "      <td>3391.0</td>\n",
       "      <td>86.6</td>\n",
       "      <td>3391.0</td>\n",
       "      <td>8.7</td>\n",
       "      <td>258.0</td>\n",
       "    </tr>\n",
       "    <tr>\n",
       "      <th>4</th>\n",
       "      <td>4</td>\n",
       "      <td>Lithuania</td>\n",
       "      <td>2014</td>\n",
       "      <td>491000000.0</td>\n",
       "      <td>143000000.0</td>\n",
       "      <td>27411.0</td>\n",
       "      <td>27038.0</td>\n",
       "      <td>884.0</td>\n",
       "      <td>413.6</td>\n",
       "      <td>98.0</td>\n",
       "      <td>...</td>\n",
       "      <td>47.0</td>\n",
       "      <td>452.0</td>\n",
       "      <td>1.0</td>\n",
       "      <td>36.0</td>\n",
       "      <td>4014.0</td>\n",
       "      <td>3225.0</td>\n",
       "      <td>91.1</td>\n",
       "      <td>3225.0</td>\n",
       "      <td>9.1</td>\n",
       "      <td>267.0</td>\n",
       "    </tr>\n",
       "    <tr>\n",
       "      <th>5</th>\n",
       "      <td>5</td>\n",
       "      <td>Lithuania</td>\n",
       "      <td>2015</td>\n",
       "      <td>439000000.0</td>\n",
       "      <td>159000000.0</td>\n",
       "      <td>27683.0</td>\n",
       "      <td>27322.0</td>\n",
       "      <td>989.9</td>\n",
       "      <td>432.9</td>\n",
       "      <td>122.0</td>\n",
       "      <td>...</td>\n",
       "      <td>68.0</td>\n",
       "      <td>446.0</td>\n",
       "      <td>1.0</td>\n",
       "      <td>35.0</td>\n",
       "      <td>3836.0</td>\n",
       "      <td>3033.0</td>\n",
       "      <td>83.3</td>\n",
       "      <td>3033.0</td>\n",
       "      <td>8.2</td>\n",
       "      <td>239.0</td>\n",
       "    </tr>\n",
       "    <tr>\n",
       "      <th>6</th>\n",
       "      <td>6</td>\n",
       "      <td>Lithuania</td>\n",
       "      <td>2016</td>\n",
       "      <td>427000000.0</td>\n",
       "      <td>152000000.0</td>\n",
       "      <td>28611.0</td>\n",
       "      <td>28215.0</td>\n",
       "      <td>1049.3</td>\n",
       "      <td>455.8</td>\n",
       "      <td>126.3</td>\n",
       "      <td>...</td>\n",
       "      <td>52.0</td>\n",
       "      <td>485.0</td>\n",
       "      <td>1.0</td>\n",
       "      <td>35.0</td>\n",
       "      <td>3941.0</td>\n",
       "      <td>3201.0</td>\n",
       "      <td>66.9</td>\n",
       "      <td>3201.0</td>\n",
       "      <td>6.5</td>\n",
       "      <td>188.0</td>\n",
       "    </tr>\n",
       "    <tr>\n",
       "      <th>7</th>\n",
       "      <td>7</td>\n",
       "      <td>Lithuania</td>\n",
       "      <td>2017</td>\n",
       "      <td>394000000.0</td>\n",
       "      <td>151000000.0</td>\n",
       "      <td>34259.0</td>\n",
       "      <td>33835.0</td>\n",
       "      <td>1149.6</td>\n",
       "      <td>479.8</td>\n",
       "      <td>119.1</td>\n",
       "      <td>...</td>\n",
       "      <td>15.0</td>\n",
       "      <td>488.0</td>\n",
       "      <td>1.0</td>\n",
       "      <td>30.0</td>\n",
       "      <td>3752.0</td>\n",
       "      <td>3055.0</td>\n",
       "      <td>67.5</td>\n",
       "      <td>3055.0</td>\n",
       "      <td>6.7</td>\n",
       "      <td>191.0</td>\n",
       "    </tr>\n",
       "    <tr>\n",
       "      <th>8</th>\n",
       "      <td>8</td>\n",
       "      <td>Lithuania</td>\n",
       "      <td>2018</td>\n",
       "      <td>390000000.0</td>\n",
       "      <td>144000000.0</td>\n",
       "      <td>33170.0</td>\n",
       "      <td>32702.0</td>\n",
       "      <td>1131.8</td>\n",
       "      <td>515.0</td>\n",
       "      <td>112.6</td>\n",
       "      <td>...</td>\n",
       "      <td>13.0</td>\n",
       "      <td>493.0</td>\n",
       "      <td>1.0</td>\n",
       "      <td>27.0</td>\n",
       "      <td>3563.0</td>\n",
       "      <td>2925.0</td>\n",
       "      <td>61.8</td>\n",
       "      <td>2926.0</td>\n",
       "      <td>6.2</td>\n",
       "      <td>173.0</td>\n",
       "    </tr>\n",
       "    <tr>\n",
       "      <th>9</th>\n",
       "      <td>9</td>\n",
       "      <td>Lithuania</td>\n",
       "      <td>2019</td>\n",
       "      <td>438000000.0</td>\n",
       "      <td>147000000.0</td>\n",
       "      <td>33170.0</td>\n",
       "      <td>32702.0</td>\n",
       "      <td>1274.3</td>\n",
       "      <td>541.9</td>\n",
       "      <td>114.8</td>\n",
       "      <td>...</td>\n",
       "      <td>52.0</td>\n",
       "      <td>452.0</td>\n",
       "      <td>1.0</td>\n",
       "      <td>33.0</td>\n",
       "      <td>3955.0</td>\n",
       "      <td>3188.0</td>\n",
       "      <td>66.6</td>\n",
       "      <td>3225.0</td>\n",
       "      <td>6.7</td>\n",
       "      <td>186.0</td>\n",
       "    </tr>\n",
       "    <tr>\n",
       "      <th>10</th>\n",
       "      <td>10</td>\n",
       "      <td>Lithuania</td>\n",
       "      <td>2020</td>\n",
       "      <td>647000000.0</td>\n",
       "      <td>140000000.0</td>\n",
       "      <td>33170.0</td>\n",
       "      <td>32702.0</td>\n",
       "      <td>1277.0</td>\n",
       "      <td>563.0</td>\n",
       "      <td>113.7</td>\n",
       "      <td>...</td>\n",
       "      <td>52.0</td>\n",
       "      <td>452.0</td>\n",
       "      <td>1.0</td>\n",
       "      <td>33.0</td>\n",
       "      <td>3369.0</td>\n",
       "      <td>2817.0</td>\n",
       "      <td>63.0</td>\n",
       "      <td>3225.0</td>\n",
       "      <td>6.3</td>\n",
       "      <td>175.0</td>\n",
       "    </tr>\n",
       "  </tbody>\n",
       "</table>\n",
       "<p>11 rows × 34 columns</p>\n",
       "</div>"
      ],
      "text/plain": [
       "    Unnamed: 0    Country  Year  \\\n",
       "0            0  Lithuania  2010   \n",
       "1            1  Lithuania  2011   \n",
       "2            2  Lithuania  2012   \n",
       "3            3  Lithuania  2013   \n",
       "4            4  Lithuania  2014   \n",
       "5            5  Lithuania  2015   \n",
       "6            6  Lithuania  2016   \n",
       "7            7  Lithuania  2017   \n",
       "8            8  Lithuania  2018   \n",
       "9            9  Lithuania  2019   \n",
       "10          10  Lithuania  2020   \n",
       "\n",
       "    Total inland transport infrastructure investment  \\\n",
       "0                                        530000000.0   \n",
       "1                                        461000000.0   \n",
       "2                                        383000000.0   \n",
       "3                                        393000000.0   \n",
       "4                                        491000000.0   \n",
       "5                                        439000000.0   \n",
       "6                                        427000000.0   \n",
       "7                                        394000000.0   \n",
       "8                                        390000000.0   \n",
       "9                                        438000000.0   \n",
       "10                                       647000000.0   \n",
       "\n",
       "    Rail infrastructure maintenance  Total inland passenger transport  \\\n",
       "0                       160000000.0                           35290.0   \n",
       "1                       153000000.0                           32697.0   \n",
       "2                       123000000.0                           36981.0   \n",
       "3                       127000000.0                           36237.0   \n",
       "4                       143000000.0                           27411.0   \n",
       "5                       159000000.0                           27683.0   \n",
       "6                       152000000.0                           28611.0   \n",
       "7                       151000000.0                           34259.0   \n",
       "8                       144000000.0                           33170.0   \n",
       "9                       147000000.0                           33170.0   \n",
       "10                      140000000.0                           33170.0   \n",
       "\n",
       "    Road passenger transport  \\\n",
       "0                    34917.0   \n",
       "1                    32308.0   \n",
       "2                    36578.0   \n",
       "3                    35846.0   \n",
       "4                    27038.0   \n",
       "5                    27322.0   \n",
       "6                    28215.0   \n",
       "7                    33835.0   \n",
       "8                    32702.0   \n",
       "9                    32702.0   \n",
       "10                   32702.0   \n",
       "\n",
       "    Total inland freight transport in tonne-km per one thousand units of current USD GDP  \\\n",
       "0                                               899.7                                      \n",
       "1                                               853.4                                      \n",
       "2                                               890.8                                      \n",
       "3                                               865.2                                      \n",
       "4                                               884.0                                      \n",
       "5                                               989.9                                      \n",
       "6                                              1049.3                                      \n",
       "7                                              1149.6                                      \n",
       "8                                              1131.8                                      \n",
       "9                                              1274.3                                      \n",
       "10                                             1277.0                                      \n",
       "\n",
       "    Road motor vehicles per one million units of current USD GDP  \\\n",
       "0                                               559.9              \n",
       "1                                               577.1              \n",
       "2                                               601.7              \n",
       "3                                               618.7              \n",
       "4                                               413.6              \n",
       "5                                               432.9              \n",
       "6                                               455.8              \n",
       "7                                               479.8              \n",
       "8                                               515.0              \n",
       "9                                               541.9              \n",
       "10                                              563.0              \n",
       "\n",
       "    CO2 emissions from transport in tonnes per one million units of current USD GDP  \\\n",
       "0                                               115.1                                 \n",
       "1                                                97.5                                 \n",
       "2                                                99.7                                 \n",
       "3                                                92.0                                 \n",
       "4                                                98.0                                 \n",
       "5                                               122.0                                 \n",
       "6                                               126.3                                 \n",
       "7                                               119.1                                 \n",
       "8                                               112.6                                 \n",
       "9                                               114.8                                 \n",
       "10                                              113.7                                 \n",
       "\n",
       "    ...  Total goods - Tonnes (1 000)  \\\n",
       "0   ...                          99.0   \n",
       "1   ...                          95.0   \n",
       "2   ...                          89.0   \n",
       "3   ...                          36.0   \n",
       "4   ...                          47.0   \n",
       "5   ...                          68.0   \n",
       "6   ...                          52.0   \n",
       "7   ...                          15.0   \n",
       "8   ...                          13.0   \n",
       "9   ...                          52.0   \n",
       "10  ...                          52.0   \n",
       "\n",
       "    Total inland waterways - Length at 31.12 (km)  \\\n",
       "0                                           448.0   \n",
       "1                                           451.0   \n",
       "2                                           452.0   \n",
       "3                                           452.0   \n",
       "4                                           452.0   \n",
       "5                                           446.0   \n",
       "6                                           485.0   \n",
       "7                                           488.0   \n",
       "8                                           493.0   \n",
       "9                                           452.0   \n",
       "10                                          452.0   \n",
       "\n",
       "    Total railway enterprises - Number at 31.12  \\\n",
       "0                                           1.0   \n",
       "1                                           1.0   \n",
       "2                                           1.0   \n",
       "3                                           1.0   \n",
       "4                                           1.0   \n",
       "5                                           1.0   \n",
       "6                                           1.0   \n",
       "7                                           1.0   \n",
       "8                                           1.0   \n",
       "9                                           1.0   \n",
       "10                                          1.0   \n",
       "\n",
       "    Total self-propelled vessels - Number at 31.12 (Units)  \\\n",
       "0                                                35.0        \n",
       "1                                                31.0        \n",
       "2                                                33.0        \n",
       "3                                                33.0        \n",
       "4                                                36.0        \n",
       "5                                                35.0        \n",
       "6                                                35.0        \n",
       "7                                                30.0        \n",
       "8                                                27.0        \n",
       "9                                                33.0        \n",
       "10                                               33.0        \n",
       "\n",
       "    Road casualties (injured + killed)  Road injury accident  \\\n",
       "0                               4529.0                3530.0   \n",
       "1                               4215.0                3266.0   \n",
       "2                               4253.0                3391.0   \n",
       "3                               4263.0                3391.0   \n",
       "4                               4014.0                3225.0   \n",
       "5                               3836.0                3033.0   \n",
       "6                               3941.0                3201.0   \n",
       "7                               3752.0                3055.0   \n",
       "8                               3563.0                2925.0   \n",
       "9                               3955.0                3188.0   \n",
       "10                              3369.0                2817.0   \n",
       "\n",
       "    Road fatalities per one million inhabitant  \\\n",
       "0                                         96.5   \n",
       "1                                         97.8   \n",
       "2                                        101.1   \n",
       "3                                         86.6   \n",
       "4                                         91.1   \n",
       "5                                         83.3   \n",
       "6                                         66.9   \n",
       "7                                         67.5   \n",
       "8                                         61.8   \n",
       "9                                         66.6   \n",
       "10                                        63.0   \n",
       "\n",
       "    Total injury accidents - Number at 31.12 (Unit)  \\\n",
       "0                                            3530.0   \n",
       "1                                            3266.0   \n",
       "2                                            3391.0   \n",
       "3                                            3391.0   \n",
       "4                                            3225.0   \n",
       "5                                            3033.0   \n",
       "6                                            3201.0   \n",
       "7                                            3055.0   \n",
       "8                                            2926.0   \n",
       "9                                            3225.0   \n",
       "10                                           3225.0   \n",
       "\n",
       "    Killed - rate per population  Killed  \n",
       "0                            9.5   299.0  \n",
       "1                            9.7   296.0  \n",
       "2                           10.0   301.0  \n",
       "3                            8.7   258.0  \n",
       "4                            9.1   267.0  \n",
       "5                            8.2   239.0  \n",
       "6                            6.5   188.0  \n",
       "7                            6.7   191.0  \n",
       "8                            6.2   173.0  \n",
       "9                            6.7   186.0  \n",
       "10                           6.3   175.0  \n",
       "\n",
       "[11 rows x 34 columns]"
      ]
     },
     "execution_count": 32,
     "metadata": {},
     "output_type": "execute_result"
    }
   ],
   "source": [
    "LithuaniaDf"
   ]
  },
  {
   "cell_type": "code",
   "execution_count": 33,
   "metadata": {},
   "outputs": [],
   "source": [
    "LithuaniaDf.drop([\"Unnamed: 0\"],axis=1,inplace=True)"
   ]
  },
  {
   "cell_type": "code",
   "execution_count": 34,
   "metadata": {},
   "outputs": [
    {
     "data": {
      "text/plain": [
       "LinearRegression()"
      ]
     },
     "execution_count": 34,
     "metadata": {},
     "output_type": "execute_result"
    }
   ],
   "source": [
    "lr = linear_model.LinearRegression()\n",
    "x = LithuaniaDf[['Total inland transport infrastructure investment',\n",
    "'Rail infrastructure maintenance','Road passenger transport',\n",
    "'Road motor vehicles per one million units of current USD GDP',\n",
    "'Density of road (km per one hundred sq. km)',\n",
    "'Total railway enterprises - Number at 31.12']]\n",
    "y = LithuaniaDf['Killed']\n",
    "lr.fit(X=x, y=y)"
   ]
  },
  {
   "cell_type": "markdown",
   "metadata": {},
   "source": [
    "Linear regression scores:"
   ]
  },
  {
   "cell_type": "code",
   "execution_count": 35,
   "metadata": {},
   "outputs": [
    {
     "name": "stdout",
     "output_type": "stream",
     "text": [
      "Slope: [-4.59097432e-07 -2.32096537e-06 -2.45039431e-03 -1.32917863e-02\n",
      "  2.19279273e+02  0.00000000e+00]\n",
      "Intercept: 602.400665288632\n",
      "R2: 0.8767963672796277\n",
      "R2: 0.8767963672796277\n"
     ]
    }
   ],
   "source": [
    "print(\"Slope:\",lr.coef_)\n",
    "print(\"Intercept:\",lr.intercept_)\n",
    "print(\"R2:\",lr.score(x,y))\n",
    "print(\"R2:\",r2_score(y,lr.predict(x.values)))"
   ]
  },
  {
   "cell_type": "code",
   "execution_count": 36,
   "metadata": {},
   "outputs": [
    {
     "data": {
      "text/html": [
       "<div>\n",
       "<style scoped>\n",
       "    .dataframe tbody tr th:only-of-type {\n",
       "        vertical-align: middle;\n",
       "    }\n",
       "\n",
       "    .dataframe tbody tr th {\n",
       "        vertical-align: top;\n",
       "    }\n",
       "\n",
       "    .dataframe thead th {\n",
       "        text-align: right;\n",
       "    }\n",
       "</style>\n",
       "<table border=\"1\" class=\"dataframe\">\n",
       "  <thead>\n",
       "    <tr style=\"text-align: right;\">\n",
       "      <th></th>\n",
       "      <th>Total inland transport infrastructure investment</th>\n",
       "      <th>Rail infrastructure maintenance</th>\n",
       "      <th>Road passenger transport</th>\n",
       "      <th>Road motor vehicles per one million units of current USD GDP</th>\n",
       "      <th>Density of road (km per one hundred sq. km)</th>\n",
       "      <th>Total railway enterprises - Number at 31.12</th>\n",
       "    </tr>\n",
       "  </thead>\n",
       "  <tbody>\n",
       "    <tr>\n",
       "      <th>0</th>\n",
       "      <td>530000000.0</td>\n",
       "      <td>160000000.0</td>\n",
       "      <td>34917.0</td>\n",
       "      <td>559.9</td>\n",
       "      <td>1.9</td>\n",
       "      <td>1.0</td>\n",
       "    </tr>\n",
       "    <tr>\n",
       "      <th>1</th>\n",
       "      <td>461000000.0</td>\n",
       "      <td>153000000.0</td>\n",
       "      <td>32308.0</td>\n",
       "      <td>577.1</td>\n",
       "      <td>1.5</td>\n",
       "      <td>1.0</td>\n",
       "    </tr>\n",
       "    <tr>\n",
       "      <th>2</th>\n",
       "      <td>383000000.0</td>\n",
       "      <td>123000000.0</td>\n",
       "      <td>36578.0</td>\n",
       "      <td>601.7</td>\n",
       "      <td>1.1</td>\n",
       "      <td>1.0</td>\n",
       "    </tr>\n",
       "    <tr>\n",
       "      <th>3</th>\n",
       "      <td>393000000.0</td>\n",
       "      <td>127000000.0</td>\n",
       "      <td>35846.0</td>\n",
       "      <td>618.7</td>\n",
       "      <td>1.1</td>\n",
       "      <td>1.0</td>\n",
       "    </tr>\n",
       "    <tr>\n",
       "      <th>4</th>\n",
       "      <td>491000000.0</td>\n",
       "      <td>143000000.0</td>\n",
       "      <td>27038.0</td>\n",
       "      <td>413.6</td>\n",
       "      <td>1.3</td>\n",
       "      <td>1.0</td>\n",
       "    </tr>\n",
       "    <tr>\n",
       "      <th>5</th>\n",
       "      <td>439000000.0</td>\n",
       "      <td>159000000.0</td>\n",
       "      <td>27322.0</td>\n",
       "      <td>432.9</td>\n",
       "      <td>1.2</td>\n",
       "      <td>1.0</td>\n",
       "    </tr>\n",
       "    <tr>\n",
       "      <th>6</th>\n",
       "      <td>427000000.0</td>\n",
       "      <td>152000000.0</td>\n",
       "      <td>28215.0</td>\n",
       "      <td>455.8</td>\n",
       "      <td>1.1</td>\n",
       "      <td>1.0</td>\n",
       "    </tr>\n",
       "    <tr>\n",
       "      <th>7</th>\n",
       "      <td>394000000.0</td>\n",
       "      <td>151000000.0</td>\n",
       "      <td>33835.0</td>\n",
       "      <td>479.8</td>\n",
       "      <td>0.9</td>\n",
       "      <td>1.0</td>\n",
       "    </tr>\n",
       "    <tr>\n",
       "      <th>8</th>\n",
       "      <td>390000000.0</td>\n",
       "      <td>144000000.0</td>\n",
       "      <td>32702.0</td>\n",
       "      <td>515.0</td>\n",
       "      <td>0.9</td>\n",
       "      <td>1.0</td>\n",
       "    </tr>\n",
       "    <tr>\n",
       "      <th>9</th>\n",
       "      <td>438000000.0</td>\n",
       "      <td>147000000.0</td>\n",
       "      <td>32702.0</td>\n",
       "      <td>541.9</td>\n",
       "      <td>0.9</td>\n",
       "      <td>1.0</td>\n",
       "    </tr>\n",
       "    <tr>\n",
       "      <th>10</th>\n",
       "      <td>647000000.0</td>\n",
       "      <td>140000000.0</td>\n",
       "      <td>32702.0</td>\n",
       "      <td>563.0</td>\n",
       "      <td>1.3</td>\n",
       "      <td>1.0</td>\n",
       "    </tr>\n",
       "  </tbody>\n",
       "</table>\n",
       "</div>"
      ],
      "text/plain": [
       "    Total inland transport infrastructure investment  \\\n",
       "0                                        530000000.0   \n",
       "1                                        461000000.0   \n",
       "2                                        383000000.0   \n",
       "3                                        393000000.0   \n",
       "4                                        491000000.0   \n",
       "5                                        439000000.0   \n",
       "6                                        427000000.0   \n",
       "7                                        394000000.0   \n",
       "8                                        390000000.0   \n",
       "9                                        438000000.0   \n",
       "10                                       647000000.0   \n",
       "\n",
       "    Rail infrastructure maintenance  Road passenger transport  \\\n",
       "0                       160000000.0                   34917.0   \n",
       "1                       153000000.0                   32308.0   \n",
       "2                       123000000.0                   36578.0   \n",
       "3                       127000000.0                   35846.0   \n",
       "4                       143000000.0                   27038.0   \n",
       "5                       159000000.0                   27322.0   \n",
       "6                       152000000.0                   28215.0   \n",
       "7                       151000000.0                   33835.0   \n",
       "8                       144000000.0                   32702.0   \n",
       "9                       147000000.0                   32702.0   \n",
       "10                      140000000.0                   32702.0   \n",
       "\n",
       "    Road motor vehicles per one million units of current USD GDP  \\\n",
       "0                                               559.9              \n",
       "1                                               577.1              \n",
       "2                                               601.7              \n",
       "3                                               618.7              \n",
       "4                                               413.6              \n",
       "5                                               432.9              \n",
       "6                                               455.8              \n",
       "7                                               479.8              \n",
       "8                                               515.0              \n",
       "9                                               541.9              \n",
       "10                                              563.0              \n",
       "\n",
       "    Density of road (km per one hundred sq. km)  \\\n",
       "0                                           1.9   \n",
       "1                                           1.5   \n",
       "2                                           1.1   \n",
       "3                                           1.1   \n",
       "4                                           1.3   \n",
       "5                                           1.2   \n",
       "6                                           1.1   \n",
       "7                                           0.9   \n",
       "8                                           0.9   \n",
       "9                                           0.9   \n",
       "10                                          1.3   \n",
       "\n",
       "    Total railway enterprises - Number at 31.12  \n",
       "0                                           1.0  \n",
       "1                                           1.0  \n",
       "2                                           1.0  \n",
       "3                                           1.0  \n",
       "4                                           1.0  \n",
       "5                                           1.0  \n",
       "6                                           1.0  \n",
       "7                                           1.0  \n",
       "8                                           1.0  \n",
       "9                                           1.0  \n",
       "10                                          1.0  "
      ]
     },
     "execution_count": 36,
     "metadata": {},
     "output_type": "execute_result"
    }
   ],
   "source": [
    "LithuaniaDf[['Total inland transport infrastructure investment',\n",
    "'Rail infrastructure maintenance','Road passenger transport',\n",
    "'Road motor vehicles per one million units of current USD GDP',\n",
    "'Density of road (km per one hundred sq. km)',\n",
    "'Total railway enterprises - Number at 31.12']]"
   ]
  },
  {
   "cell_type": "markdown",
   "metadata": {},
   "source": [
    "# Prediction results\n",
    "This is the result if all the features are as same as the last sumple"
   ]
  },
  {
   "cell_type": "code",
   "execution_count": 37,
   "metadata": {},
   "outputs": [
    {
     "data": {
      "text/plain": [
       "array([[5.3000e+08, 1.6000e+08, 3.4917e+04, 5.5990e+02, 1.9000e+00,\n",
       "        1.0000e+00],\n",
       "       [4.6100e+08, 1.5300e+08, 3.2308e+04, 5.7710e+02, 1.5000e+00,\n",
       "        1.0000e+00],\n",
       "       [3.8300e+08, 1.2300e+08, 3.6578e+04, 6.0170e+02, 1.1000e+00,\n",
       "        1.0000e+00],\n",
       "       [3.9300e+08, 1.2700e+08, 3.5846e+04, 6.1870e+02, 1.1000e+00,\n",
       "        1.0000e+00],\n",
       "       [4.9100e+08, 1.4300e+08, 2.7038e+04, 4.1360e+02, 1.3000e+00,\n",
       "        1.0000e+00],\n",
       "       [4.3900e+08, 1.5900e+08, 2.7322e+04, 4.3290e+02, 1.2000e+00,\n",
       "        1.0000e+00],\n",
       "       [4.2700e+08, 1.5200e+08, 2.8215e+04, 4.5580e+02, 1.1000e+00,\n",
       "        1.0000e+00],\n",
       "       [3.9400e+08, 1.5100e+08, 3.3835e+04, 4.7980e+02, 9.0000e-01,\n",
       "        1.0000e+00],\n",
       "       [3.9000e+08, 1.4400e+08, 3.2702e+04, 5.1500e+02, 9.0000e-01,\n",
       "        1.0000e+00],\n",
       "       [4.3800e+08, 1.4700e+08, 3.2702e+04, 5.4190e+02, 9.0000e-01,\n",
       "        1.0000e+00],\n",
       "       [6.4700e+08, 1.4000e+08, 3.2702e+04, 5.6300e+02, 1.3000e+00,\n",
       "        1.0000e+00]])"
      ]
     },
     "execution_count": 37,
     "metadata": {},
     "output_type": "execute_result"
    }
   ],
   "source": [
    "LithuaniaDf[['Total inland transport infrastructure investment',\n",
    "'Rail infrastructure maintenance','Road passenger transport',\n",
    "'Road motor vehicles per one million units of current USD GDP',\n",
    "'Density of road (km per one hundred sq. km)',\n",
    "'Total railway enterprises - Number at 31.12']].values"
   ]
  },
  {
   "cell_type": "code",
   "execution_count": 38,
   "metadata": {},
   "outputs": [
    {
     "data": {
      "text/plain": [
       "array([177.87645935])"
      ]
     },
     "execution_count": 38,
     "metadata": {},
     "output_type": "execute_result"
    }
   ],
   "source": [
    "lr.predict([[6.4700e+08, 1.4000e+08, 3.2702e+04, 5.6300e+02, 1.3000e+00,1.0000e+00]])"
   ]
  },
  {
   "cell_type": "markdown",
   "metadata": {},
   "source": [
    "The result is similar to 175 as explected"
   ]
  },
  {
   "cell_type": "markdown",
   "metadata": {},
   "source": [
    "Prediction if we will increase the \"Total inland transport infrastructure investment\" featue:"
   ]
  },
  {
   "cell_type": "code",
   "execution_count": 39,
   "metadata": {},
   "outputs": [
    {
     "data": {
      "text/plain": [
       "array([164.1035364])"
      ]
     },
     "execution_count": 39,
     "metadata": {},
     "output_type": "execute_result"
    }
   ],
   "source": [
    "lr.predict([[6.7700e+08, 1.4000e+08, 3.2702e+04, 5.6300e+02, 1.3000e+00,1.0000e+00]])"
   ]
  },
  {
   "cell_type": "markdown",
   "metadata": {},
   "source": [
    "Number road casulties will decrease"
   ]
  },
  {
   "cell_type": "markdown",
   "metadata": {},
   "source": [
    "Prediction if we will increase the \"Rail infrastructure maintenance\" featue:"
   ]
  },
  {
   "cell_type": "code",
   "execution_count": 40,
   "metadata": {},
   "outputs": [
    {
     "data": {
      "text/plain": [
       "array([154.66680562])"
      ]
     },
     "execution_count": 40,
     "metadata": {},
     "output_type": "execute_result"
    }
   ],
   "source": [
    "lr.predict([[6.4700e+08, 1.5000e+08, 3.2702e+04, 5.6300e+02, 1.3000e+00,1.0000e+00]])"
   ]
  },
  {
   "cell_type": "markdown",
   "metadata": {},
   "source": [
    "Number of road casulties will decrease"
   ]
  },
  {
   "cell_type": "markdown",
   "metadata": {},
   "source": [
    "Prediction if we will increase the \"Road passenger transport\" featue:"
   ]
  },
  {
   "cell_type": "code",
   "execution_count": 41,
   "metadata": {},
   "outputs": [
    {
     "data": {
      "text/plain": [
       "array([169.79015811])"
      ]
     },
     "execution_count": 41,
     "metadata": {},
     "output_type": "execute_result"
    }
   ],
   "source": [
    "lr.predict([[6.4700e+08, 1.4000e+08, 3.6002e+04, 5.6300e+02, 1.3000e+00,1.0000e+00]])"
   ]
  },
  {
   "cell_type": "markdown",
   "metadata": {},
   "source": [
    "Number road casulties will decrease"
   ]
  },
  {
   "cell_type": "markdown",
   "metadata": {},
   "source": [
    "Prediction if we will increase the \"Road motor vehicles per one million units of current USD GDP\" featue:"
   ]
  },
  {
   "cell_type": "code",
   "execution_count": 42,
   "metadata": {},
   "outputs": [
    {
     "data": {
      "text/plain": [
       "array([172.20086662])"
      ]
     },
     "execution_count": 42,
     "metadata": {},
     "output_type": "execute_result"
    }
   ],
   "source": [
    "lr.predict([[6.4700e+08, 1.4000e+08, 3.2702e+04, 9.9000e+02, 1.3000e+00,1.0000e+00]])"
   ]
  },
  {
   "cell_type": "markdown",
   "metadata": {},
   "source": [
    "Number road casulties will decrease much slowly"
   ]
  },
  {
   "cell_type": "markdown",
   "metadata": {},
   "source": [
    "Prediction if we will increase the \"Density of road (km per one hundred sq. km)\" featue:"
   ]
  },
  {
   "cell_type": "code",
   "execution_count": 43,
   "metadata": {},
   "outputs": [
    {
     "data": {
      "text/plain": [
       "array([221.73231394])"
      ]
     },
     "execution_count": 43,
     "metadata": {},
     "output_type": "execute_result"
    }
   ],
   "source": [
    "lr.predict([[6.4700e+08, 1.4000e+08, 3.2702e+04, 5.6300e+02, 1.5000e+00,1.0000e+00]])"
   ]
  },
  {
   "cell_type": "markdown",
   "metadata": {},
   "source": [
    "Number road casulties will increase raidly"
   ]
  },
  {
   "cell_type": "markdown",
   "metadata": {},
   "source": [
    "Prediction if we will increase the \"Total railway enterprises - Number at 31.12\" featue:"
   ]
  },
  {
   "cell_type": "code",
   "execution_count": 44,
   "metadata": {},
   "outputs": [
    {
     "data": {
      "text/plain": [
       "array([177.87645935])"
      ]
     },
     "execution_count": 44,
     "metadata": {},
     "output_type": "execute_result"
    }
   ],
   "source": [
    "lr.predict([[6.4700e+08, 1.4000e+08, 3.2702e+04, 5.6300e+02, 1.3000e+00,8.0000e+00]])"
   ]
  },
  {
   "cell_type": "markdown",
   "metadata": {},
   "source": [
    "no impact at all"
   ]
  },
  {
   "cell_type": "markdown",
   "metadata": {},
   "source": []
  }
 ],
 "metadata": {
  "kernelspec": {
   "display_name": "Python 3.9.7 ('base')",
   "language": "python",
   "name": "python3"
  },
  "language_info": {
   "codemirror_mode": {
    "name": "ipython",
    "version": 3
   },
   "file_extension": ".py",
   "mimetype": "text/x-python",
   "name": "python",
   "nbconvert_exporter": "python",
   "pygments_lexer": "ipython3",
   "version": "3.9.7"
  },
  "orig_nbformat": 4,
  "vscode": {
   "interpreter": {
    "hash": "3d10a69ff13bc369182af9f00cae5e52c0028de868828cb7bedeea4b548fe8b1"
   }
  }
 },
 "nbformat": 4,
 "nbformat_minor": 2
}

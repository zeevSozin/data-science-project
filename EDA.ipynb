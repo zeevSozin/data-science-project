{
 "cells": [
  {
   "cell_type": "markdown",
   "metadata": {},
   "source": [
    "Library import"
   ]
  },
  {
   "cell_type": "code",
   "execution_count": 22,
   "metadata": {},
   "outputs": [],
   "source": [
    "import pandas as pd\n",
    "import numpy as np\n",
    "from matplotlib import pyplot as plt\n",
    "import seaborn as sns\n",
    "from scipy import stats"
   ]
  },
  {
   "cell_type": "markdown",
   "metadata": {},
   "source": [
    "Since we still have some missing valuse in the overall data frame, and because we are intrested to explore only rew countries with the most ascending death rates throw the years (of course Israel is included) we will extract those countries first and the we will see how can comlete the missing data if it is relevant!"
   ]
  },
  {
   "cell_type": "code",
   "execution_count": 23,
   "metadata": {},
   "outputs": [],
   "source": [
    "CountryDataFrame=pd.read_csv('./DataFrames/Country_VS_DataFrames.csv')\n"
   ]
  },
  {
   "cell_type": "code",
   "execution_count": 30,
   "metadata": {},
   "outputs": [],
   "source": [
    "CountryDataFrame.drop(labels='Unnamed: 0',axis=1,inplace=True)"
   ]
  },
  {
   "cell_type": "code",
   "execution_count": 32,
   "metadata": {},
   "outputs": [
    {
     "ename": "TypeError",
     "evalue": "string indices must be integers",
     "output_type": "error",
     "traceback": [
      "\u001b[1;31m---------------------------------------------------------------------------\u001b[0m",
      "\u001b[1;31mTypeError\u001b[0m                                 Traceback (most recent call last)",
      "\u001b[1;32m~\\AppData\\Local\\Temp/ipykernel_12036/3988529240.py\u001b[0m in \u001b[0;36m<module>\u001b[1;34m\u001b[0m\n\u001b[0;32m      2\u001b[0m \u001b[1;32mfor\u001b[0m \u001b[0mi\u001b[0m \u001b[1;32min\u001b[0m \u001b[0mCountryDataFrame\u001b[0m\u001b[1;33m.\u001b[0m\u001b[0mindex\u001b[0m\u001b[1;33m:\u001b[0m\u001b[1;33m\u001b[0m\u001b[1;33m\u001b[0m\u001b[0m\n\u001b[0;32m      3\u001b[0m     \u001b[0mtempDf\u001b[0m\u001b[1;33m=\u001b[0m\u001b[0mCountryDataFrame\u001b[0m\u001b[1;33m.\u001b[0m\u001b[0miloc\u001b[0m\u001b[1;33m[\u001b[0m\u001b[0mi\u001b[0m\u001b[1;33m,\u001b[0m\u001b[1;36m1\u001b[0m\u001b[1;33m]\u001b[0m\u001b[1;33m\u001b[0m\u001b[1;33m\u001b[0m\u001b[0m\n\u001b[1;32m----> 4\u001b[1;33m     \u001b[0mx\u001b[0m\u001b[1;33m=\u001b[0m\u001b[0mtempDf\u001b[0m\u001b[1;33m[\u001b[0m\u001b[1;34m\"Year\"\u001b[0m\u001b[1;33m]\u001b[0m\u001b[1;33m\u001b[0m\u001b[1;33m\u001b[0m\u001b[0m\n\u001b[0m\u001b[0;32m      5\u001b[0m     \u001b[0my\u001b[0m\u001b[1;33m=\u001b[0m\u001b[0mtempDf\u001b[0m\u001b[1;33m[\u001b[0m\u001b[1;34m\"Killed\"\u001b[0m\u001b[1;33m]\u001b[0m\u001b[1;33m\u001b[0m\u001b[1;33m\u001b[0m\u001b[0m\n\u001b[0;32m      6\u001b[0m     \u001b[0mslope\u001b[0m\u001b[1;33m,\u001b[0m\u001b[0mintercept\u001b[0m\u001b[1;33m,\u001b[0m\u001b[0mr\u001b[0m\u001b[1;33m,\u001b[0m\u001b[0mp\u001b[0m\u001b[1;33m,\u001b[0m\u001b[0mstd_err\u001b[0m\u001b[1;33m=\u001b[0m\u001b[0mstats\u001b[0m\u001b[1;33m.\u001b[0m\u001b[0mlinregress\u001b[0m\u001b[1;33m(\u001b[0m\u001b[0mx\u001b[0m\u001b[1;33m,\u001b[0m\u001b[0my\u001b[0m\u001b[1;33m)\u001b[0m\u001b[1;33m\u001b[0m\u001b[1;33m\u001b[0m\u001b[0m\n",
      "\u001b[1;31mTypeError\u001b[0m: string indices must be integers"
     ]
    }
   ],
   "source": [
    "slopeList=list()\n",
    "for i in CountryDataFrame.index:\n",
    "    tempDf=CountryDataFrame.iloc[i,1]\n",
    "    x=tempDf[\"Year\"]\n",
    "    y=tempDf[\"Killed\"]\n",
    "    slope,intercept,r,p,std_err=stats.linregress(x,y)\n",
    "    slopeList.append(slope)"
   ]
  },
  {
   "cell_type": "code",
   "execution_count": 33,
   "metadata": {},
   "outputs": [
    {
     "data": {
      "text/plain": [
       "'    Unnamed: 0  Country  Year  \\\\\\n0            0  Austria  2010   \\n1           19  Austria  2011   \\n2           38  Austria  2012   \\n3           57  Austria  2013   \\n4           76  Austria  2014   \\n5           95  Austria  2015   \\n6          114  Austria  2016   \\n7          133  Austria  2017   \\n8          152  Austria  2018   \\n9          170  Austria  2019   \\n10         187  Austria  2020   \\n\\n    Total inland transport infrastructure investment  \\\\\\n0                                       2.337000e+09   \\n1                                       2.448000e+09   \\n2                                       2.018000e+09   \\n3                                       2.022000e+09   \\n4                                       2.030000e+09   \\n5                                       2.006000e+09   \\n6                                       1.969000e+09   \\n7                                       2.070000e+09   \\n8                                       2.148000e+09   \\n9                                       2.303500e+09   \\n10                                      2.553700e+09   \\n\\n    Rail infrastructure maintenance  Total inland passenger transport  \\\\\\n0                       559000000.0                               NaN   \\n1                       494000000.0                               NaN   \\n2                       517000000.0                               NaN   \\n3                       559000000.0                               NaN   \\n4                       667000000.0                               NaN   \\n5                       692000000.0                               NaN   \\n6                       697000000.0                               NaN   \\n7                       687000000.0                               NaN   \\n8                       726000000.0                               NaN   \\n9                       752000000.0                               NaN   \\n10                      791000000.0                               NaN   \\n\\n    Road passenger transport  \\\\\\n0                        NaN   \\n1                        NaN   \\n2                        NaN   \\n3                        NaN   \\n4                        NaN   \\n5                        NaN   \\n6                        NaN   \\n7                        NaN   \\n8                        NaN   \\n9                        NaN   \\n10                       NaN   \\n\\n    Total inland freight transport in tonne-km per one thousand units of current USD GDP  \\\\\\n0                                               116.6                                      \\n1                                               108.2                                      \\n2                                               109.9                                      \\n3                                               106.5                                      \\n4                                               108.0                                      \\n5                                               126.3                                      \\n6                                               126.0                                      \\n7                                               122.4                                      \\n8                                               111.3                                      \\n9                                               114.4                                      \\n10                                              113.2                                      \\n\\n    Road motor vehicles per one million units of current USD GDP  \\\\\\n0                                               521.3              \\n1                                               529.2              \\n2                                               535.4              \\n3                                               540.6              \\n4                                               543.1              \\n5                                               543.2              \\n6                                               543.5              \\n7                                               548.1              \\n8                                               554.1              \\n9                                               560.7              \\n10                                              565.1              \\n\\n    CO2 emissions from transport in tonnes per one million units of current USD GDP  \\\\\\n0                                                57.4                                 \\n1                                                50.3                                 \\n2                                                52.9                                 \\n3                                                53.7                                 \\n4                                                51.2                                 \\n5                                                60.6                                 \\n6                                                60.6                                 \\n7                                                58.8                                 \\n8                                                54.4                                 \\n9                                                56.3                                 \\n10                                                NaN                                 \\n\\n    ...  Total inland waterways - Length at 31.12 (km)  \\\\\\n0   ...                                          351.0   \\n1   ...                                          351.0   \\n2   ...                                          351.0   \\n3   ...                                          351.0   \\n4   ...                                          351.0   \\n5   ...                                          351.0   \\n6   ...                                          351.0   \\n7   ...                                          351.0   \\n8   ...                                          351.0   \\n9   ...                                            NaN   \\n10  ...                                            NaN   \\n\\n    Total railway enterprises - Number at 31.12  \\\\\\n0                                          23.0   \\n1                                          37.0   \\n2                                          39.0   \\n3                                          40.0   \\n4                                          40.0   \\n5                                          43.0   \\n6                                          39.0   \\n7                                          43.0   \\n8                                          44.0   \\n9                                           NaN   \\n10                                          NaN   \\n\\n    Total self-propelled vessels - Number at 31.12 (Units)  \\\\\\n0                                                 NaN        \\n1                                                 NaN        \\n2                                                 NaN        \\n3                                                 NaN        \\n4                                                 NaN        \\n5                                                 NaN        \\n6                                                 NaN        \\n7                                                 NaN        \\n8                                                 NaN        \\n9                                                 NaN        \\n10                                                NaN        \\n\\n    Road casualties (injured + killed)  Road injury accident  \\\\\\n0                              46410.0               35348.0   \\n1                              45548.0               35129.0   \\n2                              51426.0               40831.0   \\n3                              48499.0               38502.0   \\n4                              48100.0               37957.0   \\n5                              47845.0               37960.0   \\n6                              48825.0               38466.0   \\n7                              47672.0               37402.0   \\n8                              46934.0               36846.0   \\n9                              45556.0               35736.0   \\n10                             38074.0               30670.0   \\n\\n    Road fatalities per one million inhabitant  \\\\\\n0                                         66.0   \\n1                                         62.3   \\n2                                         63.0   \\n3                                         53.7   \\n4                                         50.3   \\n5                                         55.4   \\n6                                         49.4   \\n7                                         47.1   \\n8                                         46.3   \\n9                                         46.8   \\n10                                        38.6   \\n\\n    Total injury accidents - Number at 31.12 (Unit)  \\\\\\n0                                           35348.0   \\n1                                           35129.0   \\n2                                           40831.0   \\n3                                           38502.0   \\n4                                           37957.0   \\n5                                           37960.0   \\n6                                           38466.0   \\n7                                           37402.0   \\n8                                           36846.0   \\n9                                               NaN   \\n10                                              NaN   \\n\\n    Killed - rate per population  Killed  NaNs_at_this_row  \\n0                            6.6   552.0                 7  \\n1                            6.2   523.0                 7  \\n2                            6.3   531.0                 6  \\n3                            5.4   455.0                 5  \\n4                            5.1   430.0                 5  \\n5                            5.6   479.0                 7  \\n6                            5.0   432.0                 5  \\n7                            4.7   414.0                 7  \\n8                            4.6   409.0                 7  \\n9                            4.7   416.0                25  \\n10                           3.9   344.0                26  \\n\\n[11 rows x 35 columns]'"
      ]
     },
     "execution_count": 33,
     "metadata": {},
     "output_type": "execute_result"
    }
   ],
   "source": [
    "tempDf"
   ]
  },
  {
   "cell_type": "code",
   "execution_count": null,
   "metadata": {},
   "outputs": [],
   "source": []
  }
 ],
 "metadata": {
  "kernelspec": {
   "display_name": "Python 3.9.7 ('base')",
   "language": "python",
   "name": "python3"
  },
  "language_info": {
   "codemirror_mode": {
    "name": "ipython",
    "version": 3
   },
   "file_extension": ".py",
   "mimetype": "text/x-python",
   "name": "python",
   "nbconvert_exporter": "python",
   "pygments_lexer": "ipython3",
   "version": "3.9.7"
  },
  "orig_nbformat": 4,
  "vscode": {
   "interpreter": {
    "hash": "beb1a02305ea04626860be89354a45afa8e647c98cd83c633f8e81f91a246188"
   }
  }
 },
 "nbformat": 4,
 "nbformat_minor": 2
}
